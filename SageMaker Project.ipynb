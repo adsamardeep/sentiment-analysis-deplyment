{
 "cells": [
  {
   "cell_type": "markdown",
   "metadata": {},
   "source": [
    "# Creating a Sentiment Analysis Web App\n",
    "## Using PyTorch and SageMaker\n",
    "\n",
    "_Deep Learning Nanodegree Program | Deployment_\n",
    "\n",
    "---\n",
    "\n",
    "Now that we have a basic understanding of how SageMaker works we will try to use it to construct a complete project from end to end. Our goal will be to have a simple web page which a user can use to enter a movie review. The web page will then send the review off to our deployed model which will predict the sentiment of the entered review.\n",
    "\n",
    "## Instructions\n",
    "\n",
    "Some template code has already been provided for you, and you will need to implement additional functionality to successfully complete this notebook. You will not need to modify the included code beyond what is requested. Sections that begin with '**TODO**' in the header indicate that you need to complete or implement some portion within them. Instructions will be provided for each section and the specifics of the implementation are marked in the code block with a `# TODO: ...` comment. Please be sure to read the instructions carefully!\n",
    "\n",
    "In addition to implementing code, there will be questions for you to answer which relate to the task and your implementation. Each section where you will answer a question is preceded by a '**Question:**' header. Carefully read each question and provide your answer below the '**Answer:**' header by editing the Markdown cell.\n",
    "\n",
    "> **Note**: Code and Markdown cells can be executed using the **Shift+Enter** keyboard shortcut. In addition, a cell can be edited by typically clicking it (double-click for Markdown cells) or by pressing **Enter** while it is highlighted.\n",
    "\n",
    "## General Outline\n",
    "\n",
    "Recall the general outline for SageMaker projects using a notebook instance.\n",
    "\n",
    "1. Download or otherwise retrieve the data.\n",
    "2. Process / Prepare the data.\n",
    "3. Upload the processed data to S3.\n",
    "4. Train a chosen model.\n",
    "5. Test the trained model (typically using a batch transform job).\n",
    "6. Deploy the trained model.\n",
    "7. Use the deployed model.\n",
    "\n",
    "For this project, you will be following the steps in the general outline with some modifications. \n",
    "\n",
    "First, you will not be testing the model in its own step. You will still be testing the model, however, you will do it by deploying your model and then using the deployed model by sending the test data to it. One of the reasons for doing this is so that you can make sure that your deployed model is working correctly before moving forward.\n",
    "\n",
    "In addition, you will deploy and use your trained model a second time. In the second iteration you will customize the way that your trained model is deployed by including some of your own code. In addition, your newly deployed model will be used in the sentiment analysis web app."
   ]
  },
  {
   "cell_type": "markdown",
   "metadata": {},
   "source": [
    "## Step 1: Downloading the data\n",
    "\n",
    "As in the XGBoost in SageMaker notebook, we will be using the [IMDb dataset](http://ai.stanford.edu/~amaas/data/sentiment/)\n",
    "\n",
    "> Maas, Andrew L., et al. [Learning Word Vectors for Sentiment Analysis](http://ai.stanford.edu/~amaas/data/sentiment/). In _Proceedings of the 49th Annual Meeting of the Association for Computational Linguistics: Human Language Technologies_. Association for Computational Linguistics, 2011."
   ]
  },
  {
   "cell_type": "code",
   "execution_count": 1,
   "metadata": {},
   "outputs": [
    {
     "name": "stdout",
     "output_type": "stream",
     "text": [
      "mkdir: cannot create directory ‘../data’: File exists\n",
      "--2020-05-13 01:23:52--  http://ai.stanford.edu/~amaas/data/sentiment/aclImdb_v1.tar.gz\n",
      "Resolving ai.stanford.edu (ai.stanford.edu)... 171.64.68.10\n",
      "Connecting to ai.stanford.edu (ai.stanford.edu)|171.64.68.10|:80... connected.\n",
      "HTTP request sent, awaiting response... 200 OK\n",
      "Length: 84125825 (80M) [application/x-gzip]\n",
      "Saving to: ‘../data/aclImdb_v1.tar.gz’\n",
      "\n",
      "../data/aclImdb_v1. 100%[===================>]  80.23M  25.3MB/s    in 3.8s    \n",
      "\n",
      "2020-05-13 01:23:56 (21.2 MB/s) - ‘../data/aclImdb_v1.tar.gz’ saved [84125825/84125825]\n",
      "\n"
     ]
    }
   ],
   "source": [
    "%mkdir ../data\n",
    "!wget -O ../data/aclImdb_v1.tar.gz http://ai.stanford.edu/~amaas/data/sentiment/aclImdb_v1.tar.gz\n",
    "!tar -zxf ../data/aclImdb_v1.tar.gz -C ../data"
   ]
  },
  {
   "cell_type": "markdown",
   "metadata": {},
   "source": [
    "## Step 2: Preparing and Processing the data\n",
    "\n",
    "Also, as in the XGBoost notebook, we will be doing some initial data processing. The first few steps are the same as in the XGBoost example. To begin with, we will read in each of the reviews and combine them into a single input structure. Then, we will split the dataset into a training set and a testing set."
   ]
  },
  {
   "cell_type": "code",
   "execution_count": 2,
   "metadata": {},
   "outputs": [],
   "source": [
    "import os\n",
    "import glob\n",
    "\n",
    "def read_imdb_data(data_dir='../data/aclImdb'):\n",
    "    data = {}\n",
    "    labels = {}\n",
    "    \n",
    "    for data_type in ['train', 'test']:\n",
    "        data[data_type] = {}\n",
    "        labels[data_type] = {}\n",
    "        \n",
    "        for sentiment in ['pos', 'neg']:\n",
    "            data[data_type][sentiment] = []\n",
    "            labels[data_type][sentiment] = []\n",
    "            \n",
    "            path = os.path.join(data_dir, data_type, sentiment, '*.txt')\n",
    "            files = glob.glob(path)\n",
    "            \n",
    "            for f in files:\n",
    "                with open(f) as review:\n",
    "                    data[data_type][sentiment].append(review.read())\n",
    "                    # Here we represent a positive review by '1' and a negative review by '0'\n",
    "                    labels[data_type][sentiment].append(1 if sentiment == 'pos' else 0)\n",
    "                    \n",
    "            assert len(data[data_type][sentiment]) == len(labels[data_type][sentiment]), \\\n",
    "                    \"{}/{} data size does not match labels size\".format(data_type, sentiment)\n",
    "                \n",
    "    return data, labels"
   ]
  },
  {
   "cell_type": "code",
   "execution_count": 3,
   "metadata": {},
   "outputs": [
    {
     "name": "stdout",
     "output_type": "stream",
     "text": [
      "IMDB reviews: train = 12500 pos / 12500 neg, test = 12500 pos / 12500 neg\n"
     ]
    }
   ],
   "source": [
    "data, labels = read_imdb_data()\n",
    "print(\"IMDB reviews: train = {} pos / {} neg, test = {} pos / {} neg\".format(\n",
    "            len(data['train']['pos']), len(data['train']['neg']),\n",
    "            len(data['test']['pos']), len(data['test']['neg'])))"
   ]
  },
  {
   "cell_type": "markdown",
   "metadata": {},
   "source": [
    "Now that we've read the raw training and testing data from the downloaded dataset, we will combine the positive and negative reviews and shuffle the resulting records."
   ]
  },
  {
   "cell_type": "code",
   "execution_count": 4,
   "metadata": {},
   "outputs": [],
   "source": [
    "from sklearn.utils import shuffle\n",
    "\n",
    "def prepare_imdb_data(data, labels):\n",
    "    \"\"\"Prepare training and test sets from IMDb movie reviews.\"\"\"\n",
    "    \n",
    "    #Combine positive and negative reviews and labels\n",
    "    data_train = data['train']['pos'] + data['train']['neg']\n",
    "    data_test = data['test']['pos'] + data['test']['neg']\n",
    "    labels_train = labels['train']['pos'] + labels['train']['neg']\n",
    "    labels_test = labels['test']['pos'] + labels['test']['neg']\n",
    "    \n",
    "    #Shuffle reviews and corresponding labels within training and test sets\n",
    "    data_train, labels_train = shuffle(data_train, labels_train)\n",
    "    data_test, labels_test = shuffle(data_test, labels_test)\n",
    "    \n",
    "    # Return a unified training data, test data, training labels, test labets\n",
    "    return data_train, data_test, labels_train, labels_test"
   ]
  },
  {
   "cell_type": "code",
   "execution_count": 5,
   "metadata": {},
   "outputs": [
    {
     "name": "stdout",
     "output_type": "stream",
     "text": [
      "IMDb reviews (combined): train = 25000, test = 25000\n"
     ]
    }
   ],
   "source": [
    "train_X, test_X, train_y, test_y = prepare_imdb_data(data, labels)\n",
    "print(\"IMDb reviews (combined): train = {}, test = {}\".format(len(train_X), len(test_X)))"
   ]
  },
  {
   "cell_type": "markdown",
   "metadata": {},
   "source": [
    "Now that we have our training and testing sets unified and prepared, we should do a quick check and see an example of the data our model will be trained on. This is generally a good idea as it allows you to see how each of the further processing steps affects the reviews and it also ensures that the data has been loaded correctly."
   ]
  },
  {
   "cell_type": "code",
   "execution_count": 6,
   "metadata": {},
   "outputs": [
    {
     "name": "stdout",
     "output_type": "stream",
     "text": [
      "<br /><br />\"Burning Paradise\" is a combination of neo-Shaw Brothers action and Ringo Lam's urban cynicism. When one watches the film, they might feel the fight scenes are only mediocre in nature but that doesn't matter, it's attitude and atmosphere that counts. This great film has both!! Always trying to be different than his contemporaries, Lam gives us to traditional heroes(Fong Sai-Yuk and Hung Shi-Kwan)and puts them in a \"Raiders of the Lost Ark\" setting. However, these are not the light-hearted comedic incarnations that you might see in a Jet Li movie. Instead these guys fight to the death with brutal results. What makes the film even better is that anyone could die at anytime, there is no holding back. Too bad, they don't make films like this more often.\n",
      "1\n"
     ]
    }
   ],
   "source": [
    "print(train_X[100])\n",
    "print(train_y[100])"
   ]
  },
  {
   "cell_type": "markdown",
   "metadata": {},
   "source": [
    "The first step in processing the reviews is to make sure that any html tags that appear should be removed. In addition we wish to tokenize our input, that way words such as *entertained* and *entertaining* are considered the same with regard to sentiment analysis."
   ]
  },
  {
   "cell_type": "code",
   "execution_count": 7,
   "metadata": {},
   "outputs": [],
   "source": [
    "import nltk\n",
    "from nltk.corpus import stopwords\n",
    "from nltk.stem.porter import *\n",
    "\n",
    "import re\n",
    "from bs4 import BeautifulSoup\n",
    "\n",
    "def review_to_words(review):\n",
    "    nltk.download(\"stopwords\", quiet=True)\n",
    "    stemmer = PorterStemmer()\n",
    "    \n",
    "    text = BeautifulSoup(review, \"html.parser\").get_text() # Remove HTML tags\n",
    "    text = re.sub(r\"[^a-zA-Z0-9]\", \" \", text.lower()) # Convert to lower case\n",
    "    words = text.split() # Split string into words\n",
    "    words = [w for w in words if w not in stopwords.words(\"english\")] # Remove stopwords\n",
    "    words = [PorterStemmer().stem(w) for w in words] # stem\n",
    "    \n",
    "    return words"
   ]
  },
  {
   "cell_type": "markdown",
   "metadata": {},
   "source": [
    "The `review_to_words` method defined above uses `BeautifulSoup` to remove any html tags that appear and uses the `nltk` package to tokenize the reviews. As a check to ensure we know how everything is working, try applying `review_to_words` to one of the reviews in the training set."
   ]
  },
  {
   "cell_type": "code",
   "execution_count": 8,
   "metadata": {},
   "outputs": [
    {
     "data": {
      "text/plain": [
       "['burn',\n",
       " 'paradis',\n",
       " 'combin',\n",
       " 'neo',\n",
       " 'shaw',\n",
       " 'brother',\n",
       " 'action',\n",
       " 'ringo',\n",
       " 'lam',\n",
       " 'urban',\n",
       " 'cynic',\n",
       " 'one',\n",
       " 'watch',\n",
       " 'film',\n",
       " 'might',\n",
       " 'feel',\n",
       " 'fight',\n",
       " 'scene',\n",
       " 'mediocr',\n",
       " 'natur',\n",
       " 'matter',\n",
       " 'attitud',\n",
       " 'atmospher',\n",
       " 'count',\n",
       " 'great',\n",
       " 'film',\n",
       " 'alway',\n",
       " 'tri',\n",
       " 'differ',\n",
       " 'contemporari',\n",
       " 'lam',\n",
       " 'give',\n",
       " 'us',\n",
       " 'tradit',\n",
       " 'hero',\n",
       " 'fong',\n",
       " 'sai',\n",
       " 'yuk',\n",
       " 'hung',\n",
       " 'shi',\n",
       " 'kwan',\n",
       " 'put',\n",
       " 'raider',\n",
       " 'lost',\n",
       " 'ark',\n",
       " 'set',\n",
       " 'howev',\n",
       " 'light',\n",
       " 'heart',\n",
       " 'comed',\n",
       " 'incarn',\n",
       " 'might',\n",
       " 'see',\n",
       " 'jet',\n",
       " 'li',\n",
       " 'movi',\n",
       " 'instead',\n",
       " 'guy',\n",
       " 'fight',\n",
       " 'death',\n",
       " 'brutal',\n",
       " 'result',\n",
       " 'make',\n",
       " 'film',\n",
       " 'even',\n",
       " 'better',\n",
       " 'anyon',\n",
       " 'could',\n",
       " 'die',\n",
       " 'anytim',\n",
       " 'hold',\n",
       " 'back',\n",
       " 'bad',\n",
       " 'make',\n",
       " 'film',\n",
       " 'like',\n",
       " 'often']"
      ]
     },
     "execution_count": 8,
     "metadata": {},
     "output_type": "execute_result"
    }
   ],
   "source": [
    "# TODO: Apply review_to_words to a review (train_X[100] or any other review)\n",
    "review_to_words(train_X[100])"
   ]
  },
  {
   "cell_type": "markdown",
   "metadata": {},
   "source": [
    "**Question:** Above we mentioned that `review_to_words` method removes html formatting and allows us to tokenize the words found in a review, for example, converting *entertained* and *entertaining* into *entertain* so that they are treated as though they are the same word. What else, if anything, does this method do to the input?"
   ]
  },
  {
   "cell_type": "markdown",
   "metadata": {},
   "source": [
    "**Answer:**\n",
    "Asside from stemming, this function also does:\n",
    "\n",
    "* Remove any unnecessary characters.\n",
    "* Remove HTML tags.\n",
    "* Convert to lower case.\n",
    "* Remove stopwords."
   ]
  },
  {
   "cell_type": "markdown",
   "metadata": {},
   "source": [
    "The method below applies the `review_to_words` method to each of the reviews in the training and testing datasets. In addition it caches the results. This is because performing this processing step can take a long time. This way if you are unable to complete the notebook in the current session, you can come back without needing to process the data a second time."
   ]
  },
  {
   "cell_type": "code",
   "execution_count": 9,
   "metadata": {},
   "outputs": [],
   "source": [
    "import pickle\n",
    "\n",
    "cache_dir = os.path.join(\"../cache\", \"sentiment_analysis\")  # where to store cache files\n",
    "os.makedirs(cache_dir, exist_ok=True)  # ensure cache directory exists\n",
    "\n",
    "def preprocess_data(data_train, data_test, labels_train, labels_test,\n",
    "                    cache_dir=cache_dir, cache_file=\"preprocessed_data.pkl\"):\n",
    "    \"\"\"Convert each review to words; read from cache if available.\"\"\"\n",
    "\n",
    "    # If cache_file is not None, try to read from it first\n",
    "    cache_data = None\n",
    "    if cache_file is not None:\n",
    "        try:\n",
    "            with open(os.path.join(cache_dir, cache_file), \"rb\") as f:\n",
    "                cache_data = pickle.load(f)\n",
    "            print(\"Read preprocessed data from cache file:\", cache_file)\n",
    "        except:\n",
    "            pass  # unable to read from cache, but that's okay\n",
    "    \n",
    "    # If cache is missing, then do the heavy lifting\n",
    "    if cache_data is None:\n",
    "        # Preprocess training and test data to obtain words for each review\n",
    "        #words_train = list(map(review_to_words, data_train))\n",
    "        #words_test = list(map(review_to_words, data_test))\n",
    "        words_train = [review_to_words(review) for review in data_train]\n",
    "        words_test = [review_to_words(review) for review in data_test]\n",
    "        \n",
    "        # Write to cache file for future runs\n",
    "        if cache_file is not None:\n",
    "            cache_data = dict(words_train=words_train, words_test=words_test,\n",
    "                              labels_train=labels_train, labels_test=labels_test)\n",
    "            with open(os.path.join(cache_dir, cache_file), \"wb\") as f:\n",
    "                pickle.dump(cache_data, f)\n",
    "            print(\"Wrote preprocessed data to cache file:\", cache_file)\n",
    "    else:\n",
    "        # Unpack data loaded from cache file\n",
    "        words_train, words_test, labels_train, labels_test = (cache_data['words_train'],\n",
    "                cache_data['words_test'], cache_data['labels_train'], cache_data['labels_test'])\n",
    "    \n",
    "    return words_train, words_test, labels_train, labels_test"
   ]
  },
  {
   "cell_type": "code",
   "execution_count": 10,
   "metadata": {},
   "outputs": [
    {
     "name": "stdout",
     "output_type": "stream",
     "text": [
      "Read preprocessed data from cache file: preprocessed_data.pkl\n"
     ]
    }
   ],
   "source": [
    "# Preprocess data\n",
    "train_X, test_X, train_y, test_y = preprocess_data(train_X, test_X, train_y, test_y)"
   ]
  },
  {
   "cell_type": "markdown",
   "metadata": {},
   "source": [
    "## Transform the data\n",
    "\n",
    "In the XGBoost notebook we transformed the data from its word representation to a bag-of-words feature representation. For the model we are going to construct in this notebook we will construct a feature representation which is very similar. To start, we will represent each word as an integer. Of course, some of the words that appear in the reviews occur very infrequently and so likely don't contain much information for the purposes of sentiment analysis. The way we will deal with this problem is that we will fix the size of our working vocabulary and we will only include the words that appear most frequently. We will then combine all of the infrequent words into a single category and, in our case, we will label it as `1`.\n",
    "\n",
    "Since we will be using a recurrent neural network, it will be convenient if the length of each review is the same. To do this, we will fix a size for our reviews and then pad short reviews with the category 'no word' (which we will label `0`) and truncate long reviews."
   ]
  },
  {
   "cell_type": "markdown",
   "metadata": {},
   "source": [
    "### (TODO) Create a word dictionary\n",
    "\n",
    "To begin with, we need to construct a way to map words that appear in the reviews to integers. Here we fix the size of our vocabulary (including the 'no word' and 'infrequent' categories) to be `5000` but you may wish to change this to see how it affects the model.\n",
    "\n",
    "> **TODO:** Complete the implementation for the `build_dict()` method below. Note that even though the vocab_size is set to `5000`, we only want to construct a mapping for the most frequently appearing `4998` words. This is because we want to reserve the special labels `0` for 'no word' and `1` for 'infrequent word'."
   ]
  },
  {
   "cell_type": "code",
   "execution_count": 11,
   "metadata": {},
   "outputs": [],
   "source": [
    "import numpy as np\n",
    "from collections import Counter\n",
    "\n",
    "def get_word_count(data):\n",
    "    \"\"\"\n",
    "    Determines how often each word appears in `data`. Note that `data` is a list of sentences and that a\n",
    "    sentence is a list of words.\n",
    "    return: A dict storing the words that appear in the reviews along with how often they occur\n",
    "    \"\"\"\n",
    "    word_count = {} \n",
    "    for review in data:\n",
    "        for word in review:\n",
    "            if word in word_count:\n",
    "                word_count[word] += 1\n",
    "            else: \n",
    "                word_count[word] = 1\n",
    "    return word_count\n",
    "\n",
    "def build_dict(data, vocab_size = 5000):\n",
    "    \"\"\"Construct and return a dictionary mapping each of the most frequently appearing words to a unique integer.\"\"\"\n",
    "\n",
    "    word_count = get_word_count(data)\n",
    "     # TODO: Sort the words found in `data` so that sorted_words[0] is the most frequently appearing word and\n",
    "    #       sorted_words[-1] is the least frequently appearing word.  \n",
    "    \n",
    "    sorted_words = [v[0] for v in sorted(word_count.items(), key=lambda kv: kv[1], reverse=True)]                \n",
    "    \n",
    "    word_dict = {} # This is what we are building, a dictionary that translates words into integers\n",
    "    for idx, word in enumerate(sorted_words[:vocab_size - 2]): # The -2 is so that we save room for the 'no word'\n",
    "        word_dict[word] = idx + 2                              # 'infrequent' labels\n",
    "        \n",
    "    return word_dict"
   ]
  },
  {
   "cell_type": "code",
   "execution_count": 12,
   "metadata": {},
   "outputs": [],
   "source": [
    "word_dict = build_dict(train_X)"
   ]
  },
  {
   "cell_type": "code",
   "execution_count": 13,
   "metadata": {},
   "outputs": [
    {
     "name": "stdout",
     "output_type": "stream",
     "text": [
      "{'movi': 2, 'film': 3, 'one': 4, 'like': 5, 'time': 6, 'good': 7, 'make': 8, 'charact': 9, 'get': 10, 'see': 11, 'watch': 12, 'stori': 13, 'even': 14, 'would': 15, 'realli': 16, 'well': 17, 'scene': 18, 'look': 19, 'show': 20, 'much': 21, 'end': 22, 'peopl': 23, 'bad': 24, 'go': 25, 'great': 26, 'also': 27, 'first': 28, 'love': 29, 'think': 30, 'way': 31, 'act': 32, 'play': 33, 'made': 34, 'thing': 35, 'could': 36, 'know': 37, 'say': 38, 'seem': 39, 'work': 40, 'plot': 41, 'two': 42, 'actor': 43, 'year': 44, 'come': 45, 'mani': 46, 'seen': 47, 'take': 48, 'want': 49, 'life': 50, 'never': 51, 'littl': 52, 'best': 53, 'tri': 54, 'man': 55, 'ever': 56, 'give': 57, 'better': 58, 'still': 59, 'perform': 60, 'find': 61, 'feel': 62, 'part': 63, 'back': 64, 'use': 65, 'someth': 66, 'director': 67, 'actual': 68, 'interest': 69, 'lot': 70, 'real': 71, 'old': 72, 'cast': 73, 'though': 74, 'live': 75, 'star': 76, 'enjoy': 77, 'guy': 78, 'anoth': 79, 'new': 80, 'role': 81, 'noth': 82, '10': 83, 'funni': 84, 'music': 85, 'point': 86, 'start': 87, 'set': 88, 'girl': 89, 'origin': 90, 'day': 91, 'world': 92, 'everi': 93, 'believ': 94, 'turn': 95, 'quit': 96, 'us': 97, 'direct': 98, 'thought': 99, 'fact': 100, 'minut': 101, 'horror': 102, 'kill': 103, 'action': 104, 'comedi': 105, 'pretti': 106, 'young': 107, 'wonder': 108, 'happen': 109, 'around': 110, 'got': 111, 'effect': 112, 'right': 113, 'long': 114, 'howev': 115, 'big': 116, 'line': 117, 'famili': 118, 'enough': 119, 'seri': 120, 'may': 121, 'need': 122, 'fan': 123, 'bit': 124, 'script': 125, 'beauti': 126, 'person': 127, 'becom': 128, 'without': 129, 'must': 130, 'alway': 131, 'friend': 132, 'tell': 133, 'reason': 134, 'saw': 135, 'last': 136, 'final': 137, 'kid': 138, 'almost': 139, 'put': 140, 'least': 141, 'sure': 142, 'done': 143, 'whole': 144, 'place': 145, 'complet': 146, 'kind': 147, 'differ': 148, 'expect': 149, 'shot': 150, 'far': 151, 'mean': 152, 'anyth': 153, 'book': 154, 'laugh': 155, 'might': 156, 'name': 157, 'sinc': 158, 'begin': 159, '2': 160, 'probabl': 161, 'woman': 162, 'help': 163, 'entertain': 164, 'let': 165, 'screen': 166, 'call': 167, 'tv': 168, 'moment': 169, 'away': 170, 'read': 171, 'yet': 172, 'rather': 173, 'worst': 174, 'run': 175, 'fun': 176, 'lead': 177, 'hard': 178, 'audienc': 179, 'idea': 180, 'anyon': 181, 'episod': 182, 'american': 183, 'found': 184, 'appear': 185, 'bore': 186, 'especi': 187, 'although': 188, 'hope': 189, 'cours': 190, 'keep': 191, 'anim': 192, 'job': 193, 'goe': 194, 'move': 195, 'sens': 196, 'version': 197, 'dvd': 198, 'war': 199, 'money': 200, 'someon': 201, 'mind': 202, 'mayb': 203, 'problem': 204, 'true': 205, 'hous': 206, 'everyth': 207, 'nice': 208, 'second': 209, 'rate': 210, 'three': 211, 'night': 212, 'follow': 213, 'face': 214, 'recommend': 215, 'main': 216, 'product': 217, 'worth': 218, 'leav': 219, 'human': 220, 'special': 221, 'excel': 222, 'togeth': 223, 'wast': 224, 'everyon': 225, 'sound': 226, 'john': 227, 'hand': 228, '1': 229, 'father': 230, 'later': 231, 'eye': 232, 'said': 233, 'view': 234, 'instead': 235, 'review': 236, 'boy': 237, 'high': 238, 'hour': 239, 'miss': 240, 'talk': 241, 'classic': 242, 'wife': 243, 'understand': 244, 'left': 245, 'care': 246, 'black': 247, 'death': 248, 'open': 249, 'murder': 250, 'write': 251, 'half': 252, 'head': 253, 'rememb': 254, 'chang': 255, 'viewer': 256, 'fight': 257, 'gener': 258, 'surpris': 259, 'short': 260, 'includ': 261, 'die': 262, 'fall': 263, 'less': 264, 'els': 265, 'entir': 266, 'piec': 267, 'involv': 268, 'pictur': 269, 'simpli': 270, 'top': 271, 'power': 272, 'home': 273, 'total': 274, 'usual': 275, 'budget': 276, 'attempt': 277, 'suppos': 278, 'releas': 279, 'hollywood': 280, 'terribl': 281, 'song': 282, 'men': 283, 'possibl': 284, 'featur': 285, 'portray': 286, 'disappoint': 287, 'poor': 288, '3': 289, 'coupl': 290, 'camera': 291, 'stupid': 292, 'dead': 293, 'wrong': 294, 'produc': 295, 'low': 296, 'video': 297, 'either': 298, 'aw': 299, 'definit': 300, 'except': 301, 'rest': 302, 'given': 303, 'absolut': 304, 'women': 305, 'lack': 306, 'word': 307, 'writer': 308, 'titl': 309, 'talent': 310, 'decid': 311, 'full': 312, 'perfect': 313, 'along': 314, 'style': 315, 'close': 316, 'truli': 317, 'school': 318, 'emot': 319, 'save': 320, 'age': 321, 'sex': 322, 'next': 323, 'bring': 324, 'mr': 325, 'case': 326, 'killer': 327, 'heart': 328, 'comment': 329, 'sort': 330, 'creat': 331, 'perhap': 332, 'came': 333, 'brother': 334, 'sever': 335, 'joke': 336, 'art': 337, 'dialogu': 338, 'game': 339, 'small': 340, 'base': 341, 'flick': 342, 'written': 343, 'sequenc': 344, 'meet': 345, 'earli': 346, 'often': 347, 'other': 348, 'mother': 349, 'develop': 350, 'humor': 351, 'actress': 352, 'consid': 353, 'dark': 354, 'guess': 355, 'amaz': 356, 'unfortun': 357, 'lost': 358, 'light': 359, 'exampl': 360, 'cinema': 361, 'drama': 362, 'ye': 363, 'white': 364, 'experi': 365, 'imagin': 366, 'mention': 367, 'stop': 368, 'natur': 369, 'forc': 370, 'manag': 371, 'felt': 372, 'present': 373, 'cut': 374, 'children': 375, 'fail': 376, 'son': 377, 'car': 378, 'qualiti': 379, 'support': 380, 'ask': 381, 'hit': 382, 'side': 383, 'voic': 384, 'extrem': 385, 'impress': 386, 'wors': 387, 'evil': 388, 'went': 389, 'stand': 390, 'certainli': 391, 'basic': 392, 'oh': 393, 'overal': 394, 'favorit': 395, 'horribl': 396, 'mysteri': 397, 'number': 398, 'type': 399, 'danc': 400, 'wait': 401, 'hero': 402, 'alreadi': 403, '5': 404, 'learn': 405, 'matter': 406, '4': 407, 'michael': 408, 'genr': 409, 'fine': 410, 'despit': 411, 'throughout': 412, 'walk': 413, 'success': 414, 'histori': 415, 'question': 416, 'zombi': 417, 'town': 418, 'relationship': 419, 'realiz': 420, 'past': 421, 'child': 422, 'daughter': 423, 'late': 424, 'b': 425, 'wish': 426, 'credit': 427, 'hate': 428, 'event': 429, 'theme': 430, 'touch': 431, 'citi': 432, 'today': 433, 'sometim': 434, 'behind': 435, 'god': 436, 'twist': 437, 'sit': 438, 'stay': 439, 'deal': 440, 'annoy': 441, 'abl': 442, 'rent': 443, 'pleas': 444, 'edit': 445, 'blood': 446, 'deserv': 447, 'comic': 448, 'anyway': 449, 'appar': 450, 'soon': 451, 'gave': 452, 'etc': 453, 'level': 454, 'slow': 455, 'chanc': 456, 'score': 457, 'bodi': 458, 'brilliant': 459, 'incred': 460, 'figur': 461, 'situat': 462, 'self': 463, 'major': 464, 'stuff': 465, 'decent': 466, 'element': 467, 'return': 468, 'dream': 469, 'obvious': 470, 'continu': 471, 'order': 472, 'pace': 473, 'ridicul': 474, 'happi': 475, 'group': 476, 'highli': 477, 'add': 478, 'thank': 479, 'ladi': 480, 'novel': 481, 'speak': 482, 'pain': 483, 'career': 484, 'shoot': 485, 'strang': 486, 'heard': 487, 'sad': 488, 'husband': 489, 'polic': 490, 'import': 491, 'break': 492, 'took': 493, 'cannot': 494, 'strong': 495, 'predict': 496, 'robert': 497, 'violenc': 498, 'hilari': 499, 'recent': 500, 'countri': 501, 'known': 502, 'particularli': 503, 'pick': 504, 'documentari': 505, 'season': 506, 'critic': 507, 'jame': 508, 'compar': 509, 'obviou': 510, 'alon': 511, 'told': 512, 'state': 513, 'rock': 514, 'visual': 515, 'exist': 516, 'theater': 517, 'offer': 518, 'opinion': 519, 'gore': 520, 'crap': 521, 'hold': 522, 'result': 523, 'hear': 524, 'realiti': 525, 'room': 526, 'clich': 527, 'effort': 528, 'thriller': 529, 'caus': 530, 'serious': 531, 'sequel': 532, 'explain': 533, 'king': 534, 'local': 535, 'ago': 536, 'none': 537, 'hell': 538, 'note': 539, 'allow': 540, 'sister': 541, 'david': 542, 'simpl': 543, 'femal': 544, 'deliv': 545, 'ok': 546, 'convinc': 547, 'class': 548, 'check': 549, 'suspens': 550, 'win': 551, 'buy': 552, 'oscar': 553, 'huge': 554, 'valu': 555, 'sexual': 556, 'scari': 557, 'cool': 558, 'excit': 559, 'similar': 560, 'exactli': 561, 'provid': 562, 'apart': 563, 'shown': 564, 'avoid': 565, 'seriou': 566, 'english': 567, 'whose': 568, 'taken': 569, 'cinematographi': 570, 'shock': 571, 'polit': 572, 'spoiler': 573, 'offic': 574, 'across': 575, 'middl': 576, 'pass': 577, 'street': 578, 'messag': 579, 'silli': 580, 'charm': 581, 'somewhat': 582, 'modern': 583, 'filmmak': 584, 'confus': 585, 'form': 586, 'tale': 587, 'singl': 588, 'jack': 589, 'mostli': 590, 'william': 591, 'attent': 592, 'carri': 593, 'sing': 594, 'subject': 595, 'five': 596, 'richard': 597, 'prove': 598, 'stage': 599, 'team': 600, 'unlik': 601, 'cop': 602, 'georg': 603, 'monster': 604, 'televis': 605, 'earth': 606, 'cover': 607, 'villain': 608, 'pay': 609, 'marri': 610, 'toward': 611, 'build': 612, 'pull': 613, 'parent': 614, 'due': 615, 'respect': 616, 'fill': 617, 'dialog': 618, 'four': 619, 'remind': 620, 'futur': 621, 'weak': 622, 'typic': 623, '7': 624, 'cheap': 625, 'intellig': 626, 'atmospher': 627, 'british': 628, 'clearli': 629, '80': 630, 'paul': 631, 'non': 632, 'dog': 633, '8': 634, 'fast': 635, 'artist': 636, 'knew': 637, 'crime': 638, 'easili': 639, 'escap': 640, 'adult': 641, 'doubt': 642, 'detail': 643, 'date': 644, 'fire': 645, 'member': 646, 'romant': 647, 'drive': 648, 'gun': 649, 'straight': 650, 'beyond': 651, 'fit': 652, 'attack': 653, 'imag': 654, 'upon': 655, 'posit': 656, 'whether': 657, 'fantast': 658, 'peter': 659, 'captur': 660, 'aspect': 661, 'appreci': 662, 'ten': 663, 'plan': 664, 'discov': 665, 'remain': 666, 'period': 667, 'near': 668, 'realist': 669, 'air': 670, 'mark': 671, 'red': 672, 'dull': 673, 'adapt': 674, 'within': 675, 'spend': 676, 'lose': 677, 'color': 678, 'materi': 679, 'chase': 680, 'mari': 681, 'storylin': 682, 'forget': 683, 'bunch': 684, 'clear': 685, 'lee': 686, 'victim': 687, 'nearli': 688, 'box': 689, 'york': 690, 'match': 691, 'inspir': 692, 'mess': 693, 'finish': 694, 'standard': 695, 'easi': 696, 'truth': 697, 'suffer': 698, 'busi': 699, 'bill': 700, 'dramat': 701, 'space': 702, 'western': 703, 'e': 704, 'list': 705, 'battl': 706, 'notic': 707, 'de': 708, 'french': 709, 'ad': 710, '9': 711, 'tom': 712, 'larg': 713, 'among': 714, 'eventu': 715, 'train': 716, 'accept': 717, 'agre': 718, 'soundtrack': 719, 'spirit': 720, 'third': 721, 'teenag': 722, 'adventur': 723, 'soldier': 724, 'sorri': 725, 'drug': 726, 'suggest': 727, 'famou': 728, 'normal': 729, 'babi': 730, 'cri': 731, 'ultim': 732, 'troubl': 733, 'contain': 734, 'certain': 735, 'cultur': 736, 'romanc': 737, 'rare': 738, 'lame': 739, 'somehow': 740, 'disney': 741, 'mix': 742, 'gone': 743, 'cartoon': 744, 'student': 745, 'fear': 746, 'reveal': 747, 'kept': 748, 'suck': 749, 'attract': 750, 'appeal': 751, 'premis': 752, 'design': 753, 'secret': 754, 'greatest': 755, 'shame': 756, 'throw': 757, 'scare': 758, 'copi': 759, 'wit': 760, 'america': 761, 'admit': 762, 'brought': 763, 'relat': 764, 'particular': 765, 'screenplay': 766, 'whatev': 767, 'pure': 768, '70': 769, 'harri': 770, 'averag': 771, 'master': 772, 'describ': 773, 'treat': 774, 'male': 775, '20': 776, 'issu': 777, 'fantasi': 778, 'warn': 779, 'inde': 780, 'forward': 781, 'background': 782, 'free': 783, 'project': 784, 'japanes': 785, 'memor': 786, 'poorli': 787, 'award': 788, 'locat': 789, 'amus': 790, 'potenti': 791, 'struggl': 792, 'weird': 793, 'magic': 794, 'societi': 795, 'okay': 796, 'accent': 797, 'imdb': 798, 'doctor': 799, 'water': 800, 'hot': 801, 'dr': 802, '30': 803, 'express': 804, 'alien': 805, 'odd': 806, 'choic': 807, 'crazi': 808, 'studio': 809, 'fiction': 810, 'becam': 811, 'control': 812, 'masterpiec': 813, 'difficult': 814, 'fli': 815, 'joe': 816, 'scream': 817, 'costum': 818, 'lover': 819, 'uniqu': 820, 'refer': 821, 'remak': 822, 'girlfriend': 823, 'vampir': 824, 'prison': 825, 'execut': 826, 'wear': 827, 'jump': 828, 'unless': 829, 'wood': 830, 'creepi': 831, 'cheesi': 832, 'superb': 833, 'otherwis': 834, 'parti': 835, 'ghost': 836, 'roll': 837, 'mad': 838, 'public': 839, 'depict': 840, 'week': 841, 'badli': 842, 'earlier': 843, 'moral': 844, 'jane': 845, 'dumb': 846, 'fi': 847, 'grow': 848, 'flaw': 849, 'deep': 850, 'sci': 851, 'maker': 852, 'cat': 853, 'footag': 854, 'connect': 855, 'older': 856, 'bother': 857, 'plenti': 858, 'outsid': 859, 'stick': 860, 'gay': 861, 'catch': 862, 'co': 863, 'plu': 864, 'popular': 865, 'equal': 866, 'social': 867, 'disturb': 868, 'quickli': 869, 'perfectli': 870, 'dress': 871, '90': 872, 'era': 873, 'mistak': 874, 'lie': 875, 'ride': 876, 'previou': 877, 'combin': 878, 'band': 879, 'concept': 880, 'surviv': 881, 'answer': 882, 'rich': 883, 'front': 884, 'christma': 885, 'sweet': 886, 'insid': 887, 'eat': 888, 'concern': 889, 'bare': 890, 'beat': 891, 'listen': 892, 'ben': 893, 'c': 894, 'term': 895, 'serv': 896, 'la': 897, 'meant': 898, 'german': 899, 'stereotyp': 900, 'hardli': 901, 'innoc': 902, 'law': 903, 'desper': 904, 'memori': 905, 'promis': 906, 'cute': 907, 'intent': 908, 'variou': 909, 'inform': 910, 'steal': 911, 'brain': 912, 'post': 913, 'tone': 914, 'island': 915, 'amount': 916, 'track': 917, 'compani': 918, 'nuditi': 919, 'claim': 920, 'store': 921, '50': 922, 'hair': 923, 'flat': 924, 'univers': 925, 'land': 926, 'fairli': 927, 'kick': 928, 'danger': 929, 'scott': 930, 'player': 931, 'crew': 932, 'plain': 933, 'step': 934, 'toni': 935, 'share': 936, 'tast': 937, 'centuri': 938, 'achiev': 939, 'engag': 940, 'travel': 941, 'cold': 942, 'suit': 943, 'rip': 944, 'record': 945, 'sadli': 946, 'manner': 947, 'wrote': 948, 'tension': 949, 'spot': 950, 'fascin': 951, 'intens': 952, 'familiar': 953, 'burn': 954, 'remark': 955, 'depth': 956, 'destroy': 957, 'histor': 958, 'sleep': 959, 'purpos': 960, 'languag': 961, 'ignor': 962, 'ruin': 963, 'delight': 964, 'unbeliev': 965, 'italian': 966, 'soul': 967, 'collect': 968, 'abil': 969, 'detect': 970, 'clever': 971, 'violent': 972, 'rape': 973, 'reach': 974, 'door': 975, 'scienc': 976, 'trash': 977, 'liter': 978, 'caught': 979, 'commun': 980, 'reveng': 981, 'creatur': 982, 'trip': 983, 'approach': 984, 'fashion': 985, 'intrigu': 986, 'skill': 987, 'paint': 988, 'introduc': 989, 'complex': 990, 'channel': 991, 'camp': 992, 'christian': 993, 'hole': 994, 'extra': 995, 'mental': 996, 'limit': 997, 'immedi': 998, 'ann': 999, '6': 1000, 'mere': 1001, 'slightli': 1002, 'million': 1003, 'comput': 1004, 'slasher': 1005, 'conclus': 1006, 'imposs': 1007, 'suddenli': 1008, 'teen': 1009, 'crimin': 1010, 'neither': 1011, 'nation': 1012, 'physic': 1013, 'spent': 1014, 'respons': 1015, 'planet': 1016, 'receiv': 1017, 'fake': 1018, 'blue': 1019, 'sick': 1020, 'bizarr': 1021, 'embarrass': 1022, 'indian': 1023, 'ring': 1024, '15': 1025, 'drop': 1026, 'pop': 1027, 'drag': 1028, 'haunt': 1029, 'pointless': 1030, 'suspect': 1031, 'search': 1032, 'edg': 1033, 'handl': 1034, 'common': 1035, 'biggest': 1036, 'arriv': 1037, 'hurt': 1038, 'faith': 1039, 'technic': 1040, 'angel': 1041, 'genuin': 1042, 'dad': 1043, 'f': 1044, 'solid': 1045, 'awesom': 1046, 'former': 1047, 'focu': 1048, 'colleg': 1049, 'van': 1050, 'count': 1051, 'tear': 1052, 'heavi': 1053, 'wall': 1054, 'rais': 1055, 'younger': 1056, 'visit': 1057, 'laughabl': 1058, 'fair': 1059, 'excus': 1060, 'sign': 1061, 'cult': 1062, 'key': 1063, 'tough': 1064, 'motion': 1065, 'super': 1066, 'desir': 1067, 'stun': 1068, 'addit': 1069, 'exploit': 1070, 'cloth': 1071, 'smith': 1072, 'tortur': 1073, 'race': 1074, 'davi': 1075, 'cross': 1076, 'author': 1077, 'jim': 1078, 'consist': 1079, 'minor': 1080, 'compel': 1081, 'focus': 1082, 'commit': 1083, 'chemistri': 1084, 'pathet': 1085, 'park': 1086, 'frank': 1087, 'obsess': 1088, 'tradit': 1089, 'grade': 1090, '60': 1091, 'asid': 1092, 'brutal': 1093, 'somewher': 1094, 'steve': 1095, 'opportun': 1096, 'grant': 1097, 'u': 1098, 'rule': 1099, 'depress': 1100, 'explor': 1101, 'honest': 1102, 'besid': 1103, 'dub': 1104, 'anti': 1105, 'intend': 1106, 'trailer': 1107, 'bar': 1108, 'longer': 1109, 'regard': 1110, 'west': 1111, 'scientist': 1112, 'judg': 1113, 'decad': 1114, 'silent': 1115, 'creativ': 1116, 'armi': 1117, 'wild': 1118, 'south': 1119, 'g': 1120, 'stewart': 1121, 'draw': 1122, 'road': 1123, 'govern': 1124, 'boss': 1125, 'ex': 1126, 'practic': 1127, 'surprisingli': 1128, 'gang': 1129, 'motiv': 1130, 'club': 1131, 'festiv': 1132, 'redeem': 1133, 'london': 1134, 'green': 1135, 'page': 1136, 'display': 1137, 'aliv': 1138, 'machin': 1139, 'militari': 1140, 'idiot': 1141, 'thrill': 1142, 'repeat': 1143, 'folk': 1144, 'yeah': 1145, 'nobodi': 1146, '100': 1147, '40': 1148, 'garbag': 1149, 'journey': 1150, 'tire': 1151, 'ground': 1152, 'smile': 1153, 'bought': 1154, 'mood': 1155, 'cost': 1156, 'stone': 1157, 'sam': 1158, 'mouth': 1159, 'noir': 1160, 'agent': 1161, 'terrif': 1162, 'utterli': 1163, 'requir': 1164, 'area': 1165, 'honestli': 1166, 'sexi': 1167, 'geniu': 1168, 'report': 1169, 'enter': 1170, 'glad': 1171, 'investig': 1172, 'humour': 1173, 'serial': 1174, 'occasion': 1175, 'narr': 1176, 'passion': 1177, 'climax': 1178, 'marriag': 1179, 'studi': 1180, 'industri': 1181, 'center': 1182, 'demon': 1183, 'charli': 1184, 'nowher': 1185, 'ship': 1186, 'hors': 1187, 'loos': 1188, 'bear': 1189, 'wow': 1190, 'hang': 1191, 'graphic': 1192, 'giant': 1193, 'admir': 1194, 'send': 1195, 'loud': 1196, 'damn': 1197, 'rel': 1198, 'profession': 1199, 'nake': 1200, 'subtl': 1201, 'blow': 1202, 'bottom': 1203, 'insult': 1204, 'batman': 1205, 'boyfriend': 1206, 'kelli': 1207, 'doubl': 1208, 'r': 1209, 'initi': 1210, 'frame': 1211, 'opera': 1212, 'gem': 1213, 'challeng': 1214, 'affect': 1215, 'cinemat': 1216, 'church': 1217, 'drawn': 1218, 'fulli': 1219, 'seek': 1220, 'evid': 1221, 'l': 1222, 'nightmar': 1223, 'j': 1224, 'essenti': 1225, 'conflict': 1226, 'arm': 1227, 'grace': 1228, 'wind': 1229, 'christoph': 1230, 'henri': 1231, 'narrat': 1232, 'witch': 1233, 'assum': 1234, 'push': 1235, 'hunt': 1236, 'wise': 1237, 'chri': 1238, 'nomin': 1239, 'repres': 1240, 'month': 1241, 'avail': 1242, 'sceneri': 1243, 'hide': 1244, 'affair': 1245, 'smart': 1246, 'thu': 1247, 'justic': 1248, 'bond': 1249, 'outstand': 1250, 'flashback': 1251, 'interview': 1252, 'presenc': 1253, 'satisfi': 1254, 'constantli': 1255, 'bed': 1256, 'central': 1257, 'sell': 1258, 'content': 1259, 'iron': 1260, 'everybodi': 1261, 'gag': 1262, 'slowli': 1263, 'hotel': 1264, 'hire': 1265, 'system': 1266, 'individu': 1267, 'adam': 1268, 'hey': 1269, 'thrown': 1270, 'charl': 1271, 'mediocr': 1272, 'jone': 1273, 'allen': 1274, 'lesson': 1275, 'billi': 1276, 'ray': 1277, 'cameo': 1278, 'photographi': 1279, 'fellow': 1280, 'pari': 1281, 'strike': 1282, 'absurd': 1283, 'brief': 1284, 'rise': 1285, 'independ': 1286, 'neg': 1287, 'impact': 1288, 'phone': 1289, 'ill': 1290, 'model': 1291, 'born': 1292, 'spoil': 1293, 'angl': 1294, 'fresh': 1295, 'abus': 1296, 'likabl': 1297, 'discuss': 1298, 'hill': 1299, 'sight': 1300, 'ahead': 1301, 'sent': 1302, 'photograph': 1303, 'occur': 1304, 'shine': 1305, 'blame': 1306, 'logic': 1307, 'mainli': 1308, 'bruce': 1309, 'skip': 1310, 'commerci': 1311, 'forev': 1312, 'teacher': 1313, 'held': 1314, 'surround': 1315, 'segment': 1316, 'blond': 1317, 'zero': 1318, 'trap': 1319, 'satir': 1320, 'summer': 1321, 'resembl': 1322, 'queen': 1323, 'fool': 1324, 'ball': 1325, 'six': 1326, 'tragedi': 1327, 'sub': 1328, 'twice': 1329, 'reaction': 1330, 'pack': 1331, 'bomb': 1332, 'will': 1333, 'hospit': 1334, 'protagonist': 1335, 'sport': 1336, 'mile': 1337, 'mom': 1338, 'trust': 1339, 'vote': 1340, 'drink': 1341, 'jerri': 1342, 'encount': 1343, 'plane': 1344, 'al': 1345, 'station': 1346, 'program': 1347, 'current': 1348, 'choos': 1349, 'celebr': 1350, 'martin': 1351, 'join': 1352, 'favourit': 1353, 'field': 1354, 'lord': 1355, 'round': 1356, 'tragic': 1357, 'vision': 1358, 'jean': 1359, 'robot': 1360, 'tie': 1361, 'arthur': 1362, 'roger': 1363, 'fortun': 1364, 'random': 1365, 'psycholog': 1366, 'dread': 1367, 'intern': 1368, 'prefer': 1369, 'improv': 1370, 'epic': 1371, 'nonsens': 1372, 'formula': 1373, 'pleasur': 1374, 'highlight': 1375, 'legend': 1376, '11': 1377, 'tape': 1378, 'dollar': 1379, 'thin': 1380, 'porn': 1381, 'fox': 1382, 'gorgeou': 1383, 'wide': 1384, 'object': 1385, 'influenc': 1386, 'ugli': 1387, 'buddi': 1388, 'prepar': 1389, 'nasti': 1390, 'ii': 1391, 'warm': 1392, 'reflect': 1393, 'progress': 1394, 'supposedli': 1395, 'worthi': 1396, 'youth': 1397, 'latter': 1398, 'unusu': 1399, 'length': 1400, 'crash': 1401, 'seven': 1402, 'superior': 1403, 'childhood': 1404, 'shop': 1405, 'remot': 1406, 'theatr': 1407, 'paid': 1408, 'disgust': 1409, 'pilot': 1410, 'funniest': 1411, 'trick': 1412, 'castl': 1413, 'fell': 1414, 'convers': 1415, 'disast': 1416, 'gangster': 1417, 'rob': 1418, 'establish': 1419, 'suicid': 1420, 'disappear': 1421, 'heaven': 1422, 'mine': 1423, 'ident': 1424, 'heroin': 1425, 'decis': 1426, 'forgotten': 1427, 'singer': 1428, 'mask': 1429, 'tend': 1430, 'partner': 1431, 'brian': 1432, 'recogn': 1433, 'desert': 1434, 'alan': 1435, 'stuck': 1436, 'thoroughli': 1437, 'ms': 1438, 'sky': 1439, 'p': 1440, 'replac': 1441, 'accur': 1442, 'market': 1443, 'danni': 1444, 'uncl': 1445, 'commentari': 1446, 'seemingli': 1447, 'eddi': 1448, 'clue': 1449, 'andi': 1450, 'devil': 1451, 'jackson': 1452, 'refus': 1453, 'that': 1454, 'pair': 1455, 'therefor': 1456, 'unit': 1457, 'fault': 1458, 'ed': 1459, 'accid': 1460, 'river': 1461, 'fate': 1462, 'tune': 1463, 'afraid': 1464, 'clean': 1465, 'hidden': 1466, 'stephen': 1467, 'russian': 1468, 'convey': 1469, 'irrit': 1470, 'readi': 1471, 'instanc': 1472, 'quick': 1473, 'test': 1474, 'captain': 1475, 'european': 1476, 'insan': 1477, 'frustrat': 1478, 'daniel': 1479, 'wed': 1480, 'rescu': 1481, 'chines': 1482, '1950': 1483, 'food': 1484, 'lock': 1485, 'dirti': 1486, 'angri': 1487, 'joy': 1488, 'steven': 1489, 'price': 1490, 'cage': 1491, 'bland': 1492, 'rang': 1493, 'anymor': 1494, 'wooden': 1495, 'rush': 1496, 'n': 1497, 'news': 1498, 'jason': 1499, 'led': 1500, '12': 1501, 'martial': 1502, 'worri': 1503, 'twenti': 1504, 'board': 1505, 'symbol': 1506, 'cgi': 1507, 'transform': 1508, 'hunter': 1509, 'invent': 1510, 'johnni': 1511, 'piti': 1512, 'sentiment': 1513, 'x': 1514, 'onto': 1515, 'process': 1516, 'attitud': 1517, 'explan': 1518, 'awar': 1519, 'owner': 1520, 'aim': 1521, 'floor': 1522, 'target': 1523, 'energi': 1524, 'favor': 1525, 'necessari': 1526, 'religi': 1527, 'opposit': 1528, 'insight': 1529, 'chick': 1530, 'blind': 1531, 'window': 1532, 'movement': 1533, 'possess': 1534, 'research': 1535, 'comparison': 1536, 'deepli': 1537, 'mountain': 1538, 'grand': 1539, 'whatsoev': 1540, 'comed': 1541, 'rain': 1542, 'began': 1543, 'mid': 1544, 'shadow': 1545, 'bank': 1546, 'parodi': 1547, 'princ': 1548, 'weapon': 1549, 'pre': 1550, 'friendship': 1551, 'credibl': 1552, 'taylor': 1553, 'dougla': 1554, 'teach': 1555, 'flesh': 1556, 'terror': 1557, 'hint': 1558, 'protect': 1559, 'bloodi': 1560, 'marvel': 1561, 'superman': 1562, 'anybodi': 1563, 'accord': 1564, 'watchabl': 1565, 'leader': 1566, 'drunk': 1567, 'load': 1568, 'brown': 1569, 'freddi': 1570, 'seat': 1571, 'appropri': 1572, 'tim': 1573, 'jeff': 1574, 'hitler': 1575, 'charg': 1576, 'knock': 1577, 'unknown': 1578, 'villag': 1579, 'keaton': 1580, 'enemi': 1581, 'media': 1582, 'unnecessari': 1583, 'empti': 1584, 'england': 1585, 'wave': 1586, 'buck': 1587, 'perspect': 1588, 'craft': 1589, 'utter': 1590, 'dare': 1591, 'strength': 1592, 'correct': 1593, 'contrast': 1594, 'ford': 1595, 'kiss': 1596, 'nativ': 1597, 'magnific': 1598, 'nazi': 1599, 'knowledg': 1600, 'chill': 1601, 'distract': 1602, 'speed': 1603, 'anywher': 1604, 'soap': 1605, 'mission': 1606, '1980': 1607, 'ice': 1608, 'breath': 1609, 'fred': 1610, 'joan': 1611, 'crowd': 1612, 'jr': 1613, 'moon': 1614, 'kate': 1615, 'soft': 1616, 'frighten': 1617, '000': 1618, 'dick': 1619, 'nick': 1620, 'hundr': 1621, 'dan': 1622, 'dozen': 1623, 'simon': 1624, 'radio': 1625, 'somebodi': 1626, 'academi': 1627, 'thousand': 1628, 'andrew': 1629, 'loss': 1630, 'shakespear': 1631, 'sum': 1632, 'account': 1633, 'quot': 1634, 'root': 1635, 'vehicl': 1636, 'behavior': 1637, '1970': 1638, 'convent': 1639, 'leg': 1640, 'regular': 1641, 'gold': 1642, 'demand': 1643, 'pretenti': 1644, 'worker': 1645, 'compet': 1646, 'japan': 1647, 'lynch': 1648, 'explos': 1649, 'stretch': 1650, 'candi': 1651, 'interpret': 1652, 'privat': 1653, 'notabl': 1654, 'debut': 1655, 'constant': 1656, 'tarzan': 1657, 'revolv': 1658, 'prais': 1659, 'spi': 1660, 'sea': 1661, 'translat': 1662, 'failur': 1663, 'threaten': 1664, 'quiet': 1665, 'technolog': 1666, 'sat': 1667, 'ass': 1668, 'jesu': 1669, 'franc': 1670, 'aid': 1671, 'kevin': 1672, 'higher': 1673, 'toy': 1674, 'punch': 1675, 'met': 1676, 'vh': 1677, 'mike': 1678, 'interact': 1679, 'abandon': 1680, 'command': 1681, 'bet': 1682, 'separ': 1683, 'confront': 1684, 'recal': 1685, 'gotten': 1686, 'stunt': 1687, 'belong': 1688, 'site': 1689, 'techniqu': 1690, 'servic': 1691, 'cabl': 1692, 'bug': 1693, 'freak': 1694, 'foot': 1695, 'capabl': 1696, 'african': 1697, 'bright': 1698, 'jimmi': 1699, 'fu': 1700, 'succeed': 1701, 'fat': 1702, 'stock': 1703, 'presid': 1704, 'clark': 1705, 'boat': 1706, 'spanish': 1707, 'structur': 1708, 'gene': 1709, 'paper': 1710, 'kidnap': 1711, 'whilst': 1712, 'factor': 1713, 'belief': 1714, 'witti': 1715, 'attend': 1716, 'tree': 1717, 'realism': 1718, 'complic': 1719, 'bob': 1720, 'educ': 1721, 'realis': 1722, 'finest': 1723, 'santa': 1724, 'assist': 1725, 'broken': 1726, 'smoke': 1727, 'depart': 1728, 'up': 1729, 'v': 1730, 'determin': 1731, 'observ': 1732, 'domin': 1733, 'routin': 1734, 'oper': 1735, 'hat': 1736, 'fame': 1737, 'rubbish': 1738, 'lewi': 1739, 'foreign': 1740, 'lone': 1741, 'morgan': 1742, 'hook': 1743, 'kinda': 1744, 'safe': 1745, 'advanc': 1746, 'rank': 1747, 'numer': 1748, 'shape': 1749, 'shallow': 1750, 'rose': 1751, 'washington': 1752, 'vs': 1753, 'civil': 1754, 'werewolf': 1755, 'morn': 1756, 'gari': 1757, 'kong': 1758, 'accomplish': 1759, 'winner': 1760, 'ordinari': 1761, 'virtual': 1762, 'grab': 1763, 'whenev': 1764, 'peac': 1765, 'luck': 1766, 'offens': 1767, 'h': 1768, 'activ': 1769, 'complain': 1770, 'bigger': 1771, 'unfunni': 1772, 'contriv': 1773, 'welcom': 1774, 'patient': 1775, 'dimension': 1776, 'pretend': 1777, 'trek': 1778, 'con': 1779, 'dri': 1780, 'lesbian': 1781, 'eric': 1782, 'cain': 1783, 'flash': 1784, 'wake': 1785, 'code': 1786, 'statu': 1787, 'corrupt': 1788, 'manipul': 1789, 'dancer': 1790, 'guard': 1791, 'albert': 1792, 'signific': 1793, 'context': 1794, 'gain': 1795, 'speech': 1796, 'awkward': 1797, 'sourc': 1798, 'anthoni': 1799, 'psycho': 1800, 'sean': 1801, 'corni': 1802, 'clip': 1803, '13': 1804, 'w': 1805, 'reli': 1806, 'priest': 1807, 'religion': 1808, 'advic': 1809, 'curiou': 1810, 'theatric': 1811, 'flow': 1812, 'addict': 1813, 'asian': 1814, 'specif': 1815, 'jennif': 1816, 'skin': 1817, 'howard': 1818, 'secur': 1819, 'core': 1820, 'promot': 1821, 'golden': 1822, 'organ': 1823, 'comfort': 1824, 'luke': 1825, 'lucki': 1826, 'cheat': 1827, 'cash': 1828, 'lower': 1829, 'associ': 1830, 'dislik': 1831, 'frankli': 1832, 'regret': 1833, 'contribut': 1834, 'devic': 1835, 'frequent': 1836, 'spell': 1837, 'wing': 1838, 'degre': 1839, 'balanc': 1840, 'print': 1841, 'sake': 1842, 'forgiv': 1843, 'lake': 1844, 'mass': 1845, 'thoma': 1846, 'betti': 1847, 'gordon': 1848, 'crack': 1849, 'unexpect': 1850, 'unfold': 1851, 'invit': 1852, 'categori': 1853, 'amateur': 1854, 'construct': 1855, 'grown': 1856, 'depend': 1857, 'intellectu': 1858, 'honor': 1859, 'walter': 1860, 'grew': 1861, 'matur': 1862, 'condit': 1863, 'anna': 1864, 'spectacular': 1865, 'sudden': 1866, 'sole': 1867, 'mirror': 1868, 'veteran': 1869, 'liner': 1870, 'freedom': 1871, 'robin': 1872, 'experienc': 1873, 'grip': 1874, 'demonstr': 1875, 'overli': 1876, 'meanwhil': 1877, 'card': 1878, 'gift': 1879, 'section': 1880, 'drew': 1881, 'brilliantli': 1882, 'crappi': 1883, 'colour': 1884, 'oliv': 1885, 'sheriff': 1886, 'circumst': 1887, 'subtitl': 1888, 'unabl': 1889, 'theori': 1890, 'altern': 1891, 'sheer': 1892, 'matt': 1893, 'path': 1894, 'cook': 1895, 'laughter': 1896, 'parker': 1897, 'pile': 1898, 'lawyer': 1899, 'sinatra': 1900, 'relief': 1901, 'accident': 1902, 'hall': 1903, 'treatment': 1904, 'wander': 1905, 'defin': 1906, 'hank': 1907, 'dragon': 1908, 'captiv': 1909, 'moor': 1910, 'halloween': 1911, 'gratuit': 1912, 'k': 1913, 'jacki': 1914, 'broadway': 1915, 'unintent': 1916, 'cowboy': 1917, 'barbara': 1918, 'wound': 1919, 'wayn': 1920, 'kung': 1921, 'statement': 1922, 'canadian': 1923, 'spoof': 1924, 'surreal': 1925, 'winter': 1926, 'treasur': 1927, 'cheer': 1928, 'gonna': 1929, 'fare': 1930, 'compos': 1931, 'fish': 1932, 'sensit': 1933, 'woodi': 1934, 'unrealist': 1935, 'victor': 1936, 'emerg': 1937, 'ran': 1938, 'driven': 1939, 'neighbor': 1940, 'sympathet': 1941, 'topic': 1942, 'authent': 1943, 'glass': 1944, 'overlook': 1945, 'expos': 1946, 'menac': 1947, 'michel': 1948, 'gross': 1949, 'chief': 1950, 'ancient': 1951, 'handsom': 1952, 'stranger': 1953, 'built': 1954, 'contemporari': 1955, 'comedian': 1956, 'network': 1957, 'cinderella': 1958, 'russel': 1959, 'nevertheless': 1960, 'feet': 1961, 'pleasant': 1962, 'endless': 1963, 'miser': 1964, 'consider': 1965, 'letter': 1966, 'blockbust': 1967, 'underr': 1968, 'gori': 1969, 'earn': 1970, 'switch': 1971, 'brook': 1972, 'solv': 1973, 'virgin': 1974, 'convict': 1975, 'joseph': 1976, 'edward': 1977, 'victoria': 1978, 'bullet': 1979, 'chosen': 1980, 'scale': 1981, 'cynic': 1982, 'scenario': 1983, 'alex': 1984, '0': 1985, 'gut': 1986, 'sword': 1987, 'outrag': 1988, 'curs': 1989, 'com': 1990, 'driver': 1991, 'wrap': 1992, 'substanc': 1993, 'monkey': 1994, 'uk': 1995, 'proper': 1996, 'juli': 1997, 'screenwrit': 1998, 'indic': 1999, 'bird': 2000, 'remov': 2001, 'court': 2002, 'par': 2003, 'inevit': 2004, 'naiv': 2005, 'advertis': 2006, 'consequ': 2007, 'nanci': 2008, 'roy': 2009, 'loser': 2010, 'grave': 2011, 'rental': 2012, 'fatal': 2013, 'invis': 2014, 'slap': 2015, 'brave': 2016, 'le': 2017, 'germani': 2018, 'bridg': 2019, 'anger': 2020, 'provok': 2021, 'ador': 2022, 'loui': 2023, 'footbal': 2024, 'alcohol': 2025, 'chan': 2026, 'anderson': 2027, 'willi': 2028, 'stumbl': 2029, 'ryan': 2030, 'professor': 2031, '1930': 2032, 'australian': 2033, 'assassin': 2034, 'sharp': 2035, 'patrick': 2036, 'bat': 2037, 'ape': 2038, 'eight': 2039, 'refresh': 2040, 'trilog': 2041, 'lousi': 2042, 'deni': 2043, 'heck': 2044, 'cell': 2045, 'liber': 2046, 'saturday': 2047, 'amateurish': 2048, 'strongli': 2049, 'sin': 2050, 'san': 2051, 'justifi': 2052, 'resid': 2053, 'vagu': 2054, 'terrifi': 2055, 'creator': 2056, 'sympathi': 2057, 'indi': 2058, 'defeat': 2059, 'mini': 2060, 'reput': 2061, 'prevent': 2062, 'tabl': 2063, 'expert': 2064, 'tediou': 2065, 'task': 2066, 'endur': 2067, 'basebal': 2068, 'offend': 2069, 'imit': 2070, 'trial': 2071, 'employ': 2072, 'rival': 2073, 'che': 2074, 'fairi': 2075, 'dig': 2076, 'max': 2077, 'complaint': 2078, 'pitch': 2079, 'beach': 2080, 'weekend': 2081, 'europ': 2082, 'murphi': 2083, 'risk': 2084, 'format': 2085, 'purchas': 2086, 'glimps': 2087, 'reminisc': 2088, 'nois': 2089, 'bite': 2090, 'powel': 2091, 'harsh': 2092, 'tini': 2093, 'hype': 2094, 'titan': 2095, 'north': 2096, '14': 2097, 'fals': 2098, 'strip': 2099, 'asleep': 2100, 'till': 2101, 'prime': 2102, 'descript': 2103, 'destruct': 2104, 'texa': 2105, 'revel': 2106, 'africa': 2107, 'sitcom': 2108, 'surfac': 2109, 'inner': 2110, 'spin': 2111, 'excess': 2112, 'semi': 2113, 'arrest': 2114, 'uninterest': 2115, 'makeup': 2116, 'dinosaur': 2117, 'maintain': 2118, 'massiv': 2119, 'twin': 2120, 'controversi': 2121, 'hitchcock': 2122, 'argu': 2123, 'reject': 2124, 'melodrama': 2125, 'insist': 2126, 'stare': 2127, 'ludicr': 2128, 'expens': 2129, 'ideal': 2130, 'kim': 2131, 'columbo': 2132, 'erot': 2133, 'supernatur': 2134, 'ga': 2135, 'host': 2136, 'atroci': 2137, 'forest': 2138, 'press': 2139, 'subplot': 2140, 'ala': 2141, 'nail': 2142, 'notch': 2143, 'identifi': 2144, 'presum': 2145, 'dude': 2146, 'cant': 2147, 'forgett': 2148, 'plagu': 2149, 'closer': 2150, 'crude': 2151, 'method': 2152, 'guest': 2153, 'character': 2154, 'foster': 2155, 'beast': 2156, 'ear': 2157, 'border': 2158, 'lion': 2159, 'landscap': 2160, 'princess': 2161, 'birth': 2162, 'accus': 2163, 'pacino': 2164, 'storytel': 2165, 'urban': 2166, 'damag': 2167, 'previous': 2168, 'jungl': 2169, 'aunt': 2170, 'bound': 2171, 'nude': 2172, 'propaganda': 2173, 'doll': 2174, 'chose': 2175, 'jess': 2176, 'thirti': 2177, 'guid': 2178, 'emma': 2179, 'whoever': 2180, 'warrior': 2181, 'mainstream': 2182, 'mate': 2183, '25': 2184, 'pet': 2185, 'latest': 2186, 'poster': 2187, 'upset': 2188, 'friday': 2189, 'cooper': 2190, 'merit': 2191, 'size': 2192, 'gritti': 2193, 'deadli': 2194, 'exact': 2195, 'buff': 2196, 'settl': 2197, 'sun': 2198, 'wilson': 2199, 'rough': 2200, '1990': 2201, 'blend': 2202, 'corps': 2203, 'warner': 2204, 'ton': 2205, 'popul': 2206, 'contest': 2207, 'citizen': 2208, 'contact': 2209, 'select': 2210, 'rat': 2211, 'widow': 2212, 'metal': 2213, 'pitt': 2214, 'mgm': 2215, 'environ': 2216, 'overcom': 2217, 'alic': 2218, 'bu': 2219, 'lift': 2220, 'guilti': 2221, 'revolut': 2222, 'link': 2223, 'particip': 2224, 'ted': 2225, 'matrix': 2226, 'accompani': 2227, 'afternoon': 2228, '1960': 2229, 'corpor': 2230, 'exagger': 2231, 'corner': 2232, 'prostitut': 2233, 'johnson': 2234, 'moron': 2235, 'friendli': 2236, 'clair': 2237, 'hood': 2238, 'doom': 2239, 'instal': 2240, 'multipl': 2241, 'sincer': 2242, 'leagu': 2243, 'holm': 2244, 'irish': 2245, 'aka': 2246, 'advis': 2247, 'string': 2248, 'grim': 2249, 'hip': 2250, 'blah': 2251, 'defend': 2252, 'junk': 2253, 'examin': 2254, 'sunday': 2255, 'lugosi': 2256, 'campi': 2257, 'icon': 2258, 'shake': 2259, 'varieti': 2260, 'shut': 2261, 'tight': 2262, 'pro': 2263, 'confid': 2264, 'rachel': 2265, 'jaw': 2266, 'medic': 2267, 'goal': 2268, 'directli': 2269, 'denni': 2270, 'mexican': 2271, 'sullivan': 2272, 'attach': 2273, 'terrorist': 2274, 'courag': 2275, 'dean': 2276, 'prior': 2277, 'truck': 2278, 'sentenc': 2279, 'breast': 2280, 'legendari': 2281, 'vietnam': 2282, 'sarah': 2283, 'bourn': 2284, 'duke': 2285, 'behav': 2286, 'nose': 2287, 'donald': 2288, 'hong': 2289, 'proceed': 2290, 'un': 2291, 'split': 2292, 'yell': 2293, 'entri': 2294, 'swim': 2295, 'lifetim': 2296, 'forth': 2297, 'crush': 2298, 'gather': 2299, 'everywher': 2300, 'unconvinc': 2301, 'borrow': 2302, 'confess': 2303, 'concentr': 2304, 'stolen': 2305, 'buri': 2306, 'jerk': 2307, 'deliveri': 2308, 'pan': 2309, 'spite': 2310, 'lip': 2311, 'turkey': 2312, 'california': 2313, 'julia': 2314, 'reward': 2315, 'flight': 2316, 'offici': 2317, 'downright': 2318, 'quest': 2319, 'hoffman': 2320, 'freeman': 2321, 'proud': 2322, 'china': 2323, 'notori': 2324, 'worthwhil': 2325, 'encourag': 2326, 'jail': 2327, 'fade': 2328, 'inept': 2329, 'fabul': 2330, 'sink': 2331, 'jon': 2332, 'betray': 2333, 'lazi': 2334, 'sir': 2335, 'teeth': 2336, 'imageri': 2337, 'lisa': 2338, 'cousin': 2339, 'survivor': 2340, 'branagh': 2341, 'susan': 2342, 'bag': 2343, 'bell': 2344, 'relev': 2345, 'shower': 2346, 'retard': 2347, 'storm': 2348, 'bride': 2349, 'trade': 2350, 'summari': 2351, 'stab': 2352, 'hugh': 2353, 'alright': 2354, 'toler': 2355, 'quirki': 2356, 'mexico': 2357, 'finger': 2358, 'shark': 2359, 'facial': 2360, 'tremend': 2361, 'pose': 2362, 'bitter': 2363, 'ha': 2364, 'blown': 2365, 'von': 2366, 'hyster': 2367, 'afterward': 2368, 'christ': 2369, 'bone': 2370, 'scheme': 2371, 'address': 2372, 'larri': 2373, 'ron': 2374, 'cruel': 2375, 'ned': 2376, 'tour': 2377, 'pursu': 2378, 'feed': 2379, 'snake': 2380, 'beg': 2381, 'screw': 2382, 'swear': 2383, 'thumb': 2384, 'distinct': 2385, 'traci': 2386, 'stomach': 2387, 'obscur': 2388, 'chair': 2389, 'photo': 2390, 'mechan': 2391, 'occas': 2392, 'raw': 2393, 'southern': 2394, 'cabin': 2395, 'render': 2396, 'holiday': 2397, 'necessarili': 2398, 'resist': 2399, 'heavili': 2400, 'chain': 2401, 'gruesom': 2402, 'argument': 2403, 'hardi': 2404, 'sidney': 2405, 'satan': 2406, 'understood': 2407, 'philip': 2408, 'indulg': 2409, 'racist': 2410, 'india': 2411, 'integr': 2412, 'lay': 2413, 'belov': 2414, 'forgot': 2415, 'obnoxi': 2416, 'tongu': 2417, 'stalk': 2418, 'midnight': 2419, 'outfit': 2420, 'pregnant': 2421, 'fourth': 2422, 'inhabit': 2423, 'magazin': 2424, '17': 2425, 'slapstick': 2426, 'deeper': 2427, 'garden': 2428, 'carol': 2429, 'restor': 2430, 'ticket': 2431, 'shoe': 2432, 'devot': 2433, 'brad': 2434, 'incid': 2435, 'lincoln': 2436, 'benefit': 2437, 'divorc': 2438, 'underground': 2439, 'lili': 2440, 'anticip': 2441, 'elizabeth': 2442, 'sandler': 2443, 'disbelief': 2444, 'guarante': 2445, 'maria': 2446, 'amazingli': 2447, 'explod': 2448, 'bbc': 2449, 'mildli': 2450, 'greater': 2451, 'princip': 2452, 'capit': 2453, 'cring': 2454, 'creation': 2455, 'slave': 2456, 'introduct': 2457, 'halfway': 2458, 'lesli': 2459, 'funnier': 2460, 'extraordinari': 2461, 'advantag': 2462, 'overwhelm': 2463, 'extent': 2464, 'transfer': 2465, 'text': 2466, 'enhanc': 2467, 'wreck': 2468, 'tap': 2469, 'punish': 2470, 'horrif': 2471, 'error': 2472, 'preview': 2473, 'east': 2474, 'lo': 2475, 'plant': 2476, 'jessica': 2477, 'lane': 2478, 'dynam': 2479, 'deliber': 2480, 'miller': 2481, 'sophist': 2482, 'appli': 2483, 'basi': 2484, 'vacat': 2485, '2000': 2486, 'homosexu': 2487, 'ensu': 2488, 'vincent': 2489, 'miscast': 2490, 'mansion': 2491, 'spoken': 2492, 'elev': 2493, 'uncomfort': 2494, 'sleazi': 2495, 'via': 2496, 'extend': 2497, 'measur': 2498, 'steel': 2499, 'reed': 2500, 'bollywood': 2501, 'goofi': 2502, 'savag': 2503, 'cathol': 2504, 'fix': 2505, 'stanley': 2506, 'breathtak': 2507, 'daili': 2508, 'blair': 2509, 'hippi': 2510, 'beer': 2511, 'alter': 2512, 'dentist': 2513, 'overact': 2514, 'assign': 2515, 'melt': 2516, 'mous': 2517, 'conceiv': 2518, 'subsequ': 2519, 'oppos': 2520, 'nowaday': 2521, 'inspector': 2522, 'burt': 2523, 'everyday': 2524, 'properli': 2525, 'carpent': 2526, 'succe': 2527, 'sacrific': 2528, 'circl': 2529, 'block': 2530, 'laura': 2531, 'massacr': 2532, 'neck': 2533, 'lesser': 2534, 'concert': 2535, 'grey': 2536, 'christi': 2537, 'mob': 2538, 'pool': 2539, 'seagal': 2540, 'fallen': 2541, 'portrait': 2542, 'fay': 2543, 'access': 2544, 'sinist': 2545, 'chees': 2546, 'usa': 2547, 'relax': 2548, 'isol': 2549, 'competit': 2550, 'jewish': 2551, 'react': 2552, 'jake': 2553, 'spiritu': 2554, 'lyric': 2555, 'nine': 2556, 'nonetheless': 2557, 'chop': 2558, 'appal': 2559, 'ironi': 2560, 'stink': 2561, 'suitabl': 2562, 'creep': 2563, 'immens': 2564, '2006': 2565, 'user': 2566, 'reduc': 2567, 'luci': 2568, 'nut': 2569, 'sold': 2570, 'retir': 2571, 'needless': 2572, 'adopt': 2573, 'rage': 2574, 'showcas': 2575, 'shirt': 2576, 'spring': 2577, 'franchis': 2578, 'navi': 2579, 'bulli': 2580, 'zone': 2581, 'digit': 2582, 'nurs': 2583, 'stanwyck': 2584, 'bath': 2585, 'jay': 2586, 'asham': 2587, 'per': 2588, 'uninspir': 2589, 'upper': 2590, 'amongst': 2591, '2001': 2592, 'sutherland': 2593, 'broadcast': 2594, 'oddli': 2595, '1940': 2596, 'laid': 2597, 'illustr': 2598, 'brando': 2599, 'fulfil': 2600, 'aspir': 2601, 'stylish': 2602, 'disguis': 2603, 'baker': 2604, 'throat': 2605, 'nobl': 2606, 'wwii': 2607, 'impli': 2608, 'thief': 2609, 'pound': 2610, '18': 2611, 'em': 2612, 'wanna': 2613, 'endear': 2614, 'pride': 2615, 'neighborhood': 2616, 'cinematograph': 2617, 'shoulder': 2618, 'diseas': 2619, 'albeit': 2620, 'shift': 2621, 'tens': 2622, 'coher': 2623, 'prop': 2624, 'dawn': 2625, 'dinner': 2626, 'rochest': 2627, 'bett': 2628, '16': 2629, 'bo': 2630, 'distribut': 2631, 'shout': 2632, 'poignant': 2633, 'snow': 2634, 'surf': 2635, 'forti': 2636, 'silenc': 2637, 'matthau': 2638, 'wash': 2639, 'rebel': 2640, 'function': 2641, 'contract': 2642, 'knife': 2643, 'eeri': 2644, 'duti': 2645, 'silver': 2646, 'proof': 2647, 'horrend': 2648, 'reunion': 2649, 'instinct': 2650, 'widmark': 2651, 'elvira': 2652, 'height': 2653, 'mindless': 2654, 'heat': 2655, 'cannib': 2656, 'internet': 2657, 'cancel': 2658, 'derek': 2659, 'henc': 2660, 'chuck': 2661, 'glori': 2662, 'premier': 2663, 'torn': 2664, 'etern': 2665, 'neat': 2666, 'mill': 2667, 'repetit': 2668, 'greatli': 2669, 'pie': 2670, 'alik': 2671, 'musician': 2672, 'incoher': 2673, 'innov': 2674, 'absorb': 2675, 'spielberg': 2676, 'elvi': 2677, 'trite': 2678, 'britain': 2679, 'racism': 2680, 'itali': 2681, 'lovabl': 2682, 'redempt': 2683, 'precis': 2684, 'crisi': 2685, 'homag': 2686, 'horrifi': 2687, 'bang': 2688, 'wealthi': 2689, 'blank': 2690, 'diamond': 2691, 'burton': 2692, 'nelson': 2693, 'announc': 2694, 'infam': 2695, 'fbi': 2696, 'resolut': 2697, 'parallel': 2698, 'ensembl': 2699, 'happili': 2700, 'dedic': 2701, 'wilder': 2702, 'helen': 2703, 'pat': 2704, 'flop': 2705, 'streisand': 2706, 'hammer': 2707, 'chaplin': 2708, 'factori': 2709, 'cube': 2710, 'triumph': 2711, 'mar': 2712, 'disagre': 2713, 'carter': 2714, 'st': 2715, 'oil': 2716, 'plastic': 2717, 'conclud': 2718, 'broke': 2719, 'own': 2720, 'climb': 2721, 'rocket': 2722, 'weight': 2723, 'vega': 2724, 'row': 2725, 'bush': 2726, 'fighter': 2727, 'chuckl': 2728, 'march': 2729, 'lust': 2730, 'dump': 2731, 'spare': 2732, 'luca': 2733, 'sensibl': 2734, 'thug': 2735, 'mst3k': 2736, 'unforgett': 2737, 'wherea': 2738, 'meaning': 2739, 'dane': 2740, 'boot': 2741, 'kurt': 2742, 'enorm': 2743, 'difficulti': 2744, 'adequ': 2745, 'stress': 2746, 'engin': 2747, 'butt': 2748, 'arnold': 2749, 'dear': 2750, 'rap': 2751, 'threat': 2752, 'fifti': 2753, 'brand': 2754, 'caricatur': 2755, 'karloff': 2756, 'bobbi': 2757, 'homeless': 2758, 'polish': 2759, 'arrog': 2760, 'barri': 2761, 'elabor': 2762, 'swing': 2763, 'journalist': 2764, 'hamlet': 2765, 'fest': 2766, 'ralph': 2767, 'ego': 2768, 'secretari': 2769, 'flynn': 2770, 'grate': 2771, 'unbear': 2772, 'conspiraci': 2773, 'tool': 2774, 'simpson': 2775, 'resort': 2776, 'puppet': 2777, 'induc': 2778, 'arrang': 2779, 'float': 2780, 'fanci': 2781, 'spike': 2782, 'tribut': 2783, 'exercis': 2784, 'choreograph': 2785, 'phillip': 2786, 'guilt': 2787, 'pig': 2788, 'basement': 2789, 'muppet': 2790, 'cruis': 2791, 'boll': 2792, 'tower': 2793, 'document': 2794, 'ham': 2795, 'fianc': 2796, 'ward': 2797, '24': 2798, 'item': 2799, 'slip': 2800, 'toilet': 2801, 'medium': 2802, 'stan': 2803, 'layer': 2804, 'scarecrow': 2805, 'babe': 2806, 'korean': 2807, 'editor': 2808, 'file': 2809, 'puzzl': 2810, 'glover': 2811, 'superfici': 2812, 'persona': 2813, 'philosoph': 2814, 'larger': 2815, 'catherin': 2816, 'spark': 2817, 'minim': 2818, 'inexplic': 2819, 'orient': 2820, 'transit': 2821, 'territori': 2822, 'portion': 2823, 'denzel': 2824, 'assur': 2825, 'slaughter': 2826, 'librari': 2827, 'doc': 2828, 'owe': 2829, 'jet': 2830, 'jeremi': 2831, 'walken': 2832, 'shi': 2833, 'wolf': 2834, 'curti': 2835, 'sneak': 2836, 'dorothi': 2837, 'ban': 2838, 'pg': 2839, 'financi': 2840, 'boredom': 2841, 'metaphor': 2842, 'backdrop': 2843, 'cusack': 2844, 'profound': 2845, 'whale': 2846, 'hudson': 2847, 'ambigu': 2848, 'multi': 2849, 'eleph': 2850, 'elsewher': 2851, 'stiff': 2852, 'rave': 2853, 'viru': 2854, 'hack': 2855, 'notion': 2856, 'implaus': 2857, 'ultra': 2858, 'union': 2859, 'gadget': 2860, 'birthday': 2861, '2005': 2862, 'eva': 2863, 'urg': 2864, 'deriv': 2865, 'disc': 2866, 'distanc': 2867, 'poison': 2868, 'slight': 2869, 'superhero': 2870, 'newspap': 2871, 'reader': 2872, 'pad': 2873, 'eastwood': 2874, 'bibl': 2875, 'afford': 2876, 'lloyd': 2877, 'canada': 2878, '1st': 2879, 'squar': 2880, 'hawk': 2881, 'health': 2882, 'montag': 2883, 'cure': 2884, 'essenc': 2885, 'spread': 2886, 'huh': 2887, 'charisma': 2888, 'drown': 2889, 'restaur': 2890, 'sadist': 2891, 'skit': 2892, 'button': 2893, 'heston': 2894, 'dealt': 2895, 'maniac': 2896, 'gradual': 2897, 'fetch': 2898, 'companion': 2899, 'lab': 2900, 'invest': 2901, 'estat': 2902, 'peak': 2903, 'godfath': 2904, 'scoobi': 2905, 'muslim': 2906, 'gothic': 2907, 'subtleti': 2908, 'cup': 2909, 'kane': 2910, 'servant': 2911, 'tea': 2912, 'ritter': 2913, 'miik': 2914, 'alli': 2915, 'countless': 2916, 'heroic': 2917, 'elect': 2918, 'electr': 2919, 'charismat': 2920, 'iii': 2921, 'salli': 2922, 'briefli': 2923, 'nuanc': 2924, 'ingredi': 2925, 'cole': 2926, 'wannab': 2927, 'grandmoth': 2928, 'neil': 2929, 'resourc': 2930, 'tender': 2931, 'admittedli': 2932, 'bud': 2933, 'toss': 2934, 'reel': 2935, 'mild': 2936, 'shall': 2937, 'dawson': 2938, 'mafia': 2939, 'pit': 2940, 'reev': 2941, 'stood': 2942, 'stronger': 2943, 'label': 2944, 'carrey': 2945, 'punk': 2946, 'poverti': 2947, 'gate': 2948, 'pauli': 2949, 'kubrick': 2950, 'smash': 2951, 'terri': 2952, 'outcom': 2953, 'burst': 2954, 'updat': 2955, 'easier': 2956, 'useless': 2957, 'cox': 2958, 'cardboard': 2959, 'smooth': 2960, 'fond': 2961, 'tag': 2962, 'ian': 2963, 'astair': 2964, 'bakshi': 2965, 'assault': 2966, 'vulner': 2967, 'exchang': 2968, 'fist': 2969, 'melodramat': 2970, 'sketch': 2971, 'vari': 2972, 'coincid': 2973, 'qualifi': 2974, 'resolv': 2975, 'increasingli': 2976, 'samurai': 2977, '2002': 2978, 'rex': 2979, 'divers': 2980, 'conveni': 2981, 'scratch': 2982, 'luckili': 2983, 'templ': 2984, 'blast': 2985, 'tame': 2986, 'insert': 2987, 'suspend': 2988, 'brillianc': 2989, 'be': 2990, 'reynold': 2991, 'pin': 2992, 'seventi': 2993, 'meat': 2994, 'strictli': 2995, 'ambiti': 2996, 'soprano': 2997, 'walker': 2998, 'matthew': 2999, 'farm': 3000, 'hamilton': 3001, 'gotta': 3002, 'jami': 3003, 'nuclear': 3004, 'coach': 3005, 'fisher': 3006, 'worthless': 3007, 'instantli': 3008, 'monk': 3009, 'joey': 3010, 'timeless': 3011, 'clock': 3012, 'grasp': 3013, 'ninja': 3014, 'empir': 3015, 'kudo': 3016, 'revers': 3017, 'butcher': 3018, 'closet': 3019, 'cave': 3020, 'recreat': 3021, 'discoveri': 3022, 'eccentr': 3023, 'convolut': 3024, 'struck': 3025, 'spooki': 3026, 'brosnan': 3027, 'selfish': 3028, 'seller': 3029, 'cliff': 3030, 'importantli': 3031, 'miracl': 3032, 'bleak': 3033, 'pal': 3034, 'norman': 3035, 'wipe': 3036, 'sloppi': 3037, 'eighti': 3038, 'declar': 3039, 'communist': 3040, 'mitchel': 3041, 'inconsist': 3042, 'sidekick': 3043, 'evok': 3044, 'gray': 3045, 'clown': 3046, 'partli': 3047, 'fifteen': 3048, 'lifestyl': 3049, 'psychiatrist': 3050, 'chew': 3051, 'ho': 3052, 'websit': 3053, 'australia': 3054, 'flawless': 3055, 'farc': 3056, 'stoog': 3057, 'aforement': 3058, 'piano': 3059, 'seed': 3060, 'debat': 3061, 'cheek': 3062, '45': 3063, 'destin': 3064, 'superbl': 3065, 'enthusiast': 3066, 'wrestl': 3067, 'akshay': 3068, 'incompet': 3069, 'wick': 3070, 'drivel': 3071, 'dire': 3072, 'splatter': 3073, 'bash': 3074, 'pressur': 3075, 'slice': 3076, 'soviet': 3077, 'regardless': 3078, 'directori': 3079, 'dash': 3080, 'anni': 3081, 'emili': 3082, 'kitchen': 3083, 'abc': 3084, 'flower': 3085, 'beaten': 3086, 'chapter': 3087, 'duo': 3088, 'ken': 3089, 'jar': 3090, 'boil': 3091, 'seduc': 3092, 'cagney': 3093, 'pleasantli': 3094, 'lou': 3095, 'prize': 3096, 'dave': 3097, 'curios': 3098, 'artifici': 3099, 'distant': 3100, 'judi': 3101, 'mann': 3102, 'cameron': 3103, 'glow': 3104, 'suppli': 3105, 'helicopt': 3106, 'doo': 3107, 'increas': 3108, 'cia': 3109, 'blob': 3110, 'recov': 3111, 'splendid': 3112, 'turner': 3113, 'francisco': 3114, 'eleg': 3115, 'ranger': 3116, 'hop': 3117, 'psychot': 3118, 'glenn': 3119, 'combat': 3120, 'web': 3121, 'craig': 3122, 'perri': 3123, 'goldberg': 3124, 'panic': 3125, 'laurel': 3126, 'drunken': 3127, 'favour': 3128, 'craven': 3129, 'ellen': 3130, 'falk': 3131, 'ruth': 3132, 'gentl': 3133, 'fx': 3134, 'slightest': 3135, '20th': 3136, 'wizard': 3137, 'graduat': 3138, 'greek': 3139, 'rid': 3140, 'hatr': 3141, 'flip': 3142, 'alexand': 3143, 'philosophi': 3144, 'min': 3145, 'shortli': 3146, 'modesti': 3147, 'plausibl': 3148, 'gandhi': 3149, 'manhattan': 3150, 'futurist': 3151, 'fund': 3152, 'unpleas': 3153, 'dracula': 3154, 'ocean': 3155, 'jealou': 3156, 'tall': 3157, 'holi': 3158, 'harm': 3159, 'legal': 3160, 'preciou': 3161, 'lend': 3162, 'knight': 3163, 'we': 3164, 'felix': 3165, 'digniti': 3166, 'forbidden': 3167, 'thread': 3168, 'overdon': 3169, 'bless': 3170, 'explicit': 3171, 'scientif': 3172, 'giallo': 3173, 'mock': 3174, 'nod': 3175, 'tank': 3176, 'reviv': 3177, 'childish': 3178, 'ami': 3179, '99': 3180, 'broad': 3181, 'yesterday': 3182, '2004': 3183, 'thick': 3184, 'verhoeven': 3185, 'nerv': 3186, 'fever': 3187, 'awaken': 3188, 'torment': 3189, 'eve': 3190, 'unwatch': 3191, 'mel': 3192, 'margaret': 3193, 'elderli': 3194, 'awe': 3195, 'pirat': 3196, 'repeatedli': 3197, 'griffith': 3198, 'publish': 3199, 'politician': 3200, 'kay': 3201, 'automat': 3202, 'rivet': 3203, 'stiller': 3204, 'launch': 3205, 'timothi': 3206, 'custom': 3207, 'lean': 3208, 'uniform': 3209, 'bin': 3210, 'ambit': 3211, 'eas': 3212, 'romero': 3213, 'ah': 3214, 'absenc': 3215, 'acclaim': 3216, 'roman': 3217, 'royal': 3218, 'antic': 3219, 'purpl': 3220, 'gabriel': 3221, 'phrase': 3222, 'foul': 3223, 'termin': 3224, 'warren': 3225, 'crook': 3226, 'bathroom': 3227, 'wallac': 3228, 'sunshin': 3229, 'darker': 3230, 'pierc': 3231, 'tomato': 3232, 'transport': 3233, 'stinker': 3234, 'pulp': 3235, 'homicid': 3236, 'album': 3237, '2003': 3238, 'awak': 3239, 'hollow': 3240, 'kenneth': 3241, 'q': 3242, 'sixti': 3243, 'revolutionari': 3244, 'pray': 3245, 'evolv': 3246, 'donna': 3247, 'horrid': 3248, 'coloni': 3249, 'viciou': 3250, 'choreographi': 3251, 'contrari': 3252, 'ought': 3253, 'juvenil': 3254, 'karen': 3255, 'brazil': 3256, 'eyr': 3257, 'prom': 3258, 'marin': 3259, 'li': 3260, 'rambo': 3261, 'saint': 3262, 'packag': 3263, 'kapoor': 3264, 'mummi': 3265, 'stole': 3266, 'boast': 3267, 'blade': 3268, 'conserv': 3269, 'option': 3270, 'nerd': 3271, 'candid': 3272, 'overr': 3273, 'ramon': 3274, 'dose': 3275, 'beatti': 3276, 'twelv': 3277, 'defi': 3278, 'mildr': 3279, 'ireland': 3280, 'detract': 3281, 'flame': 3282, 'collabor': 3283, 'funer': 3284, 'trio': 3285, 'kirk': 3286, 'altman': 3287, 'confirm': 3288, 'global': 3289, 'fulci': 3290, 'astonish': 3291, 'protest': 3292, 'jazz': 3293, 'natali': 3294, 'tommi': 3295, 'audio': 3296, 'spit': 3297, 'shade': 3298, 'racial': 3299, 'delici': 3300, 'nicholson': 3301, 'destini': 3302, 'yellow': 3303, 'enterpris': 3304, 'leap': 3305, 'bull': 3306, 'mystic': 3307, 'bottl': 3308, 'whip': 3309, 'blake': 3310, 'neo': 3311, 'adolesc': 3312, 'reunit': 3313, 'altogeth': 3314, 'bedroom': 3315, 'fonda': 3316, 'threw': 3317, 'vivid': 3318, 'swedish': 3319, 'popcorn': 3320, 'inherit': 3321, 'pseudo': 3322, 'harder': 3323, 'meaningless': 3324, 'staff': 3325, 'merci': 3326, 'todd': 3327, 'visibl': 3328, 'enchant': 3329, 'exhibit': 3330, 'roommat': 3331, 'moodi': 3332, 'await': 3333, 'lemmon': 3334, 'fanat': 3335, 'bust': 3336, 'befriend': 3337, 'tip': 3338, 'decor': 3339, 'reserv': 3340, 'wire': 3341, 'voight': 3342, 'respond': 3343, 'suspici': 3344, 'edi': 3345, 'uneven': 3346, 'ruthless': 3347, 'lawrenc': 3348, 'kennedi': 3349, 'jew': 3350, 'madonna': 3351, 'atlanti': 3352, 'leonard': 3353, 'synopsi': 3354, 'crocodil': 3355, 'bradi': 3356, 'garner': 3357, 'bold': 3358, 'dimens': 3359, 'rural': 3360, 'audit': 3361, 'clint': 3362, 'centr': 3363, 'bargain': 3364, 'voyag': 3365, 'incident': 3366, 'holli': 3367, 'ventur': 3368, 'unsettl': 3369, '2007': 3370, 'carl': 3371, 'clumsi': 3372, 'abysm': 3373, 'chao': 3374, 'palma': 3375, 'versu': 3376, 'echo': 3377, 'nearbi': 3378, 'humili': 3379, 'cuba': 3380, 'mall': 3381, 'wealth': 3382, 'cd': 3383, 'immigr': 3384, 'characterist': 3385, 'cari': 3386, 'trail': 3387, 'poetic': 3388, '2nd': 3389, 'elimin': 3390, 'imperson': 3391, 'daddi': 3392, 'lit': 3393, 'troop': 3394, 'neglect': 3395, 'timon': 3396, 'acknowledg': 3397, 'hart': 3398, 'tiger': 3399, 'ant': 3400, 'collaps': 3401, 'prejudic': 3402, 'infect': 3403, 'jeffrey': 3404, 'domest': 3405, 'solo': 3406, 'paus': 3407, 'homer': 3408, 'mistaken': 3409, 'marshal': 3410, 'repuls': 3411, 'saga': 3412, 'celluloid': 3413, 'pun': 3414, 'mickey': 3415, 'equip': 3416, 'interrupt': 3417, 'inappropri': 3418, 'milk': 3419, 'coffe': 3420, 'undoubtedli': 3421, 'cake': 3422, 'hbo': 3423, 'promin': 3424, 'inan': 3425, 'apolog': 3426, 'olivi': 3427, 'chest': 3428, 'harvey': 3429, 'pant': 3430, 'sore': 3431, 'leon': 3432, 'gear': 3433, 'tribe': 3434, 'coat': 3435, 'assembl': 3436, '1996': 3437, 'ginger': 3438, 'devast': 3439, 'primari': 3440, 'airplan': 3441, 'embrac': 3442, 'highest': 3443, 'trace': 3444, 'institut': 3445, 'pen': 3446, 'exot': 3447, 'instant': 3448, 'furthermor': 3449, 'vulgar': 3450, 'retain': 3451, 'jenni': 3452, 'aveng': 3453, 'polanski': 3454, 'consum': 3455, 'maggi': 3456, 'colleagu': 3457, 'pot': 3458, 'brooklyn': 3459, 'florida': 3460, 'solut': 3461, 'humbl': 3462, 'colonel': 3463, 'godzilla': 3464, 'linda': 3465, 'smaller': 3466, 'sale': 3467, 'gender': 3468, 'dutch': 3469, 'dian': 3470, 'wive': 3471, 'bowl': 3472, 'cope': 3473, 'poke': 3474, 'disabl': 3475, 'principl': 3476, 'outer': 3477, 'strain': 3478, 'rick': 3479, 'ya': 3480, '3rd': 3481, '1999': 3482, 'descend': 3483, 'illog': 3484, 'seduct': 3485, 'secondli': 3486, 'bubbl': 3487, 'predecessor': 3488, 'glamor': 3489, 'cue': 3490, 'beneath': 3491, 'primarili': 3492, 'vast': 3493, 'gloriou': 3494, 'dive': 3495, 'blatant': 3496, 'devoid': 3497, 'dud': 3498, 'mixtur': 3499, 'inferior': 3500, 'lol': 3501, 'scope': 3502, 'hal': 3503, 'rabbit': 3504, 'gundam': 3505, 'yard': 3506, 'arab': 3507, 'aggress': 3508, 'streep': 3509, 'simplist': 3510, 'alert': 3511, 'disjoint': 3512, 'talki': 3513, 'senseless': 3514, 'breed': 3515, 'shirley': 3516, 'grinch': 3517, 'alfr': 3518, 'et': 3519, 'z': 3520, 'trademark': 3521, 'countrysid': 3522, 'pearl': 3523, 'museum': 3524, 'april': 3525, 'invas': 3526, 'shelf': 3527, 'casual': 3528, 'garbo': 3529, 'myer': 3530, 'hideou': 3531, 'domino': 3532, 'unhappi': 3533, 'mayor': 3534, 'applaud': 3535, 'sh': 3536, 'hardcor': 3537, 'loyal': 3538, 'robinson': 3539, 'rendit': 3540, 'boom': 3541, 'stack': 3542, 'vanish': 3543, 'slide': 3544, 'acid': 3545, 'obtain': 3546, 'robberi': 3547, 'maci': 3548, 'khan': 3549, 'stir': 3550, 'defens': 3551, 'experiment': 3552, 'mail': 3553, 'stellar': 3554, 'uwe': 3555, 'disgrac': 3556, 'illeg': 3557, 'hopeless': 3558, 'oz': 3559, 'recruit': 3560, 'emphasi': 3561, 'grandfath': 3562, 'diana': 3563, 'amanda': 3564, 'wont': 3565, 'fri': 3566, 'scroog': 3567, 'dicken': 3568, 'blew': 3569, 'spider': 3570, 'craze': 3571, 'soccer': 3572, 'span': 3573, 'rifl': 3574, 'berlin': 3575, 'psychic': 3576, 'dismiss': 3577, 'declin': 3578, 'hartley': 3579, 'tenant': 3580, 'tempt': 3581, 'counter': 3582, 'topless': 3583, 'incomprehens': 3584, 'shaw': 3585, 'niro': 3586, 'shed': 3587, 'woo': 3588, 'ration': 3589, 'intim': 3590, 'bitch': 3591, 'sibl': 3592, 'faster': 3593, 'trashi': 3594, 'ethnic': 3595, 'sympath': 3596, 'resurrect': 3597, 'revolt': 3598, 'justin': 3599, 'riot': 3600, 'wet': 3601, 'parad': 3602, 'goer': 3603, 'porno': 3604, 'lumet': 3605, 'unreal': 3606, 'worm': 3607, 'commend': 3608, '00': 3609, 'enlighten': 3610, 'weakest': 3611, 'wheel': 3612, 'slick': 3613, 'biographi': 3614, 'nephew': 3615, 'ballet': 3616, 'patriot': 3617, 'mario': 3618, 'andr': 3619, 'hesit': 3620, 'gap': 3621, 'region': 3622, 'lena': 3623, 'eager': 3624, 'steam': 3625, 'dealer': 3626, 'ensur': 3627, 'partial': 3628, 'feminist': 3629, 'farmer': 3630, 'honesti': 3631, 'rider': 3632, 'hopper': 3633, 'immort': 3634, 'choru': 3635, 'jonathan': 3636, 'wendi': 3637, 'franco': 3638, 'confin': 3639, 'sandra': 3640, 'mutant': 3641, 'owen': 3642, 'sappi': 3643, 'util': 3644, 'snap': 3645, 'prequel': 3646, 'victori': 3647, 'psychopath': 3648, 'properti': 3649, 'nostalg': 3650, 'morri': 3651, 'blunt': 3652, 'similarli': 3653, 'vice': 3654, 'composit': 3655, 'repress': 3656, 'kingdom': 3657, 'hung': 3658, 'wore': 3659, 'safeti': 3660, 'skull': 3661, 'charlott': 3662, 'leo': 3663, 'macarthur': 3664, 'tail': 3665, 'thru': 3666, 'recycl': 3667, 'acquir': 3668, 'compass': 3669, 'hyde': 3670, 'bow': 3671, 'bergman': 3672, 'tad': 3673, 'rope': 3674, 'repli': 3675, 'bumbl': 3676, 'cg': 3677, 'whoopi': 3678, 'dust': 3679, 'montana': 3680, 'rambl': 3681, 'rocki': 3682, 'pattern': 3683, 'drain': 3684, 'nervou': 3685, 'exit': 3686, 'compens': 3687, 'speci': 3688, 'emperor': 3689, 'campbel': 3690, 'del': 3691, 'latin': 3692, 'farrel': 3693, 'drum': 3694, 'deed': 3695, 'strand': 3696, '1972': 3697, 'heartbreak': 3698, 'dalton': 3699, 'bonu': 3700, 'despair': 3701, 'miseri': 3702, 'kyle': 3703, 'valuabl': 3704, 'snl': 3705, 'gal': 3706, 'oppress': 3707, 'contempl': 3708, 'romp': 3709, 'bleed': 3710, 'percept': 3711, '35': 3712, 'airport': 3713, 'orson': 3714, 'carradin': 3715, 'da': 3716, 'radic': 3717, 'martian': 3718, 'rotten': 3719, 'roth': 3720, 'chess': 3721, 'downhil': 3722, 'gimmick': 3723, 'slug': 3724, 'mistress': 3725, 'pour': 3726, 'tonight': 3727, 'rapist': 3728, 'wacki': 3729, 'olli': 3730, 'pervers': 3731, 'pursuit': 3732, 'arc': 3733, 'attorney': 3734, 'pervert': 3735, 'dazzl': 3736, 'slash': 3737, '1983': 3738, 'programm': 3739, 'tooth': 3740, 'preach': 3741, 'arguabl': 3742, 'unpredict': 3743, 'shelley': 3744, 'tackl': 3745, 'mislead': 3746, 'stilt': 3747, 'taught': 3748, 'champion': 3749, 'banal': 3750, 'melodi': 3751, 'belt': 3752, 'edgar': 3753, 'paltrow': 3754, 'heal': 3755, 'sensat': 3756, 'chicken': 3757, 'gambl': 3758, 'dixon': 3759, 'plight': 3760, 'rubi': 3761, 'maid': 3762, 'passeng': 3763, 'closest': 3764, 'graham': 3765, 'poem': 3766, 'franki': 3767, 'orang': 3768, 'vengeanc': 3769, 'mesmer': 3770, 'cleverli': 3771, 'tiresom': 3772, 'duval': 3773, 'uplift': 3774, 'vocal': 3775, 'bela': 3776, 'employe': 3777, 'raymond': 3778, 'conneri': 3779, 'virginia': 3780, 'marti': 3781, 'yawn': 3782, 'whine': 3783, 'bay': 3784, '1968': 3785, 'numb': 3786, 'climact': 3787, 'mute': 3788, 'outing': 3789, 'amitabh': 3790, 'inject': 3791, 'suffic': 3792, 'swallow': 3793, 'gerard': 3794, 'paranoia': 3795, 'iran': 3796, 'scottish': 3797, 'lundgren': 3798, 'monologu': 3799, 'habit': 3800, 'extens': 3801, 'volum': 3802, 'convincingli': 3803, 'quarter': 3804, 'abraham': 3805, 'crystal': 3806, 'profan': 3807, 'secretli': 3808, 'clone': 3809, 'engross': 3810, 'giggl': 3811, 'sirk': 3812, 'calm': 3813, 'tube': 3814, 'pokemon': 3815, 'nichola': 3816, 'septemb': 3817, 'grotesqu': 3818, 'im': 3819, 'plod': 3820, 'richardson': 3821, 'fed': 3822, 'frankenstein': 3823, 'profess': 3824, 'bend': 3825, 'underst': 3826, 'taxi': 3827, 'backward': 3828, 'meander': 3829, 'dispos': 3830, 'chicago': 3831, 'lowest': 3832, 'junior': 3833, 'poetri': 3834, 'trend': 3835, 'surpass': 3836, 'franci': 3837, 'austen': 3838, 'linger': 3839, 'ethan': 3840, 'expand': 3841, 'abort': 3842, 'spock': 3843, 'earl': 3844, 'econom': 3845, 'hum': 3846, 'simplic': 3847, 'mundan': 3848, 'muddl': 3849, 'nostalgia': 3850, 'stallon': 3851, 'catchi': 3852, 'rubber': 3853, 'eugen': 3854, 'lure': 3855, 'rant': 3856, 'dysfunct': 3857, 'compliment': 3858, 'household': 3859, 'greedi': 3860, 'descent': 3861, 'literatur': 3862, 'tourist': 3863, 'instrument': 3864, 'sue': 3865, 'myth': 3866, 'spoke': 3867, 'cannon': 3868, 'waitress': 3869, 'der': 3870, 'firstli': 3871, 'dictat': 3872, 'phoni': 3873, 'louis': 3874, 'crucial': 3875, 'mankind': 3876, 'insur': 3877, 'furi': 3878, 'stale': 3879, 'bacal': 3880, 'cent': 3881, 'damon': 3882, 'coast': 3883, 'omen': 3884, 'eaten': 3885, 'dement': 3886, 'lang': 3887, 'mortal': 3888, 'irrelev': 3889, 'equival': 3890, 'recognis': 3891, 'sissi': 3892, 'flee': 3893, 'alongsid': 3894, 'recognit': 3895, 'molli': 3896, 'occupi': 3897, 'deaf': 3898, 'duck': 3899, 'map': 3900, 'phantom': 3901, 'carel': 3902, 'randi': 3903, 'hello': 3904, 'june': 3905, 'rude': 3906, 'bump': 3907, 'labor': 3908, 'distinguish': 3909, 'newli': 3910, 'freez': 3911, 'grayson': 3912, 'reign': 3913, 'drake': 3914, 'dreari': 3915, '1973': 3916, 'damm': 3917, 'twilight': 3918, 'loyalti': 3919, 'onlin': 3920, 'wisdom': 3921, 'lengthi': 3922, 'bike': 3923, 'antwon': 3924, 'ashley': 3925, 'daisi': 3926, 'cyborg': 3927, 'blackmail': 3928, 'likewis': 3929, 'biko': 3930, 'heel': 3931, 'rooney': 3932, 'buffalo': 3933, 'exposur': 3934, 'attribut': 3935, 'interior': 3936, 'basketbal': 3937, 'startl': 3938, 'butler': 3939, 'incorpor': 3940, 'emphas': 3941, 'ridden': 3942, 'inher': 3943, 'prey': 3944, 'pink': 3945, 'worn': 3946, 'boxer': 3947, 'analysi': 3948, 'provoc': 3949, 'vein': 3950, 'proce': 3951, 'unorigin': 3952, 'keith': 3953, 'baddi': 3954, 'chronicl': 3955, 'tunnel': 3956, 'sailor': 3957, 'nineti': 3958, 'barrymor': 3959, 'approv': 3960, 'undeni': 3961, 'underli': 3962, 'simmon': 3963, 'mighti': 3964, 'barrel': 3965, 'mormon': 3966, 'meg': 3967, 'substitut': 3968, 'unrel': 3969, 'indiffer': 3970, 'stalker': 3971, 'meyer': 3972, 'hypnot': 3973, 'predat': 3974, 'belushi': 3975, 'condemn': 3976, 'robbin': 3977, 'elm': 3978, 'er': 3979, 'degrad': 3980, 'bunni': 3981, 'nicol': 3982, 'othello': 3983, 'fleet': 3984, 'walsh': 3985, 'drift': 3986, 'millionair': 3987, 'carla': 3988, 'julian': 3989, 'improvis': 3990, 'edgi': 3991, 'unawar': 3992, 'roof': 3993, 'alarm': 3994, 'warmth': 3995, 'agenda': 3996, 'disord': 3997, 'enthusiasm': 3998, 'firm': 3999, '3d': 4000, 'vital': 4001, 'dolph': 4002, 'marion': 4003, 'novak': 4004, 'palac': 4005, 'exquisit': 4006, 'mtv': 4007, 'nyc': 4008, 'watson': 4009, 'hay': 4010, 'greed': 4011, 'rukh': 4012, 'reid': 4013, 'shove': 4014, 'priceless': 4015, 'errol': 4016, 'lampoon': 4017, 'alison': 4018, 'glanc': 4019, '1933': 4020, 'distort': 4021, 'petti': 4022, 'spain': 4023, 'israel': 4024, 'session': 4025, 'orlean': 4026, 'minimum': 4027, 'showdown': 4028, 'what': 4029, 'cassidi': 4030, 'coup': 4031, '13th': 4032, 'campaign': 4033, 'sergeant': 4034, 'unleash': 4035, 'testament': 4036, 'preserv': 4037, 'angela': 4038, 'simultan': 4039, 'iraq': 4040, 'eastern': 4041, 'nun': 4042, 'valentin': 4043, 'crown': 4044, 'championship': 4045, 'randomli': 4046, 'peril': 4047, 'drip': 4048, 'pamela': 4049, 'profit': 4050, 'beatl': 4051, 'peck': 4052, 'thompson': 4053, 'gestur': 4054, 'zizek': 4055, 'ponder': 4056, 'unimagin': 4057, 'restrain': 4058, 'reson': 4059, 'regist': 4060, 'empathi': 4061, 'realm': 4062, 'brenda': 4063, 'jan': 4064, 'contradict': 4065, 'scotland': 4066, 'represent': 4067, '1984': 4068, 'bro': 4069, 'mon': 4070, 'shootout': 4071, 'wig': 4072, 'stake': 4073, 'cooki': 4074, 'crawl': 4075, 'stroke': 4076, 'gentleman': 4077, 'perpetu': 4078, 'valley': 4079, 'din': 4080, 'kurosawa': 4081, 'buster': 4082, 'calib': 4083, 'climat': 4084, 'quinn': 4085, 'cream': 4086, 'travesti': 4087, 'miyazaki': 4088, 'han': 4089, 'exposit': 4090, 'crow': 4091, 'rout': 4092, 'fido': 4093, 'sabrina': 4094, 'pole': 4095, 'painter': 4096, 'censor': 4097, 'cloud': 4098, 'baldwin': 4099, 'pretens': 4100, '1997': 4101, 'passabl': 4102, 'femm': 4103, 'dana': 4104, 'abomin': 4105, 'sammi': 4106, 'darren': 4107, 'meryl': 4108, 'derang': 4109, 'demis': 4110, 'greg': 4111, 'monoton': 4112, 'warrant': 4113, 'distress': 4114, 'unsatisfi': 4115, 'sucker': 4116, 'unseen': 4117, '1987': 4118, 'spacey': 4119, 'shaki': 4120, 'crawford': 4121, 'absent': 4122, 'josh': 4123, 'perceiv': 4124, 'businessman': 4125, 'stargat': 4126, 'compromis': 4127, 'geek': 4128, 'delic': 4129, 'wax': 4130, 'fuller': 4131, 'tacki': 4132, 'mclaglen': 4133, 'ross': 4134, 'traumat': 4135, 'ustinov': 4136, 'shoddi': 4137, 'soderbergh': 4138, 'kumar': 4139, 'verbal': 4140, 'judgment': 4141, 'correctli': 4142, 'nathan': 4143, 'tech': 4144, 'valid': 4145, '1993': 4146, 'reluct': 4147, 'primit': 4148, 'clash': 4149, 'click': 4150, 'fog': 4151, 'expedit': 4152, 'accuraci': 4153, 'uncov': 4154, 'unravel': 4155, 'anchor': 4156, 'exclus': 4157, 'furiou': 4158, 'jewel': 4159, 'sid': 4160, 'norm': 4161, 'tarantino': 4162, 'deceas': 4163, 'deniro': 4164, 'polici': 4165, 'wholli': 4166, 'dee': 4167, 'fenc': 4168, 'seal': 4169, 'antonioni': 4170, 'austin': 4171, 'sunni': 4172, 'sustain': 4173, 'ritual': 4174, 'temper': 4175, 'alec': 4176, 'fought': 4177, '1995': 4178, '3000': 4179, 'tax': 4180, 'wang': 4181, 'patienc': 4182, 'vanc': 4183, 'debt': 4184, 'dreck': 4185, 'roller': 4186, 'trait': 4187, 'behold': 4188, 'clerk': 4189, 'murray': 4190, '1971': 4191, 'seldom': 4192, 'sheet': 4193, 'pocket': 4194, 'crippl': 4195, 'fabric': 4196, 'unfair': 4197, 'wretch': 4198, 'bake': 4199, '2008': 4200, 'joel': 4201, 'nicola': 4202, 'conduct': 4203, 'enforc': 4204, 'malon': 4205, 'slam': 4206, 'darn': 4207, 'fart': 4208, 'logan': 4209, 'mode': 4210, 'hallucin': 4211, 'sand': 4212, 'shanghai': 4213, 'despis': 4214, 'rita': 4215, 'exhaust': 4216, 'schedul': 4217, 'scriptwrit': 4218, 'bridget': 4219, 'guitar': 4220, 'soup': 4221, 'clau': 4222, 'critiqu': 4223, 'canyon': 4224, 'stark': 4225, 'penni': 4226, 'stuart': 4227, 'isabel': 4228, 'divid': 4229, 'runner': 4230, 'sweep': 4231, 'robber': 4232, 'phil': 4233, 'squad': 4234, 'bias': 4235, 'preposter': 4236, 'fundament': 4237, 'conscious': 4238, 'grief': 4239, 'helpless': 4240, 'outlin': 4241, 'preston': 4242, 'shell': 4243, 'legaci': 4244, 'pete': 4245, 'tactic': 4246, 'technicolor': 4247, 'newman': 4248, 'culmin': 4249, 'drove': 4250, 'implic': 4251, 'lacklust': 4252, 'marc': 4253, 'russia': 4254, 'sniper': 4255, 'propos': 4256, 'kansa': 4257, 'vomit': 4258, 'jodi': 4259, 'palanc': 4260, 'connor': 4261, 'liberti': 4262, 'flair': 4263, 'restrict': 4264, 'jacket': 4265, 'cigarett': 4266, 'invad': 4267, 'unexpectedli': 4268, 'sugar': 4269, 'downey': 4270, 'bloom': 4271, 'passag': 4272, 'rehash': 4273, 'gregori': 4274, 'inabl': 4275, 'alley': 4276, 'boyl': 4277, 'consciou': 4278, 'delv': 4279, 'agenc': 4280, 'rear': 4281, 'sentinel': 4282, 'alicia': 4283, 'vet': 4284, 'tendenc': 4285, 'horn': 4286, 'improb': 4287, 'karl': 4288, 'wrench': 4289, 'lush': 4290, 'awhil': 4291, 'rehears': 4292, 'sharon': 4293, 'behaviour': 4294, 'rampag': 4295, '1936': 4296, 'bacon': 4297, 'foxx': 4298, 'chainsaw': 4299, 'pale': 4300, '22': 4301, 'feat': 4302, 'asylum': 4303, 'tripe': 4304, 'aesthet': 4305, 'cap': 4306, 'mccoy': 4307, 'rod': 4308, 'arrow': 4309, 'kolchak': 4310, 'ladder': 4311, 'yeti': 4312, 'delet': 4313, 'hungri': 4314, 'stream': 4315, 'paradis': 4316, 'wildli': 4317, 'globe': 4318, 'sung': 4319, 'amazon': 4320, 'prank': 4321, 'weav': 4322, 'loneli': 4323, 'tomorrow': 4324, 'lurk': 4325, '19th': 4326, 'newcom': 4327, 'tasteless': 4328, '1988': 4329, 'suspicion': 4330, 'underneath': 4331, 'coaster': 4332, '1920': 4333, 'hackney': 4334, 'hulk': 4335, 'rhythm': 4336, 'filler': 4337, 'wagner': 4338, 'minu': 4339, '1978': 4340, 'el': 4341, 'financ': 4342, 'elit': 4343, 'conscienc': 4344, 'visitor': 4345, 'paramount': 4346, 'aristocrat': 4347, 'rumor': 4348, 'suffici': 4349, 'fright': 4350, 'thunderbird': 4351, 'shortcom': 4352, 'basing': 4353, 'scoop': 4354, 'spice': 4355, 'secondari': 4356, 'worship': 4357, 'immers': 4358, 'hopkin': 4359, 'beverli': 4360, 'straightforward': 4361, 'tierney': 4362, 'literari': 4363, 'entranc': 4364, 'chavez': 4365, 'chamberlain': 4366, 'en': 4367, 'counterpart': 4368, 'penn': 4369, 'grudg': 4370, '75': 4371, 'quietli': 4372, 'bread': 4373, 'teas': 4374, 'heist': 4375, 'inmat': 4376, 'smell': 4377, 'rub': 4378, '1939': 4379, 'leigh': 4380, 'lectur': 4381, 'choppi': 4382, 'atroc': 4383, 'brit': 4384, 'cancer': 4385, 'naughti': 4386, 'standout': 4387, 'posey': 4388, 'dirt': 4389, 'paxton': 4390, 'springer': 4391, 'couch': 4392, '1989': 4393, 'abrupt': 4394, 'impos': 4395, 'recogniz': 4396, 'ram': 4397, 'iv': 4398, 'minist': 4399, 'wwe': 4400, 'ingeni': 4401, 'curli': 4402, 'bernard': 4403, 'transcend': 4404, 'heartfelt': 4405, 'morbid': 4406, '1986': 4407, 'injuri': 4408, 'cattl': 4409, 'policeman': 4410, 'sassi': 4411, 'entitl': 4412, 'misguid': 4413, 'lindsay': 4414, 'skeptic': 4415, 'nemesi': 4416, 'nolan': 4417, 'watcher': 4418, 'variat': 4419, 'esther': 4420, 'missil': 4421, 'sublim': 4422, 'attenborough': 4423, 'net': 4424, 'laurenc': 4425, 'clan': 4426, 'ratso': 4427, 'yearn': 4428, 'enthral': 4429, 'quaid': 4430, 'convert': 4431, 'moreov': 4432, 'geni': 4433, 'duel': 4434, 'ace': 4435, 'rosemari': 4436, 'out': 4437, 'moder': 4438, 'unexplain': 4439, 'bye': 4440, 'hopelessli': 4441, 'dont': 4442, 'cruelti': 4443, '1979': 4444, 'carlito': 4445, 'setup': 4446, 'tyler': 4447, 'characteris': 4448, 'puppi': 4449, 'buzz': 4450, 'grin': 4451, 'uncut': 4452, 'graini': 4453, 'facil': 4454, 'youngest': 4455, 'reliabl': 4456, 'obstacl': 4457, 'brood': 4458, 'spiral': 4459, 'enabl': 4460, 'bean': 4461, 'mytholog': 4462, 'steadi': 4463, 'poe': 4464, 'egg': 4465, 'diari': 4466, 'vader': 4467, 'artsi': 4468, 'kitti': 4469, 'kidman': 4470, 'hk': 4471, 'underworld': 4472, 'fuel': 4473, 'christin': 4474, 'effici': 4475, 'martha': 4476, 'bewar': 4477, 'heap': 4478, 'bounc': 4479, 'despic': 4480, 'exterior': 4481, 'disastr': 4482, 'niec': 4483, 'narrow': 4484, 'kline': 4485, 'brendan': 4486, 'decept': 4487, 'weather': 4488, 'oblig': 4489, 'gillian': 4490, 'bronson': 4491, 'baffl': 4492, 'athlet': 4493, 'sweat': 4494, 'hammi': 4495, 'gina': 4496, 'preming': 4497, 'spontan': 4498, 'patricia': 4499, '1969': 4500, 'acquaint': 4501, 'clueless': 4502, 'hain': 4503, 'candl': 4504, 'taboo': 4505, 'injur': 4506, 'sooner': 4507, 'goof': 4508, 'dilemma': 4509, 'enlist': 4510, 'suprem': 4511, 'preachi': 4512, 'uh': 4513, 'tick': 4514, 'loath': 4515, 'mayhem': 4516, 'insipid': 4517, 'viewpoint': 4518, 'headach': 4519, 'biker': 4520, '73': 4521, 'renaiss': 4522, 'outlaw': 4523, 'harmless': 4524, 'scar': 4525, 'lester': 4526, 'astound': 4527, 'loi': 4528, 'housewif': 4529, 'angst': 4530, 'circu': 4531, 'shatter': 4532, 'analyz': 4533, '19': 4534, 'dandi': 4535, 'fontain': 4536, 'virtu': 4537, 'sleepwalk': 4538, 'rome': 4539, 'trigger': 4540, 'mermaid': 4541, 'hepburn': 4542, 'phenomenon': 4543, 'fluff': 4544, 'bent': 4545, 'filth': 4546, 'foolish': 4547, 'gere': 4548, 'stair': 4549, 'intric': 4550, 'oldest': 4551, 'steer': 4552, 'hostag': 4553, 'hooker': 4554, 'dismal': 4555, 'claustrophob': 4556, 'zoom': 4557, 'ebert': 4558, 'dish': 4559, 'contempt': 4560, 'idol': 4561, 'immatur': 4562, 'salt': 4563, 'boston': 4564, 'redund': 4565, 'whore': 4566, 'spade': 4567, 'amor': 4568, 'stimul': 4569, 'macho': 4570, 'hokey': 4571, 'tripl': 4572, 'slimi': 4573, 'surgeri': 4574, 'glorifi': 4575, 'camcord': 4576, 'guin': 4577, 'overlong': 4578, 'scorses': 4579, 'corbett': 4580, 'sox': 4581, 'ariel': 4582, 'cassavet': 4583, 'mutual': 4584, '1976': 4585, 'flirt': 4586, 'shield': 4587, 'fascist': 4588, 'gasp': 4589, 'harold': 4590, 'remad': 4591, 'radiat': 4592, 'mount': 4593, 'astronaut': 4594, 'shred': 4595, 'corman': 4596, 'muscl': 4597, 'perman': 4598, 'nolt': 4599, 'transplant': 4600, 'obligatori': 4601, 'rhyme': 4602, 'gabl': 4603, 'preced': 4604, '1981': 4605, 'proport': 4606, 'frantic': 4607, 'widescreen': 4608, 'faint': 4609, 'zane': 4610, 'spree': 4611, 'assert': 4612, 'flashi': 4613, 'cohen': 4614, 'conquer': 4615, 'joker': 4616, 'messi': 4617, 'spinal': 4618, 'margin': 4619, 'beard': 4620, 'cush': 4621, 'schlock': 4622, 'antagonist': 4623, 'flag': 4624, 'keen': 4625, 'dwarf': 4626, 'down': 4627, 'alvin': 4628, 'strongest': 4629, 'trivia': 4630, 'cow': 4631, 'naschi': 4632, 'barn': 4633, '28': 4634, 'someday': 4635, 'strive': 4636, 'bachelor': 4637, 'archiv': 4638, 'off': 4639, 'scandal': 4640, 'raj': 4641, 'wield': 4642, 'triangl': 4643, 'claud': 4644, 'aborigin': 4645, 'mobil': 4646, '95': 4647, 'sensual': 4648, 'persuad': 4649, 'ritchi': 4650, 'repris': 4651, 'interestingli': 4652, 'hara': 4653, 'bitten': 4654, 'divin': 4655, 'brush': 4656, 'flock': 4657, 'resum': 4658, 'info': 4659, 'discern': 4660, 'inflict': 4661, 'carey': 4662, 'instruct': 4663, 'mol': 4664, 'deer': 4665, 'vaniti': 4666, '1945': 4667, 'danish': 4668, 'fishburn': 4669, 'departur': 4670, 'www': 4671, 'neurot': 4672, 'boob': 4673, 'rot': 4674, 'hug': 4675, 'cb': 4676, 'undermin': 4677, 'neill': 4678, 'kathryn': 4679, 'prophet': 4680, 'artwork': 4681, 'earnest': 4682, 'miracul': 4683, 'pixar': 4684, 'cycl': 4685, 'axe': 4686, 'cliffhang': 4687, 'ish': 4688, 'jade': 4689, 'banter': 4690, 'traffic': 4691, 'frontier': 4692, 'dim': 4693, 'pickford': 4694, 'dame': 4695, 'mobster': 4696, 'helm': 4697, 'loretta': 4698, 'proclaim': 4699, 'hapless': 4700, 'harrison': 4701, 'pacif': 4702, 'clad': 4703, 'senior': 4704, 'europa': 4705, 'luka': 4706, 'recit': 4707, 'heartwarm': 4708, 'parson': 4709, 'submit': 4710, 'hilar': 4711, 'wendigo': 4712, 'dylan': 4713, 'fragil': 4714, 'carlo': 4715, 'casino': 4716, 'biblic': 4717, 'cher': 4718, 'anton': 4719, 'vibrant': 4720, 'melissa': 4721, 'timberlak': 4722, 'bate': 4723, 'colin': 4724, 'flavor': 4725, 'choke': 4726, 'jo': 4727, 'northern': 4728, 'isra': 4729, 'marlon': 4730, 'legitim': 4731, 'venom': 4732, 'toronto': 4733, 'orphan': 4734, 'foil': 4735, 'lui': 4736, 'feast': 4737, 'nope': 4738, 'bikini': 4739, 'vanessa': 4740, 'vile': 4741, 'seedi': 4742, 'bondag': 4743, 'pc': 4744, 'cerebr': 4745, 'akin': 4746, 'jordan': 4747, 'winchest': 4748, 'illus': 4749, 'aris': 4750, 'mason': 4751, 'sicken': 4752, 'alexandr': 4753, 'eli': 4754, 'shepherd': 4755, 'wardrob': 4756, 'misfortun': 4757, 'electron': 4758, 'razor': 4759, 'lucil': 4760, 'http': 4761, 'redneck': 4762, 'holocaust': 4763, 'uma': 4764, 'blatantli': 4765, 'static': 4766, 'articl': 4767, 'token': 4768, 'breakfast': 4769, 'mathieu': 4770, 'estrang': 4771, 'rooki': 4772, 'trier': 4773, 'milo': 4774, 'antholog': 4775, 'linear': 4776, 'turd': 4777, 'deem': 4778, 'smack': 4779, 'oppon': 4780, 'feminin': 4781, 'nightclub': 4782, 'highway': 4783, 'shorter': 4784, 'clinic': 4785, 'swept': 4786, 'outdat': 4787, 'disregard': 4788, 'wrestler': 4789, 'abund': 4790, 'gilbert': 4791, 'boyer': 4792, 'peer': 4793, 'glare': 4794, 'ideolog': 4795, 'howl': 4796, 'affleck': 4797, 'cartoonish': 4798, 'psych': 4799, 'gunga': 4800, 'tack': 4801, 'comprehend': 4802, 'audrey': 4803, 'knightley': 4804, 'retriev': 4805, 'leather': 4806, 'styliz': 4807, 'fifth': 4808, 'frog': 4809, 'ceremoni': 4810, 'dudley': 4811, 'magician': 4812, 'huston': 4813, 'charlton': 4814, 'compris': 4815, 'sleaz': 4816, 'greet': 4817, 'plate': 4818, 'evolut': 4819, 'summar': 4820, 'collector': 4821, 'phenomen': 4822, 'potter': 4823, 'lighter': 4824, 'whack': 4825, 'senat': 4826, 'lavish': 4827, 'bastard': 4828, 'client': 4829, 'uniformli': 4830, 'toe': 4831, 'spawn': 4832, 'energet': 4833, 'breakdown': 4834, 'chip': 4835, 'cuban': 4836, 'einstein': 4837, 'salman': 4838, 'spine': 4839, 'durat': 4840, '1991': 4841, 'snatch': 4842, 'newer': 4843, 'deliver': 4844, 'conrad': 4845, 'btw': 4846, 'monument': 4847, '1994': 4848, 'tara': 4849, 'mitch': 4850, 'lifeless': 4851, 'boo': 4852, 'goldsworthi': 4853, 'corn': 4854, 'bogu': 4855, 'cemeteri': 4856, 'moe': 4857, '4th': 4858, 'braveheart': 4859, 'constitut': 4860, 'fluid': 4861, 'jule': 4862, 'pronounc': 4863, 'bulk': 4864, 'judd': 4865, 'nina': 4866, 'occup': 4867, 'signal': 4868, 'gilliam': 4869, 'embark': 4870, 'replay': 4871, 'liu': 4872, 'jam': 4873, 'ie': 4874, 'outright': 4875, '1977': 4876, 'inaccuraci': 4877, 'kent': 4878, 'eleven': 4879, 'capot': 4880, 'kazan': 4881, 'trauma': 4882, 'clara': 4883, '1974': 4884, 'evelyn': 4885, 'sorrow': 4886, 'alleg': 4887, 'neatli': 4888, 'spectacl': 4889, 'armstrong': 4890, 'firmli': 4891, 'luxuri': 4892, 'bori': 4893, 'wtf': 4894, 'ol': 4895, 'creek': 4896, 'appl': 4897, 'historian': 4898, 'belli': 4899, 'healthi': 4900, 'randolph': 4901, 'undertak': 4902, 'jedi': 4903, 'lex': 4904, 'mcqueen': 4905, 'cecil': 4906, 'undead': 4907, 'jare': 4908, 'tokyo': 4909, 'bait': 4910, 'relentless': 4911, 'subtli': 4912, 'roar': 4913, 'propheci': 4914, 'rosario': 4915, 'pepper': 4916, 'sidewalk': 4917, 'curtain': 4918, 'congratul': 4919, 'vignett': 4920, 'comb': 4921, 'inclus': 4922, 'lauren': 4923, 'truman': 4924, 'comprehens': 4925, 'walt': 4926, 'abound': 4927, 'basket': 4928, 'meal': 4929, 'cape': 4930, 'galaxi': 4931, 'conan': 4932, 'poker': 4933, 'lanc': 4934, 'vain': 4935, 'palm': 4936, 'inaccur': 4937, 'unsuspect': 4938, 'groan': 4939, 'carmen': 4940, 'kiddi': 4941, 'knee': 4942, 'unattract': 4943, 'aussi': 4944, 'blur': 4945, 'paula': 4946, 'porter': 4947, 'goldblum': 4948, 'miniseri': 4949, 'id': 4950, 'sacrif': 4951, 'forgiven': 4952, 'fruit': 4953, 'antonio': 4954, 'pioneer': 4955, 'mum': 4956, 'genet': 4957, 'miami': 4958, 'ash': 4959, 'spray': 4960, 'bsg': 4961, '1985': 4962, 'decapit': 4963, 'scariest': 4964, 'optimist': 4965, 'masterson': 4966, 'casper': 4967, 'monti': 4968, 'epitom': 4969, 'dubiou': 4970, 'omin': 4971, 'vastli': 4972, 'profil': 4973, 'detach': 4974, 'playboy': 4975, 'drone': 4976, 'handicap': 4977, 'growth': 4978, 'incorrect': 4979, 'weaker': 4980, 'bravo': 4981, 'substanti': 4982, 'spill': 4983, 'victorian': 4984, 'motorcycl': 4985, 'verg': 4986, 'frontal': 4987, 'ghetto': 4988, 'sparkl': 4989, 'hostil': 4990, 'bach': 4991, 'weari': 4992, 'turtl': 4993, '21st': 4994, 'modest': 4995, 'macabr': 4996, 'ingrid': 4997, 'jill': 4998, 'cypher': 4999}\n"
     ]
    }
   ],
   "source": [
    "print(word_dict)"
   ]
  },
  {
   "cell_type": "markdown",
   "metadata": {},
   "source": [
    "**Question:** What are the five most frequently appearing (tokenized) words in the training set? Does it makes sense that these words appear frequently in the training set?"
   ]
  },
  {
   "cell_type": "markdown",
   "metadata": {},
   "source": [
    "**Answer:** movi,film,one,like,time are the five most frequent words.And it does not makes any sense to appear this wrods frequently in trainng set."
   ]
  },
  {
   "cell_type": "code",
   "execution_count": 14,
   "metadata": {},
   "outputs": [
    {
     "name": "stdout",
     "output_type": "stream",
     "text": [
      "The 20 most common words in reviews are:  [('movi', 51695), ('film', 48190), ('one', 27741), ('like', 22799), ('time', 16191), ('good', 15360), ('make', 15207), ('charact', 14178), ('get', 14141), ('see', 14111), ('watch', 13940), ('stori', 13168), ('even', 12906), ('would', 12436), ('realli', 11736), ('well', 11042), ('scene', 10586), ('look', 10051), ('show', 9878), ('much', 9765)]\n"
     ]
    }
   ],
   "source": [
    "# TODO: Use this space to determine the five most frequently appearing words in the training set.\n",
    "word_count = get_word_count(train_X)\n",
    "sorted_words = [(v[0], v[1]) for v in sorted(word_count.items(), key=lambda kv: kv[1], reverse=True)]                \n",
    "print(\"The 20 most common words in reviews are: \", sorted_words[:20])"
   ]
  },
  {
   "cell_type": "markdown",
   "metadata": {},
   "source": [
    "### Save `word_dict`\n",
    "\n",
    "Later on when we construct an endpoint which processes a submitted review we will need to make use of the `word_dict` which we have created. As such, we will save it to a file now for future use."
   ]
  },
  {
   "cell_type": "code",
   "execution_count": 15,
   "metadata": {},
   "outputs": [],
   "source": [
    "data_dir = '../data/pytorch' # The folder we will use for storing data\n",
    "if not os.path.exists(data_dir): # Make sure that the folder exists\n",
    "    os.makedirs(data_dir)"
   ]
  },
  {
   "cell_type": "code",
   "execution_count": 16,
   "metadata": {},
   "outputs": [],
   "source": [
    "with open(os.path.join(data_dir, 'word_dict.pkl'), \"wb\") as f:\n",
    "    pickle.dump(word_dict, f)"
   ]
  },
  {
   "cell_type": "markdown",
   "metadata": {},
   "source": [
    "### Transform the reviews\n",
    "\n",
    "Now that we have our word dictionary which allows us to transform the words appearing in the reviews into integers, it is time to make use of it and convert our reviews to their integer sequence representation, making sure to pad or truncate to a fixed length, which in our case is `500`."
   ]
  },
  {
   "cell_type": "code",
   "execution_count": 17,
   "metadata": {},
   "outputs": [],
   "source": [
    "def convert_and_pad(word_dict, sentence, pad=500):\n",
    "    NOWORD = 0 # We will use 0 to represent the 'no word' category\n",
    "    INFREQ = 1 # and we use 1 to represent the infrequent words, i.e., words not appearing in word_dict\n",
    "    \n",
    "    working_sentence = [NOWORD] * pad\n",
    "    \n",
    "    for word_index, word in enumerate(sentence[:pad]):\n",
    "        if word in word_dict:\n",
    "            working_sentence[word_index] = word_dict[word]\n",
    "        else:\n",
    "            working_sentence[word_index] = INFREQ\n",
    "            \n",
    "    return working_sentence, min(len(sentence), pad)\n",
    "\n",
    "def convert_and_pad_data(word_dict, data, pad=500):\n",
    "    result = []\n",
    "    lengths = []\n",
    "    \n",
    "    for sentence in data:\n",
    "        converted, leng = convert_and_pad(word_dict, sentence, pad)\n",
    "        result.append(converted)\n",
    "        lengths.append(leng)\n",
    "        \n",
    "    return np.array(result), np.array(lengths)"
   ]
  },
  {
   "cell_type": "code",
   "execution_count": 18,
   "metadata": {},
   "outputs": [],
   "source": [
    "train_X, train_X_len = convert_and_pad_data(word_dict, train_X)\n",
    "test_X, test_X_len = convert_and_pad_data(word_dict, test_X)"
   ]
  },
  {
   "cell_type": "markdown",
   "metadata": {},
   "source": [
    "As a quick check to make sure that things are working as intended, check to see what one of the reviews in the training set looks like after having been processeed. Does this look reasonable? What is the length of a review in the training set?"
   ]
  },
  {
   "cell_type": "code",
   "execution_count": 19,
   "metadata": {},
   "outputs": [
    {
     "data": {
      "text/plain": [
       "array([ 304, 1600, 1077,    1,    1,  481,  712, 2419, 2428,  623,   40,\n",
       "        161,   15,   52,   69,  154,  422,  422,   16,   69,    1,  829,\n",
       "        724,  257,  604,  146,  238,  458, 1051, 1113,    3,  197,  712,\n",
       "       2419, 2428,  355,    1,  251, 1829,  576,  548,  138,  158,   21,\n",
       "         13, 1658,  110, 1335,  712,  114,  195,  206, 2428, 1008,   61,\n",
       "          1,    4, 2428,  642,   66,   40,  548,   23, 1483,  355,  572,\n",
       "        548, 3942,    1, 1094,   27,  737,  268,  107,   89,  167,    1,\n",
       "       1982,  138,    1,   29,   13,  332,  174,  507,   52,   31,  559,\n",
       "        723,  109,  675, 1176,  375,    3,   39,  644, 1798,    1,  259,\n",
       "        238,  210,  798,    1,  108,   46,   15,  303,   46,  238,  671,\n",
       "         83,   44,   72,   47, 1355, 1024, 2041,    0,    0,    0,    0,\n",
       "          0,    0,    0,    0,    0,    0,    0,    0,    0,    0,    0,\n",
       "          0,    0,    0,    0,    0,    0,    0,    0,    0,    0,    0,\n",
       "          0,    0,    0,    0,    0,    0,    0,    0,    0,    0,    0,\n",
       "          0,    0,    0,    0,    0,    0,    0,    0,    0,    0,    0,\n",
       "          0,    0,    0,    0,    0,    0,    0,    0,    0,    0,    0,\n",
       "          0,    0,    0,    0,    0,    0,    0,    0,    0,    0,    0,\n",
       "          0,    0,    0,    0,    0,    0,    0,    0,    0,    0,    0,\n",
       "          0,    0,    0,    0,    0,    0,    0,    0,    0,    0,    0,\n",
       "          0,    0,    0,    0,    0,    0,    0,    0,    0,    0,    0,\n",
       "          0,    0,    0,    0,    0,    0,    0,    0,    0,    0,    0,\n",
       "          0,    0,    0,    0,    0,    0,    0,    0,    0,    0,    0,\n",
       "          0,    0,    0,    0,    0,    0,    0,    0,    0,    0,    0,\n",
       "          0,    0,    0,    0,    0,    0,    0,    0,    0,    0,    0,\n",
       "          0,    0,    0,    0,    0,    0,    0,    0,    0,    0,    0,\n",
       "          0,    0,    0,    0,    0,    0,    0,    0,    0,    0,    0,\n",
       "          0,    0,    0,    0,    0,    0,    0,    0,    0,    0,    0,\n",
       "          0,    0,    0,    0,    0,    0,    0,    0,    0,    0,    0,\n",
       "          0,    0,    0,    0,    0,    0,    0,    0,    0,    0,    0,\n",
       "          0,    0,    0,    0,    0,    0,    0,    0,    0,    0,    0,\n",
       "          0,    0,    0,    0,    0,    0,    0,    0,    0,    0,    0,\n",
       "          0,    0,    0,    0,    0,    0,    0,    0,    0,    0,    0,\n",
       "          0,    0,    0,    0,    0,    0,    0,    0,    0,    0,    0,\n",
       "          0,    0,    0,    0,    0,    0,    0,    0,    0,    0,    0,\n",
       "          0,    0,    0,    0,    0,    0,    0,    0,    0,    0,    0,\n",
       "          0,    0,    0,    0,    0,    0,    0,    0,    0,    0,    0,\n",
       "          0,    0,    0,    0,    0,    0,    0,    0,    0,    0,    0,\n",
       "          0,    0,    0,    0,    0,    0,    0,    0,    0,    0,    0,\n",
       "          0,    0,    0,    0,    0,    0,    0,    0,    0,    0,    0,\n",
       "          0,    0,    0,    0,    0,    0,    0,    0,    0,    0,    0,\n",
       "          0,    0,    0,    0,    0,    0,    0,    0,    0,    0,    0,\n",
       "          0,    0,    0,    0,    0,    0,    0,    0,    0,    0,    0,\n",
       "          0,    0,    0,    0,    0,    0,    0,    0,    0,    0,    0,\n",
       "          0,    0,    0,    0,    0,    0,    0,    0,    0,    0,    0,\n",
       "          0,    0,    0,    0,    0,    0,    0,    0,    0,    0,    0,\n",
       "          0,    0,    0,    0,    0])"
      ]
     },
     "execution_count": 19,
     "metadata": {},
     "output_type": "execute_result"
    }
   ],
   "source": [
    "# Use this cell to examine one of the processed reviews to make sure everything is working as intended.\n",
    "train_X[121]"
   ]
  },
  {
   "cell_type": "markdown",
   "metadata": {},
   "source": [
    "**Question:** In the cells above we use the `preprocess_data` and `convert_and_pad_data` methods to process both the training and testing set. Why or why not might this be a problem?"
   ]
  },
  {
   "cell_type": "markdown",
   "metadata": {},
   "source": [
    "**Answer:**\n",
    "To deal with both short and very long reviews, we can pad or truncate all the reviews to a specific length (in this case 500). For reviews shorter than 500 words, we'll pad with 0s. For reviews longer than 500, we truncate them to the first 500 words."
   ]
  },
  {
   "cell_type": "markdown",
   "metadata": {},
   "source": [
    "## Step 3: Upload the data to S3\n",
    "\n",
    "As in the XGBoost notebook, we will need to upload the training dataset to S3 in order for our training code to access it. For now we will save it locally and we will upload to S3 later on.\n",
    "\n",
    "### Save the processed training dataset locally\n",
    "\n",
    "It is important to note the format of the data that we are saving as we will need to know it when we write the training code. In our case, each row of the dataset has the form `label`, `length`, `review[500]` where `review[500]` is a sequence of `500` integers representing the words in the review."
   ]
  },
  {
   "cell_type": "code",
   "execution_count": 20,
   "metadata": {},
   "outputs": [],
   "source": [
    "import pandas as pd\n",
    "    \n",
    "pd.concat([pd.DataFrame(train_y), pd.DataFrame(train_X_len), pd.DataFrame(train_X)], axis=1) \\\n",
    "        .to_csv(os.path.join(data_dir, 'train.csv'), header=False, index=False)"
   ]
  },
  {
   "cell_type": "markdown",
   "metadata": {},
   "source": [
    "### Uploading the training data\n",
    "\n",
    "\n",
    "Next, we need to upload the training data to the SageMaker default S3 bucket so that we can provide access to it while training our model."
   ]
  },
  {
   "cell_type": "code",
   "execution_count": 21,
   "metadata": {},
   "outputs": [],
   "source": [
    "import sagemaker\n",
    "\n",
    "sagemaker_session = sagemaker.Session()\n",
    "\n",
    "bucket = sagemaker_session.default_bucket()\n",
    "prefix = 'sagemaker/sentiment_rnn'\n",
    "\n",
    "role = sagemaker.get_execution_role()"
   ]
  },
  {
   "cell_type": "code",
   "execution_count": 22,
   "metadata": {},
   "outputs": [],
   "source": [
    "input_data = sagemaker_session.upload_data(path=data_dir, bucket=bucket, key_prefix=prefix)"
   ]
  },
  {
   "cell_type": "markdown",
   "metadata": {},
   "source": [
    "**NOTE:** The cell above uploads the entire contents of our data directory. This includes the `word_dict.pkl` file. This is fortunate as we will need this later on when we create an endpoint that accepts an arbitrary review. For now, we will just take note of the fact that it resides in the data directory (and so also in the S3 training bucket) and that we will need to make sure it gets saved in the model directory."
   ]
  },
  {
   "cell_type": "markdown",
   "metadata": {},
   "source": [
    "## Step 4: Build and Train the PyTorch Model\n",
    "\n",
    "In the XGBoost notebook we discussed what a model is in the SageMaker framework. In particular, a model comprises three objects\n",
    "\n",
    " - Model Artifacts,\n",
    " - Training Code, and\n",
    " - Inference Code,\n",
    " \n",
    "each of which interact with one another. In the XGBoost example we used training and inference code that was provided by Amazon. Here we will still be using containers provided by Amazon with the added benefit of being able to include our own custom code.\n",
    "\n",
    "We will start by implementing our own neural network in PyTorch along with a training script. For the purposes of this project we have provided the necessary model object in the `model.py` file, inside of the `train` folder. You can see the provided implementation by running the cell below."
   ]
  },
  {
   "cell_type": "code",
   "execution_count": 23,
   "metadata": {},
   "outputs": [
    {
     "name": "stdout",
     "output_type": "stream",
     "text": [
      "\u001b[34mimport\u001b[39;49;00m \u001b[04m\u001b[36mtorch.nn\u001b[39;49;00m \u001b[34mas\u001b[39;49;00m \u001b[04m\u001b[36mnn\u001b[39;49;00m\r\n",
      "\r\n",
      "\u001b[34mclass\u001b[39;49;00m \u001b[04m\u001b[32mLSTMClassifier\u001b[39;49;00m(nn.Module):\r\n",
      "    \u001b[33m\"\"\"\u001b[39;49;00m\r\n",
      "\u001b[33m    This is the simple RNN model we will be using to perform Sentiment Analysis.\u001b[39;49;00m\r\n",
      "\u001b[33m    \"\"\"\u001b[39;49;00m\r\n",
      "\r\n",
      "    \u001b[34mdef\u001b[39;49;00m \u001b[32m__init__\u001b[39;49;00m(\u001b[36mself\u001b[39;49;00m, embedding_dim, hidden_dim, vocab_size):\r\n",
      "        \u001b[33m\"\"\"\u001b[39;49;00m\r\n",
      "\u001b[33m        Initialize the model by settingg up the various layers.\u001b[39;49;00m\r\n",
      "\u001b[33m        \"\"\"\u001b[39;49;00m\r\n",
      "        \u001b[36msuper\u001b[39;49;00m(LSTMClassifier, \u001b[36mself\u001b[39;49;00m).\u001b[32m__init__\u001b[39;49;00m()\r\n",
      "\r\n",
      "        \u001b[36mself\u001b[39;49;00m.embedding = nn.Embedding(vocab_size, embedding_dim, padding_idx=\u001b[34m0\u001b[39;49;00m)\r\n",
      "        \u001b[36mself\u001b[39;49;00m.lstm = nn.LSTM(embedding_dim, hidden_dim)\r\n",
      "        \u001b[36mself\u001b[39;49;00m.dense = nn.Linear(in_features=hidden_dim, out_features=\u001b[34m1\u001b[39;49;00m)\r\n",
      "        \u001b[36mself\u001b[39;49;00m.sig = nn.Sigmoid()\r\n",
      "        \r\n",
      "        \u001b[36mself\u001b[39;49;00m.word_dict = \u001b[36mNone\u001b[39;49;00m\r\n",
      "\r\n",
      "    \u001b[34mdef\u001b[39;49;00m \u001b[32mforward\u001b[39;49;00m(\u001b[36mself\u001b[39;49;00m, x):\r\n",
      "        \u001b[33m\"\"\"\u001b[39;49;00m\r\n",
      "\u001b[33m        Perform a forward pass of our model on some input.\u001b[39;49;00m\r\n",
      "\u001b[33m        \"\"\"\u001b[39;49;00m\r\n",
      "        x = x.t()\r\n",
      "        lengths = x[\u001b[34m0\u001b[39;49;00m,:]\r\n",
      "        reviews = x[\u001b[34m1\u001b[39;49;00m:,:]\r\n",
      "        embeds = \u001b[36mself\u001b[39;49;00m.embedding(reviews)\r\n",
      "        lstm_out, _ = \u001b[36mself\u001b[39;49;00m.lstm(embeds)\r\n",
      "        out = \u001b[36mself\u001b[39;49;00m.dense(lstm_out)\r\n",
      "        out = out[lengths - \u001b[34m1\u001b[39;49;00m, \u001b[36mrange\u001b[39;49;00m(\u001b[36mlen\u001b[39;49;00m(lengths))]\r\n",
      "        \u001b[34mreturn\u001b[39;49;00m \u001b[36mself\u001b[39;49;00m.sig(out.squeeze())\r\n"
     ]
    }
   ],
   "source": [
    "!pygmentize train/model.py"
   ]
  },
  {
   "cell_type": "markdown",
   "metadata": {},
   "source": [
    "The important takeaway from the implementation provided is that there are three parameters that we may wish to tweak to improve the performance of our model. These are the embedding dimension, the hidden dimension and the size of the vocabulary. We will likely want to make these parameters configurable in the training script so that if we wish to modify them we do not need to modify the script itself. We will see how to do this later on. To start we will write some of the training code in the notebook so that we can more easily diagnose any issues that arise.\n",
    "\n",
    "First we will load a small portion of the training data set to use as a sample. It would be very time consuming to try and train the model completely in the notebook as we do not have access to a gpu and the compute instance that we are using is not particularly powerful. However, we can work on a small bit of the data to get a feel for how our training script is behaving."
   ]
  },
  {
   "cell_type": "code",
   "execution_count": 24,
   "metadata": {},
   "outputs": [],
   "source": [
    "import torch\n",
    "import torch.utils.data\n",
    "\n",
    "# Read in only the first 250 rows\n",
    "train_sample = pd.read_csv(os.path.join(data_dir, 'train.csv'), header=None, names=None, nrows=250)\n",
    "\n",
    "# Turn the input pandas dataframe into tensors\n",
    "train_sample_y = torch.from_numpy(train_sample[[0]].values).float().squeeze()\n",
    "train_sample_X = torch.from_numpy(train_sample.drop([0], axis=1).values).long()\n",
    "\n",
    "# Build the dataset\n",
    "train_sample_ds = torch.utils.data.TensorDataset(train_sample_X, train_sample_y)\n",
    "# Build the dataloader\n",
    "train_sample_dl = torch.utils.data.DataLoader(train_sample_ds, batch_size=50)"
   ]
  },
  {
   "cell_type": "markdown",
   "metadata": {},
   "source": [
    "### (TODO) Writing the training method\n",
    "\n",
    "Next we need to write the training code itself. This should be very similar to training methods that you have written before to train PyTorch models. We will leave any difficult aspects such as model saving / loading and parameter loading until a little later."
   ]
  },
  {
   "cell_type": "code",
   "execution_count": 25,
   "metadata": {},
   "outputs": [],
   "source": [
    "def train(model, train_loader, epochs, optimizer, loss_fn, device):\n",
    "    for epoch in range(1, epochs + 1):\n",
    "        model.train()\n",
    "        total_loss = 0\n",
    "        for batch in train_loader:         \n",
    "            batch_X, batch_y = batch\n",
    "            \n",
    "            batch_X = batch_X.to(device)\n",
    "            batch_y = batch_y.to(device)\n",
    "            \n",
    "            # TODO: Complete this train method to train the model provided.\n",
    "            optimizer.zero_grad()\n",
    "            output = model.forward(batch_X)\n",
    "            loss = loss_fn(output, batch_y)\n",
    "            loss.backward()\n",
    "            \n",
    "            optimizer.step()\n",
    "            \n",
    "            total_loss += loss.data.item()\n",
    "        print(\"Epoch: {}, BCELoss: {}\".format(epoch, total_loss / len(train_loader)))"
   ]
  },
  {
   "cell_type": "markdown",
   "metadata": {},
   "source": [
    "Supposing we have the training method above, we will test that it is working by writing a bit of code in the notebook that executes our training method on the small sample training set that we loaded earlier. The reason for doing this in the notebook is so that we have an opportunity to fix any errors that arise early when they are easier to diagnose."
   ]
  },
  {
   "cell_type": "code",
   "execution_count": 26,
   "metadata": {},
   "outputs": [
    {
     "name": "stdout",
     "output_type": "stream",
     "text": [
      "Epoch: 1, BCELoss: 0.6911624789237976\n",
      "Epoch: 2, BCELoss: 0.679629111289978\n",
      "Epoch: 3, BCELoss: 0.669051218032837\n",
      "Epoch: 4, BCELoss: 0.657414174079895\n",
      "Epoch: 5, BCELoss: 0.6438696503639221\n"
     ]
    }
   ],
   "source": [
    "import torch.optim as optim\n",
    "from train.model import LSTMClassifier\n",
    "\n",
    "device = torch.device(\"cuda\" if torch.cuda.is_available() else \"cpu\")\n",
    "model = LSTMClassifier(32, 100, 5000).to(device)\n",
    "optimizer = optim.Adam(model.parameters())\n",
    "loss_fn = torch.nn.BCELoss()\n",
    "\n",
    "train(model, train_sample_dl, 5, optimizer, loss_fn, device)"
   ]
  },
  {
   "cell_type": "markdown",
   "metadata": {},
   "source": [
    "In order to construct a PyTorch model using SageMaker we must provide SageMaker with a training script. We may optionally include a directory which will be copied to the container and from which our training code will be run. When the training container is executed it will check the uploaded directory (if there is one) for a `requirements.txt` file and install any required Python libraries, after which the training script will be run."
   ]
  },
  {
   "cell_type": "markdown",
   "metadata": {},
   "source": [
    "### (TODO) Training the model\n",
    "\n",
    "When a PyTorch model is constructed in SageMaker, an entry point must be specified. This is the Python file which will be executed when the model is trained. Inside of the `train` directory is a file called `train.py` which has been provided and which contains most of the necessary code to train our model. The only thing that is missing is the implementation of the `train()` method which you wrote earlier in this notebook.\n",
    "\n",
    "**TODO**: Copy the `train()` method written above and paste it into the `train/train.py` file where required.\n",
    "\n",
    "The way that SageMaker passes hyperparameters to the training script is by way of arguments. These arguments can then be parsed and used in the training script. To see how this is done take a look at the provided `train/train.py` file."
   ]
  },
  {
   "cell_type": "code",
   "execution_count": 27,
   "metadata": {},
   "outputs": [],
   "source": [
    "from sagemaker.pytorch import PyTorch\n",
    "\n",
    "estimator = PyTorch(entry_point=\"train.py\",\n",
    "                    source_dir=\"train\",\n",
    "                    role=role,\n",
    "                    framework_version='0.4.0',\n",
    "                    train_instance_count=1,\n",
    "                    train_instance_type='ml.p2.xlarge',\n",
    "                    hyperparameters={\n",
    "                        'epochs': 10,\n",
    "                        'hidden_dim': 200,\n",
    "                    })"
   ]
  },
  {
   "cell_type": "code",
   "execution_count": 29,
   "metadata": {},
   "outputs": [
    {
     "name": "stdout",
     "output_type": "stream",
     "text": [
      "2020-05-16 13:32:39 Starting - Starting the training job...\n",
      "2020-05-16 13:32:41 Starting - Launching requested ML instances......\n",
      "2020-05-16 13:33:47 Starting - Preparing the instances for training......\n",
      "2020-05-16 13:34:55 Downloading - Downloading input data...\n",
      "2020-05-16 13:35:23 Training - Downloading the training image...\n",
      "2020-05-16 13:36:00 Training - Training image download completed. Training in progress.\u001b[34mbash: cannot set terminal process group (-1): Inappropriate ioctl for device\u001b[0m\n",
      "\u001b[34mbash: no job control in this shell\u001b[0m\n",
      "\u001b[34m2020-05-16 13:36:01,073 sagemaker-containers INFO     Imported framework sagemaker_pytorch_container.training\u001b[0m\n",
      "\u001b[34m2020-05-16 13:36:01,114 sagemaker_pytorch_container.training INFO     Block until all host DNS lookups succeed.\u001b[0m\n",
      "\u001b[34m2020-05-16 13:36:07,340 sagemaker_pytorch_container.training INFO     Invoking user training script.\u001b[0m\n",
      "\u001b[34m2020-05-16 13:36:07,564 sagemaker-containers INFO     Module train does not provide a setup.py. \u001b[0m\n",
      "\u001b[34mGenerating setup.py\u001b[0m\n",
      "\u001b[34m2020-05-16 13:36:07,564 sagemaker-containers INFO     Generating setup.cfg\u001b[0m\n",
      "\u001b[34m2020-05-16 13:36:07,564 sagemaker-containers INFO     Generating MANIFEST.in\u001b[0m\n",
      "\u001b[34m2020-05-16 13:36:07,564 sagemaker-containers INFO     Installing module with the following command:\u001b[0m\n",
      "\u001b[34m/usr/bin/python -m pip install -U . -r requirements.txt\u001b[0m\n",
      "\u001b[34mProcessing /opt/ml/code\u001b[0m\n",
      "\u001b[34mCollecting pandas (from -r requirements.txt (line 1))\u001b[0m\n",
      "\u001b[34m  Downloading https://files.pythonhosted.org/packages/74/24/0cdbf8907e1e3bc5a8da03345c23cbed7044330bb8f73bb12e711a640a00/pandas-0.24.2-cp35-cp35m-manylinux1_x86_64.whl (10.0MB)\u001b[0m\n",
      "\u001b[34mCollecting numpy (from -r requirements.txt (line 2))\u001b[0m\n",
      "\u001b[34m  Downloading https://files.pythonhosted.org/packages/38/92/fa5295d9755c7876cb8490eab866e1780154033fa45978d9cf74ffbd4c68/numpy-1.18.4-cp35-cp35m-manylinux1_x86_64.whl (20.0MB)\u001b[0m\n",
      "\u001b[34mCollecting nltk (from -r requirements.txt (line 3))\n",
      "  Downloading https://files.pythonhosted.org/packages/92/75/ce35194d8e3022203cca0d2f896dbb88689f9b3fce8e9f9cff942913519d/nltk-3.5.zip (1.4MB)\u001b[0m\n",
      "\u001b[34mCollecting beautifulsoup4 (from -r requirements.txt (line 4))\n",
      "  Downloading https://files.pythonhosted.org/packages/e8/b5/7bb03a696f2c9b7af792a8f51b82974e51c268f15e925fc834876a4efa0b/beautifulsoup4-4.9.0-py3-none-any.whl (109kB)\u001b[0m\n",
      "\u001b[34mCollecting html5lib (from -r requirements.txt (line 5))\n",
      "  Downloading https://files.pythonhosted.org/packages/a5/62/bbd2be0e7943ec8504b517e62bab011b4946e1258842bc159e5dfde15b96/html5lib-1.0.1-py2.py3-none-any.whl (117kB)\u001b[0m\n",
      "\u001b[34mCollecting pytz>=2011k (from pandas->-r requirements.txt (line 1))\u001b[0m\n",
      "\u001b[34m  Downloading https://files.pythonhosted.org/packages/4f/a4/879454d49688e2fad93e59d7d4efda580b783c745fd2ec2a3adf87b0808d/pytz-2020.1-py2.py3-none-any.whl (510kB)\u001b[0m\n",
      "\u001b[34mRequirement already satisfied, skipping upgrade: python-dateutil>=2.5.0 in /usr/local/lib/python3.5/dist-packages (from pandas->-r requirements.txt (line 1)) (2.7.5)\u001b[0m\n",
      "\u001b[34mRequirement already satisfied, skipping upgrade: click in /usr/local/lib/python3.5/dist-packages (from nltk->-r requirements.txt (line 3)) (7.0)\u001b[0m\n",
      "\u001b[34mCollecting joblib (from nltk->-r requirements.txt (line 3))\n",
      "  Downloading https://files.pythonhosted.org/packages/28/5c/cf6a2b65a321c4a209efcdf64c2689efae2cb62661f8f6f4bb28547cf1bf/joblib-0.14.1-py2.py3-none-any.whl (294kB)\u001b[0m\n",
      "\u001b[34mCollecting regex (from nltk->-r requirements.txt (line 3))\n",
      "  Downloading https://files.pythonhosted.org/packages/14/8d/d44863d358e9dba3bdfb06099bbbeddbac8fb360773ba73250a849af4b01/regex-2020.5.14.tar.gz (696kB)\u001b[0m\n",
      "\u001b[34mCollecting tqdm (from nltk->-r requirements.txt (line 3))\n",
      "  Downloading https://files.pythonhosted.org/packages/c9/40/058b12e8ba10e35f89c9b1fdfc2d4c7f8c05947df2d5eb3c7b258019fda0/tqdm-4.46.0-py2.py3-none-any.whl (63kB)\u001b[0m\n",
      "\u001b[34mCollecting soupsieve>1.2 (from beautifulsoup4->-r requirements.txt (line 4))\n",
      "  Downloading https://files.pythonhosted.org/packages/05/cf/ea245e52f55823f19992447b008bcbb7f78efc5960d77f6c34b5b45b36dd/soupsieve-2.0-py2.py3-none-any.whl\u001b[0m\n",
      "\u001b[34mRequirement already satisfied, skipping upgrade: six>=1.9 in /usr/local/lib/python3.5/dist-packages (from html5lib->-r requirements.txt (line 5)) (1.11.0)\u001b[0m\n",
      "\u001b[34mCollecting webencodings (from html5lib->-r requirements.txt (line 5))\n",
      "  Downloading https://files.pythonhosted.org/packages/f4/24/2a3e3df732393fed8b3ebf2ec078f05546de641fe1b667ee316ec1dcf3b7/webencodings-0.5.1-py2.py3-none-any.whl\u001b[0m\n",
      "\u001b[34mBuilding wheels for collected packages: nltk, train, regex\n",
      "  Running setup.py bdist_wheel for nltk: started\u001b[0m\n",
      "\u001b[34m  Running setup.py bdist_wheel for nltk: finished with status 'done'\n",
      "  Stored in directory: /root/.cache/pip/wheels/ae/8c/3f/b1fe0ba04555b08b57ab52ab7f86023639a526d8bc8d384306\n",
      "  Running setup.py bdist_wheel for train: started\n",
      "  Running setup.py bdist_wheel for train: finished with status 'done'\n",
      "  Stored in directory: /tmp/pip-ephem-wheel-cache-gfgtxjmg/wheels/35/24/16/37574d11bf9bde50616c67372a334f94fa8356bc7164af8ca3\n",
      "  Running setup.py bdist_wheel for regex: started\u001b[0m\n",
      "\u001b[34m  Running setup.py bdist_wheel for regex: finished with status 'done'\n",
      "  Stored in directory: /root/.cache/pip/wheels/ee/3a/5c/1f0ce151d6ddeee56e03e933603e21b5b8dcc727989fde82f5\u001b[0m\n",
      "\u001b[34mSuccessfully built nltk train regex\u001b[0m\n",
      "\u001b[34mInstalling collected packages: pytz, numpy, pandas, joblib, regex, tqdm, nltk, soupsieve, beautifulsoup4, webencodings, html5lib, train\n",
      "  Found existing installation: numpy 1.15.4\n",
      "    Uninstalling numpy-1.15.4:\u001b[0m\n",
      "\u001b[34m      Successfully uninstalled numpy-1.15.4\u001b[0m\n",
      "\u001b[34mSuccessfully installed beautifulsoup4-4.9.0 html5lib-1.0.1 joblib-0.14.1 nltk-3.5 numpy-1.18.4 pandas-0.24.2 pytz-2020.1 regex-2020.5.14 soupsieve-2.0 tqdm-4.46.0 train-1.0.0 webencodings-0.5.1\u001b[0m\n",
      "\u001b[34mYou are using pip version 18.1, however version 20.1 is available.\u001b[0m\n",
      "\u001b[34mYou should consider upgrading via the 'pip install --upgrade pip' command.\u001b[0m\n",
      "\u001b[34m2020-05-16 13:36:29,827 sagemaker-containers INFO     Invoking user script\n",
      "\u001b[0m\n",
      "\u001b[34mTraining Env:\n",
      "\u001b[0m\n",
      "\u001b[34m{\n",
      "    \"output_data_dir\": \"/opt/ml/output/data\",\n",
      "    \"input_data_config\": {\n",
      "        \"training\": {\n",
      "            \"TrainingInputMode\": \"File\",\n",
      "            \"RecordWrapperType\": \"None\",\n",
      "            \"S3DistributionType\": \"FullyReplicated\"\n",
      "        }\n",
      "    },\n",
      "    \"num_gpus\": 1,\n",
      "    \"output_intermediate_dir\": \"/opt/ml/output/intermediate\",\n",
      "    \"input_config_dir\": \"/opt/ml/input/config\",\n",
      "    \"module_dir\": \"s3://sagemaker-us-east-2-686345679764/sagemaker-pytorch-2020-05-16-13-32-39-364/source/sourcedir.tar.gz\",\n",
      "    \"user_entry_point\": \"train.py\",\n",
      "    \"framework_module\": \"sagemaker_pytorch_container.training:main\",\n",
      "    \"additional_framework_parameters\": {},\n",
      "    \"current_host\": \"algo-1\",\n",
      "    \"input_dir\": \"/opt/ml/input\",\n",
      "    \"num_cpus\": 4,\n",
      "    \"hyperparameters\": {\n",
      "        \"hidden_dim\": 200,\n",
      "        \"epochs\": 10\n",
      "    },\n",
      "    \"channel_input_dirs\": {\n",
      "        \"training\": \"/opt/ml/input/data/training\"\n",
      "    },\n",
      "    \"output_dir\": \"/opt/ml/output\",\n",
      "    \"resource_config\": {\n",
      "        \"network_interface_name\": \"eth0\",\n",
      "        \"current_host\": \"algo-1\",\n",
      "        \"hosts\": [\n",
      "            \"algo-1\"\n",
      "        ]\n",
      "    },\n",
      "    \"network_interface_name\": \"eth0\",\n",
      "    \"log_level\": 20,\n",
      "    \"job_name\": \"sagemaker-pytorch-2020-05-16-13-32-39-364\",\n",
      "    \"model_dir\": \"/opt/ml/model\",\n",
      "    \"module_name\": \"train\",\n",
      "    \"hosts\": [\n",
      "        \"algo-1\"\n",
      "    ]\u001b[0m\n",
      "\u001b[34m}\n",
      "\u001b[0m\n",
      "\u001b[34mEnvironment variables:\n",
      "\u001b[0m\n",
      "\u001b[34mSM_MODULE_DIR=s3://sagemaker-us-east-2-686345679764/sagemaker-pytorch-2020-05-16-13-32-39-364/source/sourcedir.tar.gz\u001b[0m\n",
      "\u001b[34mSM_MODULE_NAME=train\u001b[0m\n",
      "\u001b[34mSM_RESOURCE_CONFIG={\"current_host\":\"algo-1\",\"hosts\":[\"algo-1\"],\"network_interface_name\":\"eth0\"}\u001b[0m\n",
      "\u001b[34mSM_INPUT_DATA_CONFIG={\"training\":{\"RecordWrapperType\":\"None\",\"S3DistributionType\":\"FullyReplicated\",\"TrainingInputMode\":\"File\"}}\u001b[0m\n",
      "\u001b[34mSM_HPS={\"epochs\":10,\"hidden_dim\":200}\u001b[0m\n",
      "\u001b[34mSM_CHANNEL_TRAINING=/opt/ml/input/data/training\u001b[0m\n",
      "\u001b[34mSM_NETWORK_INTERFACE_NAME=eth0\u001b[0m\n",
      "\u001b[34mSM_FRAMEWORK_PARAMS={}\u001b[0m\n",
      "\u001b[34mSM_USER_ARGS=[\"--epochs\",\"10\",\"--hidden_dim\",\"200\"]\u001b[0m\n",
      "\u001b[34mSM_FRAMEWORK_MODULE=sagemaker_pytorch_container.training:main\u001b[0m\n",
      "\u001b[34mPYTHONPATH=/usr/local/bin:/usr/lib/python35.zip:/usr/lib/python3.5:/usr/lib/python3.5/plat-x86_64-linux-gnu:/usr/lib/python3.5/lib-dynload:/usr/local/lib/python3.5/dist-packages:/usr/lib/python3/dist-packages\u001b[0m\n",
      "\u001b[34mSM_OUTPUT_INTERMEDIATE_DIR=/opt/ml/output/intermediate\u001b[0m\n",
      "\u001b[34mSM_HP_HIDDEN_DIM=200\u001b[0m\n",
      "\u001b[34mSM_OUTPUT_DATA_DIR=/opt/ml/output/data\u001b[0m\n",
      "\u001b[34mSM_CURRENT_HOST=algo-1\u001b[0m\n",
      "\u001b[34mSM_OUTPUT_DIR=/opt/ml/output\u001b[0m\n",
      "\u001b[34mSM_HP_EPOCHS=10\u001b[0m\n",
      "\u001b[34mSM_MODEL_DIR=/opt/ml/model\u001b[0m\n",
      "\u001b[34mSM_HOSTS=[\"algo-1\"]\u001b[0m\n",
      "\u001b[34mSM_TRAINING_ENV={\"additional_framework_parameters\":{},\"channel_input_dirs\":{\"training\":\"/opt/ml/input/data/training\"},\"current_host\":\"algo-1\",\"framework_module\":\"sagemaker_pytorch_container.training:main\",\"hosts\":[\"algo-1\"],\"hyperparameters\":{\"epochs\":10,\"hidden_dim\":200},\"input_config_dir\":\"/opt/ml/input/config\",\"input_data_config\":{\"training\":{\"RecordWrapperType\":\"None\",\"S3DistributionType\":\"FullyReplicated\",\"TrainingInputMode\":\"File\"}},\"input_dir\":\"/opt/ml/input\",\"job_name\":\"sagemaker-pytorch-2020-05-16-13-32-39-364\",\"log_level\":20,\"model_dir\":\"/opt/ml/model\",\"module_dir\":\"s3://sagemaker-us-east-2-686345679764/sagemaker-pytorch-2020-05-16-13-32-39-364/source/sourcedir.tar.gz\",\"module_name\":\"train\",\"network_interface_name\":\"eth0\",\"num_cpus\":4,\"num_gpus\":1,\"output_data_dir\":\"/opt/ml/output/data\",\"output_dir\":\"/opt/ml/output\",\"output_intermediate_dir\":\"/opt/ml/output/intermediate\",\"resource_config\":{\"current_host\":\"algo-1\",\"hosts\":[\"algo-1\"],\"network_interface_name\":\"eth0\"},\"user_entry_point\":\"train.py\"}\u001b[0m\n",
      "\u001b[34mSM_NUM_CPUS=4\u001b[0m\n",
      "\u001b[34mSM_LOG_LEVEL=20\u001b[0m\n",
      "\u001b[34mSM_INPUT_CONFIG_DIR=/opt/ml/input/config\u001b[0m\n",
      "\u001b[34mSM_NUM_GPUS=1\u001b[0m\n",
      "\u001b[34mSM_USER_ENTRY_POINT=train.py\u001b[0m\n",
      "\u001b[34mSM_CHANNELS=[\"training\"]\u001b[0m\n",
      "\u001b[34mSM_INPUT_DIR=/opt/ml/input\n",
      "\u001b[0m\n",
      "\u001b[34mInvoking script with the following command:\n",
      "\u001b[0m\n",
      "\u001b[34m/usr/bin/python -m train --epochs 10 --hidden_dim 200\n",
      "\n",
      "\u001b[0m\n",
      "\u001b[34mUsing device cuda.\u001b[0m\n",
      "\u001b[34mGet train data loader.\u001b[0m\n",
      "\u001b[34mModel loaded with embedding_dim 32, hidden_dim 200, vocab_size 5000.\u001b[0m\n",
      "\u001b[34mEpoch: 1, BCELoss: 0.6695044454263182\u001b[0m\n",
      "\u001b[34mEpoch: 2, BCELoss: 0.585048647559419\u001b[0m\n",
      "\u001b[34mEpoch: 3, BCELoss: 0.49816288510147405\u001b[0m\n",
      "\u001b[34mEpoch: 4, BCELoss: 0.4291245316972538\u001b[0m\n",
      "\u001b[34mEpoch: 5, BCELoss: 0.38795581155893755\u001b[0m\n",
      "\u001b[34mEpoch: 6, BCELoss: 0.3518322560251976\u001b[0m\n",
      "\u001b[34mEpoch: 7, BCELoss: 0.33054596976358064\u001b[0m\n",
      "\u001b[34mEpoch: 8, BCELoss: 0.3114631851108707\u001b[0m\n",
      "\u001b[34mEpoch: 9, BCELoss: 0.31112848617592637\u001b[0m\n",
      "\n",
      "2020-05-16 13:39:40 Uploading - Uploading generated training model\n",
      "2020-05-16 13:39:40 Completed - Training job completed\n",
      "\u001b[34mEpoch: 10, BCELoss: 0.29356163709747546\u001b[0m\n",
      "\u001b[34m2020-05-16 13:39:32,526 sagemaker-containers INFO     Reporting training SUCCESS\u001b[0m\n",
      "Training seconds: 285\n",
      "Billable seconds: 285\n"
     ]
    }
   ],
   "source": [
    "estimator.fit({'training': input_data})"
   ]
  },
  {
   "cell_type": "markdown",
   "metadata": {},
   "source": [
    "## Step 5: Testing the model\n",
    "\n",
    "As mentioned at the top of this notebook, we will be testing this model by first deploying it and then sending the testing data to the deployed endpoint. We will do this so that we can make sure that the deployed model is working correctly.\n",
    "\n",
    "## Step 6: Deploy the model for testing\n",
    "\n",
    "Now that we have trained our model, we would like to test it to see how it performs. Currently our model takes input of the form `review_length, review[500]` where `review[500]` is a sequence of `500` integers which describe the words present in the review, encoded using `word_dict`. Fortunately for us, SageMaker provides built-in inference code for models with simple inputs such as this.\n",
    "\n",
    "There is one thing that we need to provide, however, and that is a function which loads the saved model. This function must be called `model_fn()` and takes as its only parameter a path to the directory where the model artifacts are stored. This function must also be present in the python file which we specified as the entry point. In our case the model loading function has been provided and so no changes need to be made.\n",
    "\n",
    "**NOTE**: When the built-in inference code is run it must import the `model_fn()` method from the `train.py` file. This is why the training code is wrapped in a main guard ( ie, `if __name__ == '__main__':` )\n",
    "\n",
    "Since we don't need to change anything in the code that was uploaded during training, we can simply deploy the current model as-is.\n",
    "\n",
    "**NOTE:** When deploying a model you are asking SageMaker to launch an compute instance that will wait for data to be sent to it. As a result, this compute instance will continue to run until *you* shut it down. This is important to know since the cost of a deployed endpoint depends on how long it has been running for.\n",
    "\n",
    "In other words **If you are no longer using a deployed endpoint, shut it down!**\n",
    "\n",
    "**TODO:** Deploy the trained model."
   ]
  },
  {
   "cell_type": "code",
   "execution_count": 30,
   "metadata": {},
   "outputs": [
    {
     "name": "stdout",
     "output_type": "stream",
     "text": [
      "-------------!"
     ]
    }
   ],
   "source": [
    "# TODO: Deploy the trained model\n",
    "predictor = estimator.deploy(initial_instance_count = 1, instance_type = 'ml.m4.xlarge')"
   ]
  },
  {
   "cell_type": "markdown",
   "metadata": {},
   "source": [
    "## Step 7 - Use the model for testing\n",
    "\n",
    "Once deployed, we can read in the test data and send it off to our deployed model to get some results. Once we collect all of the results we can determine how accurate our model is."
   ]
  },
  {
   "cell_type": "code",
   "execution_count": 31,
   "metadata": {},
   "outputs": [],
   "source": [
    "test_X = pd.concat([pd.DataFrame(test_X_len), pd.DataFrame(test_X)], axis=1)"
   ]
  },
  {
   "cell_type": "code",
   "execution_count": 32,
   "metadata": {},
   "outputs": [],
   "source": [
    "# We split the data into chunks and send each chunk seperately, accumulating the results.\n",
    "\n",
    "def predict(data, rows=512):\n",
    "    split_array = np.array_split(data, int(data.shape[0] / float(rows) + 1))\n",
    "    predictions = np.array([])\n",
    "    for array in split_array:\n",
    "        predictions = np.append(predictions, predictor.predict(array))\n",
    "    \n",
    "    return predictions"
   ]
  },
  {
   "cell_type": "code",
   "execution_count": 33,
   "metadata": {},
   "outputs": [],
   "source": [
    "predictions = predict(test_X.values)\n",
    "predictions = [round(num) for num in predictions]"
   ]
  },
  {
   "cell_type": "code",
   "execution_count": 34,
   "metadata": {},
   "outputs": [
    {
     "data": {
      "text/plain": [
       "0.8432"
      ]
     },
     "execution_count": 34,
     "metadata": {},
     "output_type": "execute_result"
    }
   ],
   "source": [
    "from sklearn.metrics import accuracy_score\n",
    "accuracy_score(test_y, predictions)"
   ]
  },
  {
   "cell_type": "markdown",
   "metadata": {},
   "source": [
    "**Question:** How does this model compare to the XGBoost model you created earlier? Why might these two models perform differently on this dataset? Which do *you* think is better for sentiment analysis?"
   ]
  },
  {
   "cell_type": "markdown",
   "metadata": {},
   "source": [
    "**Answer:**   This model's accurancy score is better."
   ]
  },
  {
   "cell_type": "markdown",
   "metadata": {},
   "source": [
    "### (TODO) More testing\n",
    "\n",
    "We now have a trained model which has been deployed and which we can send processed reviews to and which returns the predicted sentiment. However, ultimately we would like to be able to send our model an unprocessed review. That is, we would like to send the review itself as a string. For example, suppose we wish to send the following review to our model."
   ]
  },
  {
   "cell_type": "code",
   "execution_count": 35,
   "metadata": {},
   "outputs": [],
   "source": [
    "test_review = 'The simplest pleasures in life are the best, and this film is one of them. Combining a rather basic storyline of love and adventure this movie transcends the usual weekend fair with wit and unmitigated charm.'"
   ]
  },
  {
   "cell_type": "markdown",
   "metadata": {},
   "source": [
    "The question we now need to answer is, how do we send this review to our model?\n",
    "\n",
    "Recall in the first section of this notebook we did a bunch of data processing to the IMDb dataset. In particular, we did two specific things to the provided reviews.\n",
    " - Removed any html tags and stemmed the input\n",
    " - Encoded the review as a sequence of integers using `word_dict`\n",
    " \n",
    "In order process the review we will need to repeat these two steps.\n",
    "\n",
    "**TODO**: Using the `review_to_words` and `convert_and_pad` methods from section one, convert `test_review` into a numpy array `test_data` suitable to send to our model. Remember that our model expects input of the form `review_length, review[500]`."
   ]
  },
  {
   "cell_type": "code",
   "execution_count": 36,
   "metadata": {},
   "outputs": [],
   "source": [
    "# TODO: Convert test_review into a form usable by the model and save the results in test_data\n",
    "test_data = review_to_words(test_review)"
   ]
  },
  {
   "cell_type": "code",
   "execution_count": 37,
   "metadata": {},
   "outputs": [],
   "source": [
    "test_data = [np.array(convert_and_pad(word_dict, test_data)[0])]"
   ]
  },
  {
   "cell_type": "markdown",
   "metadata": {},
   "source": [
    "Now that we have processed the review, we can send the resulting array to our model to predict the sentiment of the review."
   ]
  },
  {
   "cell_type": "code",
   "execution_count": 38,
   "metadata": {},
   "outputs": [
    {
     "data": {
      "text/plain": [
       "array(0.6545134, dtype=float32)"
      ]
     },
     "execution_count": 38,
     "metadata": {},
     "output_type": "execute_result"
    }
   ],
   "source": [
    "predictor.predict(test_data)"
   ]
  },
  {
   "cell_type": "markdown",
   "metadata": {},
   "source": [
    "Since the return value of our model is close to `1`, we can be certain that the review we submitted is positive."
   ]
  },
  {
   "cell_type": "markdown",
   "metadata": {},
   "source": [
    "### Delete the endpoint\n",
    "\n",
    "Of course, just like in the XGBoost notebook, once we've deployed an endpoint it continues to run until we tell it to shut down. Since we are done using our endpoint for now, we can delete it."
   ]
  },
  {
   "cell_type": "code",
   "execution_count": 39,
   "metadata": {},
   "outputs": [],
   "source": [
    "estimator.delete_endpoint()"
   ]
  },
  {
   "cell_type": "markdown",
   "metadata": {},
   "source": [
    "## Step 6 (again) - Deploy the model for the web app\n",
    "\n",
    "Now that we know that our model is working, it's time to create some custom inference code so that we can send the model a review which has not been processed and have it determine the sentiment of the review.\n",
    "\n",
    "As we saw above, by default the estimator which we created, when deployed, will use the entry script and directory which we provided when creating the model. However, since we now wish to accept a string as input and our model expects a processed review, we need to write some custom inference code.\n",
    "\n",
    "We will store the code that we write in the `serve` directory. Provided in this directory is the `model.py` file that we used to construct our model, a `utils.py` file which contains the `review_to_words` and `convert_and_pad` pre-processing functions which we used during the initial data processing, and `predict.py`, the file which will contain our custom inference code. Note also that `requirements.txt` is present which will tell SageMaker what Python libraries are required by our custom inference code.\n",
    "\n",
    "When deploying a PyTorch model in SageMaker, you are expected to provide four functions which the SageMaker inference container will use.\n",
    " - `model_fn`: This function is the same function that we used in the training script and it tells SageMaker how to load our model.\n",
    " - `input_fn`: This function receives the raw serialized input that has been sent to the model's endpoint and its job is to de-serialize and make the input available for the inference code.\n",
    " - `output_fn`: This function takes the output of the inference code and its job is to serialize this output and return it to the caller of the model's endpoint.\n",
    " - `predict_fn`: The heart of the inference script, this is where the actual prediction is done and is the function which you will need to complete.\n",
    "\n",
    "For the simple website that we are constructing during this project, the `input_fn` and `output_fn` methods are relatively straightforward. We only require being able to accept a string as input and we expect to return a single value as output. You might imagine though that in a more complex application the input or output may be image data or some other binary data which would require some effort to serialize.\n",
    "\n",
    "### (TODO) Writing inference code\n",
    "\n",
    "Before writing our custom inference code, we will begin by taking a look at the code which has been provided."
   ]
  },
  {
   "cell_type": "code",
   "execution_count": 40,
   "metadata": {},
   "outputs": [
    {
     "name": "stdout",
     "output_type": "stream",
     "text": [
      "\u001b[34mimport\u001b[39;49;00m \u001b[04m\u001b[36margparse\u001b[39;49;00m\r\n",
      "\u001b[34mimport\u001b[39;49;00m \u001b[04m\u001b[36mjson\u001b[39;49;00m\r\n",
      "\u001b[34mimport\u001b[39;49;00m \u001b[04m\u001b[36mos\u001b[39;49;00m\r\n",
      "\u001b[34mimport\u001b[39;49;00m \u001b[04m\u001b[36mpickle\u001b[39;49;00m\r\n",
      "\u001b[34mimport\u001b[39;49;00m \u001b[04m\u001b[36msys\u001b[39;49;00m\r\n",
      "\u001b[34mimport\u001b[39;49;00m \u001b[04m\u001b[36msagemaker_containers\u001b[39;49;00m\r\n",
      "\u001b[34mimport\u001b[39;49;00m \u001b[04m\u001b[36mpandas\u001b[39;49;00m \u001b[34mas\u001b[39;49;00m \u001b[04m\u001b[36mpd\u001b[39;49;00m\r\n",
      "\u001b[34mimport\u001b[39;49;00m \u001b[04m\u001b[36mnumpy\u001b[39;49;00m \u001b[34mas\u001b[39;49;00m \u001b[04m\u001b[36mnp\u001b[39;49;00m\r\n",
      "\u001b[34mimport\u001b[39;49;00m \u001b[04m\u001b[36mtorch\u001b[39;49;00m\r\n",
      "\u001b[34mimport\u001b[39;49;00m \u001b[04m\u001b[36mtorch.nn\u001b[39;49;00m \u001b[34mas\u001b[39;49;00m \u001b[04m\u001b[36mnn\u001b[39;49;00m\r\n",
      "\u001b[34mimport\u001b[39;49;00m \u001b[04m\u001b[36mtorch.optim\u001b[39;49;00m \u001b[34mas\u001b[39;49;00m \u001b[04m\u001b[36moptim\u001b[39;49;00m\r\n",
      "\u001b[34mimport\u001b[39;49;00m \u001b[04m\u001b[36mtorch.utils.data\u001b[39;49;00m\r\n",
      "\r\n",
      "\u001b[34mfrom\u001b[39;49;00m \u001b[04m\u001b[36mmodel\u001b[39;49;00m \u001b[34mimport\u001b[39;49;00m LSTMClassifier\r\n",
      "\r\n",
      "\u001b[34mfrom\u001b[39;49;00m \u001b[04m\u001b[36mutils\u001b[39;49;00m \u001b[34mimport\u001b[39;49;00m review_to_words, convert_and_pad\r\n",
      "\r\n",
      "\u001b[34mdef\u001b[39;49;00m \u001b[32mmodel_fn\u001b[39;49;00m(model_dir):\r\n",
      "    \u001b[33m\"\"\"Load the PyTorch model from the `model_dir` directory.\"\"\"\u001b[39;49;00m\r\n",
      "    \u001b[34mprint\u001b[39;49;00m(\u001b[33m\"\u001b[39;49;00m\u001b[33mLoading model.\u001b[39;49;00m\u001b[33m\"\u001b[39;49;00m)\r\n",
      "\r\n",
      "    \u001b[37m# First, load the parameters used to create the model.\u001b[39;49;00m\r\n",
      "    model_info = {}\r\n",
      "    model_info_path = os.path.join(model_dir, \u001b[33m'\u001b[39;49;00m\u001b[33mmodel_info.pth\u001b[39;49;00m\u001b[33m'\u001b[39;49;00m)\r\n",
      "    \u001b[34mwith\u001b[39;49;00m \u001b[36mopen\u001b[39;49;00m(model_info_path, \u001b[33m'\u001b[39;49;00m\u001b[33mrb\u001b[39;49;00m\u001b[33m'\u001b[39;49;00m) \u001b[34mas\u001b[39;49;00m f:\r\n",
      "        model_info = torch.load(f)\r\n",
      "\r\n",
      "    \u001b[34mprint\u001b[39;49;00m(\u001b[33m\"\u001b[39;49;00m\u001b[33mmodel_info: {}\u001b[39;49;00m\u001b[33m\"\u001b[39;49;00m.format(model_info))\r\n",
      "\r\n",
      "    \u001b[37m# Determine the device and construct the model.\u001b[39;49;00m\r\n",
      "    device = torch.device(\u001b[33m\"\u001b[39;49;00m\u001b[33mcuda\u001b[39;49;00m\u001b[33m\"\u001b[39;49;00m \u001b[34mif\u001b[39;49;00m torch.cuda.is_available() \u001b[34melse\u001b[39;49;00m \u001b[33m\"\u001b[39;49;00m\u001b[33mcpu\u001b[39;49;00m\u001b[33m\"\u001b[39;49;00m)\r\n",
      "    model = LSTMClassifier(model_info[\u001b[33m'\u001b[39;49;00m\u001b[33membedding_dim\u001b[39;49;00m\u001b[33m'\u001b[39;49;00m], model_info[\u001b[33m'\u001b[39;49;00m\u001b[33mhidden_dim\u001b[39;49;00m\u001b[33m'\u001b[39;49;00m], model_info[\u001b[33m'\u001b[39;49;00m\u001b[33mvocab_size\u001b[39;49;00m\u001b[33m'\u001b[39;49;00m])\r\n",
      "\r\n",
      "    \u001b[37m# Load the store model parameters.\u001b[39;49;00m\r\n",
      "    model_path = os.path.join(model_dir, \u001b[33m'\u001b[39;49;00m\u001b[33mmodel.pth\u001b[39;49;00m\u001b[33m'\u001b[39;49;00m)\r\n",
      "    \u001b[34mwith\u001b[39;49;00m \u001b[36mopen\u001b[39;49;00m(model_path, \u001b[33m'\u001b[39;49;00m\u001b[33mrb\u001b[39;49;00m\u001b[33m'\u001b[39;49;00m) \u001b[34mas\u001b[39;49;00m f:\r\n",
      "        model.load_state_dict(torch.load(f))\r\n",
      "\r\n",
      "    \u001b[37m# Load the saved word_dict.\u001b[39;49;00m\r\n",
      "    word_dict_path = os.path.join(model_dir, \u001b[33m'\u001b[39;49;00m\u001b[33mword_dict.pkl\u001b[39;49;00m\u001b[33m'\u001b[39;49;00m)\r\n",
      "    \u001b[34mwith\u001b[39;49;00m \u001b[36mopen\u001b[39;49;00m(word_dict_path, \u001b[33m'\u001b[39;49;00m\u001b[33mrb\u001b[39;49;00m\u001b[33m'\u001b[39;49;00m) \u001b[34mas\u001b[39;49;00m f:\r\n",
      "        model.word_dict = pickle.load(f)\r\n",
      "\r\n",
      "    model.to(device).eval()\r\n",
      "\r\n",
      "    \u001b[34mprint\u001b[39;49;00m(\u001b[33m\"\u001b[39;49;00m\u001b[33mDone loading model.\u001b[39;49;00m\u001b[33m\"\u001b[39;49;00m)\r\n",
      "    \u001b[34mreturn\u001b[39;49;00m model\r\n",
      "\r\n",
      "\u001b[34mdef\u001b[39;49;00m \u001b[32minput_fn\u001b[39;49;00m(serialized_input_data, content_type):\r\n",
      "    \u001b[34mprint\u001b[39;49;00m(\u001b[33m'\u001b[39;49;00m\u001b[33mDeserializing the input data.\u001b[39;49;00m\u001b[33m'\u001b[39;49;00m)\r\n",
      "    \u001b[34mif\u001b[39;49;00m content_type == \u001b[33m'\u001b[39;49;00m\u001b[33mtext/plain\u001b[39;49;00m\u001b[33m'\u001b[39;49;00m:\r\n",
      "        data = serialized_input_data.decode(\u001b[33m'\u001b[39;49;00m\u001b[33mutf-8\u001b[39;49;00m\u001b[33m'\u001b[39;49;00m)\r\n",
      "        \u001b[34mreturn\u001b[39;49;00m data\r\n",
      "    \u001b[34mraise\u001b[39;49;00m \u001b[36mException\u001b[39;49;00m(\u001b[33m'\u001b[39;49;00m\u001b[33mRequested unsupported ContentType in content_type: \u001b[39;49;00m\u001b[33m'\u001b[39;49;00m + content_type)\r\n",
      "\r\n",
      "\u001b[34mdef\u001b[39;49;00m \u001b[32moutput_fn\u001b[39;49;00m(prediction_output, accept):\r\n",
      "    \u001b[34mprint\u001b[39;49;00m(\u001b[33m'\u001b[39;49;00m\u001b[33mSerializing the generated output.\u001b[39;49;00m\u001b[33m'\u001b[39;49;00m)\r\n",
      "    \u001b[34mreturn\u001b[39;49;00m \u001b[36mstr\u001b[39;49;00m(prediction_output)\r\n",
      "\r\n",
      "\u001b[34mdef\u001b[39;49;00m \u001b[32mpredict_fn\u001b[39;49;00m(input_data, model):\r\n",
      "    \u001b[34mprint\u001b[39;49;00m(\u001b[33m'\u001b[39;49;00m\u001b[33mInferring sentiment of input data.\u001b[39;49;00m\u001b[33m'\u001b[39;49;00m)\r\n",
      "\r\n",
      "    device = torch.device(\u001b[33m\"\u001b[39;49;00m\u001b[33mcuda\u001b[39;49;00m\u001b[33m\"\u001b[39;49;00m \u001b[34mif\u001b[39;49;00m torch.cuda.is_available() \u001b[34melse\u001b[39;49;00m \u001b[33m\"\u001b[39;49;00m\u001b[33mcpu\u001b[39;49;00m\u001b[33m\"\u001b[39;49;00m)\r\n",
      "    \r\n",
      "    \u001b[34mif\u001b[39;49;00m model.word_dict \u001b[35mis\u001b[39;49;00m \u001b[36mNone\u001b[39;49;00m:\r\n",
      "        \u001b[34mraise\u001b[39;49;00m \u001b[36mException\u001b[39;49;00m(\u001b[33m'\u001b[39;49;00m\u001b[33mModel has not been loaded properly, no word_dict.\u001b[39;49;00m\u001b[33m'\u001b[39;49;00m)\r\n",
      "    \r\n",
      "    \u001b[37m# TODO: Process input_data so that it is ready to be sent to our model.\u001b[39;49;00m\r\n",
      "    \u001b[37m#       You should produce two variables:\u001b[39;49;00m\r\n",
      "    \u001b[37m#         data_X   - A sequence of length 500 which represents the converted review\u001b[39;49;00m\r\n",
      "    \u001b[37m#         data_len - The length of the review\u001b[39;49;00m\r\n",
      "\r\n",
      "    data_X, data_len = convert_and_pad(model.word_dict, review_to_words(input_data))\r\n",
      "\r\n",
      "    \u001b[37m# Using data_X and data_len we construct an appropriate input tensor. Remember\u001b[39;49;00m\r\n",
      "    \u001b[37m# that our model expects input data of the form 'len, review[500]'.\u001b[39;49;00m\r\n",
      "    data_pack = np.hstack((data_len, data_X))\r\n",
      "    data_pack = data_pack.reshape(\u001b[34m1\u001b[39;49;00m, -\u001b[34m1\u001b[39;49;00m)\r\n",
      "    \r\n",
      "    data = torch.from_numpy(data_pack)\r\n",
      "    data = data.to(device)\r\n",
      "\r\n",
      "    \u001b[37m# Make sure to put the model into evaluation mode\u001b[39;49;00m\r\n",
      "    model.eval()\r\n",
      "\r\n",
      "    \u001b[37m# TODO: Compute the result of applying the model to the input data. The variable `result` should\u001b[39;49;00m\r\n",
      "    \u001b[37m#       be a numpy array which contains a single integer which is either 1 or 0\u001b[39;49;00m\r\n",
      "\r\n",
      "    \r\n",
      "    \u001b[34mwith\u001b[39;49;00m torch.no_grad():\r\n",
      "        output = model.forward(data)\r\n",
      "        \r\n",
      "    result = np.round(output.numpy())\r\n",
      "\r\n",
      "    \u001b[34mreturn\u001b[39;49;00m result\r\n"
     ]
    }
   ],
   "source": [
    "!pygmentize serve/predict.py"
   ]
  },
  {
   "cell_type": "markdown",
   "metadata": {},
   "source": [
    "As mentioned earlier, the `model_fn` method is the same as the one provided in the training code and the `input_fn` and `output_fn` methods are very simple and your task will be to complete the `predict_fn` method. Make sure that you save the completed file as `predict.py` in the `serve` directory.\n",
    "\n",
    "**TODO**: Complete the `predict_fn()` method in the `serve/predict.py` file.\n",
    "Done"
   ]
  },
  {
   "cell_type": "markdown",
   "metadata": {},
   "source": [
    "### Deploying the model\n",
    "\n",
    "Now that the custom inference code has been written, we will create and deploy our model. To begin with, we need to construct a new PyTorchModel object which points to the model artifacts created during training and also points to the inference code that we wish to use. Then we can call the deploy method to launch the deployment container.\n",
    "\n",
    "**NOTE**: The default behaviour for a deployed PyTorch model is to assume that any input passed to the predictor is a `numpy` array. In our case we want to send a string so we need to construct a simple wrapper around the `RealTimePredictor` class to accomodate simple strings. In a more complicated situation you may want to provide a serialization object, for example if you wanted to sent image data."
   ]
  },
  {
   "cell_type": "code",
   "execution_count": 41,
   "metadata": {},
   "outputs": [
    {
     "name": "stdout",
     "output_type": "stream",
     "text": [
      "---------------!"
     ]
    }
   ],
   "source": [
    "from sagemaker.predictor import RealTimePredictor\n",
    "from sagemaker.pytorch import PyTorchModel\n",
    "\n",
    "class StringPredictor(RealTimePredictor):\n",
    "    def __init__(self, endpoint_name, sagemaker_session):\n",
    "        super(StringPredictor, self).__init__(endpoint_name, sagemaker_session, content_type='text/plain')\n",
    "\n",
    "model = PyTorchModel(model_data=estimator.model_data,\n",
    "                     role = role,\n",
    "                     framework_version='0.4.0',\n",
    "                     entry_point='predict.py',\n",
    "                     source_dir='serve',\n",
    "                     predictor_cls=StringPredictor)\n",
    "predictor = model.deploy(initial_instance_count=1, instance_type='ml.m4.xlarge')"
   ]
  },
  {
   "cell_type": "markdown",
   "metadata": {},
   "source": [
    "### Testing the model\n",
    "\n",
    "Now that we have deployed our model with the custom inference code, we should test to see if everything is working. Here we test our model by loading the first `250` positive and negative reviews and send them to the endpoint, then collect the results. The reason for only sending some of the data is that the amount of time it takes for our model to process the input and then perform inference is quite long and so testing the entire data set would be prohibitive."
   ]
  },
  {
   "cell_type": "code",
   "execution_count": 42,
   "metadata": {},
   "outputs": [],
   "source": [
    "import glob\n",
    "\n",
    "def test_reviews(data_dir='../data/aclImdb', stop=250):\n",
    "    \n",
    "    results = []\n",
    "    ground = []\n",
    "    \n",
    "    # We make sure to test both positive and negative reviews    \n",
    "    for sentiment in ['pos', 'neg']:\n",
    "        \n",
    "        path = os.path.join(data_dir, 'test', sentiment, '*.txt')\n",
    "        files = glob.glob(path)\n",
    "        \n",
    "        files_read = 0\n",
    "        \n",
    "        print('Starting ', sentiment, ' files')\n",
    "        \n",
    "        # Iterate through the files and send them to the predictor\n",
    "        for f in files:\n",
    "            with open(f) as review:\n",
    "                # First, we store the ground truth (was the review positive or negative)\n",
    "                if sentiment == 'pos':\n",
    "                    ground.append(1)\n",
    "                else:\n",
    "                    ground.append(0)\n",
    "                # Read in the review and convert to 'utf-8' for transmission via HTTP\n",
    "                review_input = review.read().encode('utf-8')\n",
    "                # Send the review to the predictor and store the results\n",
    "                results.append(float(predictor.predict(review_input)))\n",
    "                \n",
    "            # Sending reviews to our endpoint one at a time takes a while so we\n",
    "            # only send a small number of reviews\n",
    "            files_read += 1\n",
    "            if files_read == stop:\n",
    "                break\n",
    "            \n",
    "    return ground, results"
   ]
  },
  {
   "cell_type": "code",
   "execution_count": 43,
   "metadata": {},
   "outputs": [
    {
     "name": "stdout",
     "output_type": "stream",
     "text": [
      "Starting  pos  files\n",
      "Starting  neg  files\n"
     ]
    }
   ],
   "source": [
    "ground, results = test_reviews()"
   ]
  },
  {
   "cell_type": "code",
   "execution_count": 44,
   "metadata": {},
   "outputs": [
    {
     "data": {
      "text/plain": [
       "0.838"
      ]
     },
     "execution_count": 44,
     "metadata": {},
     "output_type": "execute_result"
    }
   ],
   "source": [
    "from sklearn.metrics import accuracy_score\n",
    "accuracy_score(ground, results)"
   ]
  },
  {
   "cell_type": "markdown",
   "metadata": {},
   "source": [
    "As an additional test, we can try sending the `test_review` that we looked at earlier."
   ]
  },
  {
   "cell_type": "code",
   "execution_count": 45,
   "metadata": {},
   "outputs": [
    {
     "data": {
      "text/plain": [
       "b'1.0'"
      ]
     },
     "execution_count": 45,
     "metadata": {},
     "output_type": "execute_result"
    }
   ],
   "source": [
    "predictor.predict(test_review)"
   ]
  },
  {
   "cell_type": "markdown",
   "metadata": {},
   "source": [
    "Now that we know our endpoint is working as expected, we can set up the web page that will interact with it. If you don't have time to finish the project now, make sure to skip down to the end of this notebook and shut down your endpoint. You can deploy it again when you come back."
   ]
  },
  {
   "cell_type": "markdown",
   "metadata": {},
   "source": [
    "## Step 7 (again): Use the model for the web app\n",
    "\n",
    "> **TODO:** This entire section and the next contain tasks for you to complete, mostly using the AWS console.\n",
    "\n",
    "So far we have been accessing our model endpoint by constructing a predictor object which uses the endpoint and then just using the predictor object to perform inference. What if we wanted to create a web app which accessed our model? The way things are set up currently makes that not possible since in order to access a SageMaker endpoint the app would first have to authenticate with AWS using an IAM role which included access to SageMaker endpoints. However, there is an easier way! We just need to use some additional AWS services.\n",
    "\n",
    "<img src=\"Web App Diagram.svg\">\n",
    "\n",
    "The diagram above gives an overview of how the various services will work together. On the far right is the model which we trained above and which is deployed using SageMaker. On the far left is our web app that collects a user's movie review, sends it off and expects a positive or negative sentiment in return.\n",
    "\n",
    "In the middle is where some of the magic happens. We will construct a Lambda function, which you can think of as a straightforward Python function that can be executed whenever a specified event occurs. We will give this function permission to send and recieve data from a SageMaker endpoint.\n",
    "\n",
    "Lastly, the method we will use to execute the Lambda function is a new endpoint that we will create using API Gateway. This endpoint will be a url that listens for data to be sent to it. Once it gets some data it will pass that data on to the Lambda function and then return whatever the Lambda function returns. Essentially it will act as an interface that lets our web app communicate with the Lambda function.\n",
    "\n",
    "### Setting up a Lambda function\n",
    "\n",
    "The first thing we are going to do is set up a Lambda function. This Lambda function will be executed whenever our public API has data sent to it. When it is executed it will receive the data, perform any sort of processing that is required, send the data (the review) to the SageMaker endpoint we've created and then return the result.\n",
    "\n",
    "#### Part A: Create an IAM Role for the Lambda function\n",
    "\n",
    "Since we want the Lambda function to call a SageMaker endpoint, we need to make sure that it has permission to do so. To do this, we will construct a role that we can later give the Lambda function.\n",
    "\n",
    "Using the AWS Console, navigate to the **IAM** page and click on **Roles**. Then, click on **Create role**. Make sure that the **AWS service** is the type of trusted entity selected and choose **Lambda** as the service that will use this role, then click **Next: Permissions**.\n",
    "\n",
    "In the search box type `sagemaker` and select the check box next to the **AmazonSageMakerFullAccess** policy. Then, click on **Next: Review**.\n",
    "\n",
    "Lastly, give this role a name. Make sure you use a name that you will remember later on, for example `LambdaSageMakerRole`. Then, click on **Create role**.\n",
    "\n",
    "#### Part B: Create a Lambda function\n",
    "\n",
    "Now it is time to actually create the Lambda function.\n",
    "\n",
    "Using the AWS Console, navigate to the AWS Lambda page and click on **Create a function**. When you get to the next page, make sure that **Author from scratch** is selected. Now, name your Lambda function, using a name that you will remember later on, for example `sentiment_analysis_func`. Make sure that the **Python 3.6** runtime is selected and then choose the role that you created in the previous part. Then, click on **Create Function**.\n",
    "\n",
    "On the next page you will see some information about the Lambda function you've just created. If you scroll down you should see an editor in which you can write the code that will be executed when your Lambda function is triggered. In our example, we will use the code below. \n",
    "\n",
    "```python\n",
    "# We need to use the low-level library to interact with SageMaker since the SageMaker API\n",
    "# is not available natively through Lambda.\n",
    "import boto3\n",
    "\n",
    "def lambda_handler(event, context):\n",
    "\n",
    "    # The SageMaker runtime is what allows us to invoke the endpoint that we've created.\n",
    "    runtime = boto3.Session().client('sagemaker-runtime')\n",
    "\n",
    "    # Now we use the SageMaker runtime to invoke our endpoint, sending the review we were given\n",
    "    response = runtime.invoke_endpoint(EndpointName = '**ENDPOINT NAME HERE**',    # The name of the endpoint we created\n",
    "                                       ContentType = 'text/plain',                 # The data format that is expected\n",
    "                                       Body = event['body'])                       # The actual review\n",
    "\n",
    "    # The response is an HTTP response whose body contains the result of our inference\n",
    "    result = response['Body'].read().decode('utf-8')\n",
    "\n",
    "    return {\n",
    "        'statusCode' : 200,\n",
    "        'headers' : { 'Content-Type' : 'text/plain', 'Access-Control-Allow-Origin' : '*' },\n",
    "        'body' : result\n",
    "    }\n",
    "```\n",
    "\n",
    "Once you have copy and pasted the code above into the Lambda code editor, replace the `**ENDPOINT NAME HERE**` portion with the name of the endpoint that we deployed earlier. You can determine the name of the endpoint using the code cell below."
   ]
  },
  {
   "cell_type": "code",
   "execution_count": 46,
   "metadata": {},
   "outputs": [
    {
     "data": {
      "text/plain": [
       "'sagemaker-pytorch-2020-05-16-14-00-03-034'"
      ]
     },
     "execution_count": 46,
     "metadata": {},
     "output_type": "execute_result"
    }
   ],
   "source": [
    "predictor.endpoint"
   ]
  },
  {
   "cell_type": "markdown",
   "metadata": {},
   "source": [
    "Once you have added the endpoint name to the Lambda function, click on **Save**. Your Lambda function is now up and running. Next we need to create a way for our web app to execute the Lambda function.\n",
    "\n",
    "### Setting up API Gateway\n",
    "\n",
    "Now that our Lambda function is set up, it is time to create a new API using API Gateway that will trigger the Lambda function we have just created.\n",
    "\n",
    "Using AWS Console, navigate to **Amazon API Gateway** and then click on **Get started**.\n",
    "\n",
    "On the next page, make sure that **New API** is selected and give the new api a name, for example, `sentiment_analysis_api`. Then, click on **Create API**.\n",
    "\n",
    "Now we have created an API, however it doesn't currently do anything. What we want it to do is to trigger the Lambda function that we created earlier.\n",
    "\n",
    "Select the **Actions** dropdown menu and click **Create Method**. A new blank method will be created, select its dropdown menu and select **POST**, then click on the check mark beside it.\n",
    "\n",
    "For the integration point, make sure that **Lambda Function** is selected and click on the **Use Lambda Proxy integration**. This option makes sure that the data that is sent to the API is then sent directly to the Lambda function with no processing. It also means that the return value must be a proper response object as it will also not be processed by API Gateway.\n",
    "\n",
    "Type the name of the Lambda function you created earlier into the **Lambda Function** text entry box and then click on **Save**. Click on **OK** in the pop-up box that then appears, giving permission to API Gateway to invoke the Lambda function you created.\n",
    "\n",
    "The last step in creating the API Gateway is to select the **Actions** dropdown and click on **Deploy API**. You will need to create a new Deployment stage and name it anything you like, for example `prod`.\n",
    "\n",
    "You have now successfully set up a public API to access your SageMaker model. Make sure to copy or write down the URL provided to invoke your newly created public API as this will be needed in the next step. This URL can be found at the top of the page, highlighted in blue next to the text **Invoke URL**."
   ]
  },
  {
   "cell_type": "markdown",
   "metadata": {},
   "source": [
    "## Step 4: Deploying our web app\n",
    "\n",
    "Now that we have a publicly available API, we can start using it in a web app. For our purposes, we have provided a simple static html file which can make use of the public api you created earlier.\n",
    "\n",
    "In the `website` folder there should be a file called `index.html`. Download the file to your computer and open that file up in a text editor of your choice. There should be a line which contains **\\*\\*REPLACE WITH PUBLIC API URL\\*\\***. Replace this string with the url that you wrote down in the last step and then save the file.\n",
    "\n",
    "Now, if you open `index.html` on your local computer, your browser will behave as a local web server and you can use the provided site to interact with your SageMaker model.\n",
    "\n",
    "If you'd like to go further, you can host this html file anywhere you'd like, for example using github or hosting a static site on Amazon's S3. Once you have done this you can share the link with anyone you'd like and have them play with it too!\n",
    "\n",
    "> **Important Note** In order for the web app to communicate with the SageMaker endpoint, the endpoint has to actually be deployed and running. This means that you are paying for it. Make sure that the endpoint is running when you want to use the web app but that you shut it down when you don't need it, otherwise you will end up with a surprisingly large AWS bill.\n",
    "\n",
    "**TODO:** Make sure that you include the edited `index.html` file in your project submission."
   ]
  },
  {
   "cell_type": "markdown",
   "metadata": {},
   "source": [
    "Now that your web app is working, trying playing around with it and see how well it works.\n",
    "\n",
    "**Question**: Give an example of a review that you entered into your web app. What was the predicted sentiment of your example review?"
   ]
  },
  {
   "cell_type": "markdown",
   "metadata": {},
   "source": [
    "**Answer:**\n",
    "Review 1: movie was bad\n",
    "Your review was NEGATIVE!\n",
    "\n",
    "Review 2: i wached one action movie and i was awesome\n",
    "Your review was POSITIVE!\n",
    "\n",
    "Review 3: i was bored from movie\n",
    "Your review was NEGATIVE!\n",
    "\n",
    "Review 4:raazi was a good movie\n",
    "Your review was POSITIVE!\n",
    "\n",
    "Review 5:sholay was all time hit\n",
    "Your review was POSITIVE!"
   ]
  },
  {
   "cell_type": "markdown",
   "metadata": {},
   "source": [
    "### Delete the endpoint\n",
    "\n",
    "Remember to always shut down your endpoint if you are no longer using it. You are charged for the length of time that the endpoint is running so if you forget and leave it on you could end up with an unexpectedly large bill."
   ]
  },
  {
   "cell_type": "code",
   "execution_count": 47,
   "metadata": {},
   "outputs": [],
   "source": [
    "predictor.delete_endpoint()"
   ]
  },
  {
   "cell_type": "code",
   "execution_count": null,
   "metadata": {},
   "outputs": [],
   "source": []
  }
 ],
 "metadata": {
  "kernelspec": {
   "display_name": "conda_pytorch_p36",
   "language": "python",
   "name": "conda_pytorch_p36"
  },
  "language_info": {
   "codemirror_mode": {
    "name": "ipython",
    "version": 3
   },
   "file_extension": ".py",
   "mimetype": "text/x-python",
   "name": "python",
   "nbconvert_exporter": "python",
   "pygments_lexer": "ipython3",
   "version": "3.6.5"
  }
 },
 "nbformat": 4,
 "nbformat_minor": 2
}
